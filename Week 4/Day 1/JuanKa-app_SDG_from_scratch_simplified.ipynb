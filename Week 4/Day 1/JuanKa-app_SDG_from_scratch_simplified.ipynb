{
 "cells": [
  {
   "cell_type": "code",
   "execution_count": 37,
   "metadata": {},
   "outputs": [],
   "source": [
    "__author__ = \"JuanKa\"\n",
    "\n",
    "import random"
   ]
  },
  {
   "cell_type": "code",
   "execution_count": 38,
   "metadata": {},
   "outputs": [],
   "source": [
    "import os\n",
    "import openai\n",
    "from openai import OpenAI\n",
    "\n",
    "with open('../../../apikeys/api_openai_aimakerspace.key', 'r') as file:\n",
    "    api_key = file.read().strip()"
   ]
  },
  {
   "cell_type": "code",
   "execution_count": 62,
   "metadata": {},
   "outputs": [],
   "source": [
    "from IPython.display import display, Markdown\n",
    "\n",
    "class PrettyDisplay:\n",
    "    __message__ = \"\"\n",
    "    def buffer(content: str) -> None:\n",
    "        PrettyDisplay.__message__ += content + \"\\n\"\n",
    "    def flush() -> str:\n",
    "        tmp = PrettyDisplay.__message__\n",
    "        PrettyDisplay.__message__ = \"\"\n",
    "        display(Markdown(tmp))\n",
    "\n",
    "def pretty_print(message: str) -> str:\n",
    "    display(Markdown(message))"
   ]
  },
  {
   "cell_type": "code",
   "execution_count": 63,
   "metadata": {},
   "outputs": [
    {
     "data": {
      "text/markdown": [
       "a\n",
       "- b\n",
       "- **c**\n"
      ],
      "text/plain": [
       "<IPython.core.display.Markdown object>"
      ]
     },
     "metadata": {},
     "output_type": "display_data"
    },
    {
     "data": {
      "text/markdown": [
       "d\n"
      ],
      "text/plain": [
       "<IPython.core.display.Markdown object>"
      ]
     },
     "metadata": {},
     "output_type": "display_data"
    }
   ],
   "source": [
    "PrettyDisplay.buffer(\"a\")\n",
    "PrettyDisplay.buffer('- b')\n",
    "PrettyDisplay.buffer(\"- **c**\")\n",
    "PrettyDisplay.flush()\n",
    "PrettyDisplay.buffer(\"d\")\n",
    "PrettyDisplay.flush()"
   ]
  },
  {
   "cell_type": "code",
   "execution_count": 80,
   "metadata": {},
   "outputs": [],
   "source": [
    "# Define the class with the gpt() function\n",
    "class EvolutionGenerator:\n",
    "    def __init__(self):\n",
    "        self.openai_client = OpenAI(api_key=api_key)\n",
    "\n",
    "    def gpt(self, prompt):\n",
    "        try:\n",
    "            response = self.openai_client.chat.completions.create(\n",
    "                messages=[{\"role\": \"system\", \"content\": \"\"}, {\"role\": \"user\", \"content\": prompt}],\n",
    "                temperature=0,\n",
    "                top_p=1,\n",
    "                frequency_penalty=0,\n",
    "                presence_penalty=0,\n",
    "                stop=None,\n",
    "                model=\"gpt-4o\",\n",
    "            )\n",
    "            result = response.choices[0].message.content\n",
    "            return result\n",
    "        except Exception as e:\n",
    "            print(f\"An error occurred on GPT: {e}\")\n",
    "            return None\n",
    "\n",
    "    # Step 1: Document Chunking\n",
    "    def chunk_document(self, doc, chunk_size=100):\n",
    "        \"\"\"Splits the document into smaller chunks of text.\"\"\"\n",
    "        words = doc.split()\n",
    "        chunks = [' '.join(words[i:i + chunk_size]) for i in range(0, len(words), chunk_size)]\n",
    "        return chunks\n",
    "\n",
    "    # Step 2: Generating Simple Questions using GPT\n",
    "    def generate_simple_questions(self, chunks):\n",
    "        \"\"\"Generates simple questions for each chunk using GPT.\"\"\"\n",
    "        questions = []\n",
    "        for chunk in chunks:\n",
    "            prompt = f\"Generate a simple factual question based on the following text:\\n\\n{chunk}\"\n",
    "            question = self.gpt(prompt)\n",
    "            if question:\n",
    "                questions.append(question.strip())\n",
    "        return questions\n",
    "\n",
    "    # Step 3: Applying Evolutions using GPT\n",
    "    def apply_evolutions(self, question):\n",
    "        \"\"\"Generates evolved versions of a question using GPT.\"\"\"\n",
    "        evolutions = []\n",
    "\n",
    "        # Evolution 1: Complexity Evolution\n",
    "        complexity_prompt = f\"Transform the following simple question into a more complex reasoning question that requires multi-step logic or inference:\\n\\n{question}\"\n",
    "        complex_question = self.gpt(complexity_prompt)\n",
    "        if complex_question:\n",
    "            evolutions.append(complex_question.strip())\n",
    "\n",
    "        # Evolution 2: Compression Evolution\n",
    "        compression_prompt = f\"Rewrite the following question to be more concise, while retaining the original meaning:\\n\\n{question}\"\n",
    "        compressed_question = self.gpt(compression_prompt)\n",
    "        if compressed_question:\n",
    "            evolutions.append(compressed_question.strip())\n",
    "\n",
    "        # Evolution 3: Rephrasing Evolution\n",
    "        rephrasing_prompt = f\"Rephrase the following question in a different way to ask the same information:\\n\\n{question}\"\n",
    "        rephrased_question = self.gpt(rephrasing_prompt)\n",
    "        if rephrased_question:\n",
    "            evolutions.append(rephrased_question.strip())\n",
    "\n",
    "        return evolutions\n",
    "\n",
    "    # Step 4: Critic function to validate evolved questions\n",
    "    def critic(self, original_question, evolved_question):\n",
    "        \"\"\"Uses GPT to evaluate if the evolved question is valid.\"\"\"\n",
    "        critic_prompt = f\"\"\"\n",
    "        Evaluate the following evolved question to determine if it is sufficiently different from the original question while conveying the same meaning.\n",
    "        Original Question: \"{original_question}\"\n",
    "        Evolved Question: \"{evolved_question}\"\n",
    "\n",
    "        Answer \"VALID\" if the evolved question meets both criteria. Answer \"INVALID\" if it fails either criterion.\n",
    "        \"\"\"\n",
    "        result = self.gpt(critic_prompt)\n",
    "        return result.strip().upper() == \"VALID\"\n",
    "\n",
    "    # Main function to generate evolved questions\n",
    "    def generate_evolved_questions(self, questions):\n",
    "        \"\"\"Generates a set of evolved questions from simple ones.\"\"\"\n",
    "        all_evolved_questions = []\n",
    "        for question in questions:\n",
    "            evolved_questions = self.apply_evolutions(question)\n",
    "            all_evolved_questions.append((question, evolved_questions))  # Store original and evolved pairs\n",
    "        return all_evolved_questions\n",
    "\n",
    "    # New function to validate evolved questions\n",
    "    def validate_evolved_questions(self, evolved_questions):\n",
    "        \"\"\"Validates evolved questions using the critic function.\"\"\"\n",
    "        valid_evolved_questions = []\n",
    "        for original_question, evolutions in evolved_questions:\n",
    "            # pretty_print(f\"\\nOriginal Question: {original_question}\")\n",
    "            PrettyDisplay.buffer(f\"\\nOriginal Question: {original_question}\")\n",
    "            for evolved_question in evolutions:\n",
    "                is_valid = self.critic(original_question, evolved_question)\n",
    "                # pretty_print(f\"  Evolved Question: {evolved_question}\")\n",
    "                PrettyDisplay.buffer(f\"- Evolved Question {evolved_question}\")\n",
    "                # pretty_print(f\"    -> Validity: {'VALID' if is_valid else 'INVALID'}\")\n",
    "                PrettyDisplay.buffer(f\"  - Validity: {'VALID' if is_valid else 'INVALID'}\")\n",
    "                if is_valid:\n",
    "                    valid_evolved_questions.append(evolved_question)\n",
    "            PrettyDisplay.flush()\n",
    "        return valid_evolved_questions"
   ]
  },
  {
   "cell_type": "code",
   "execution_count": 81,
   "metadata": {},
   "outputs": [],
   "source": [
    "generator = EvolutionGenerator()"
   ]
  },
  {
   "cell_type": "code",
   "execution_count": 82,
   "metadata": {},
   "outputs": [],
   "source": [
    "# Sample document as a string\n",
    "document = \"\"\"\n",
    "Forward-Looking Statements\n",
    "This Quarterly Report on Form 10-Q contains forward-looking statements based on management’s beliefs and assumptions and on information currently\n",
    "available to management. In some cases, you can identify forward-looking statements by terms such as “may,” “will,” “should,” “could,” “goal,” “would,” “expect,”\n",
    "“plan,” “anticipate,” “believe,” “estimate,” “project,” “predict,” “potential” and similar expressions intended to identify forward-looking statements. These\n",
    "statements involve known and unknown risks, uncertainties and other factors, which may cause our actual results, performance, time frames or achievements to\n",
    "be materially different from any future results, performance, time frames or achievements expressed or implied by the forward-looking statements. We discuss\n",
    "many of these risks, uncertainties and other factors in this Quarterly Report on Form 10-Q and our Annual Report on Form 10-K for the fiscal year ended\n",
    "January 28, 2024 in greater detail under the heading “Risk Factors” of such reports. Given these risks, uncertainties, and other factors, you should not place\n",
    "undue reliance on these forward-looking statements. Also, these forward-looking statements represent our estimates and assumptions only as of the date of this\n",
    "filing. You should read this Quarterly Report on Form 10-Q completely and understand that our actual future results may be materially different from what we\n",
    "expect. We hereby qualify our forward-looking statements by these cautionary statements. Except as required by law, we assume no obligation to update these\n",
    "forward-looking statements publicly, or to update the reasons actual results could differ materially from those anticipated in these forward-looking statements,\n",
    "even if new information becomes available in the future.\n",
    "\"\"\""
   ]
  },
  {
   "cell_type": "code",
   "execution_count": 83,
   "metadata": {},
   "outputs": [
    {
     "data": {
      "text/plain": [
       "253"
      ]
     },
     "execution_count": 83,
     "metadata": {},
     "output_type": "execute_result"
    }
   ],
   "source": [
    "len(document.split())"
   ]
  },
  {
   "cell_type": "code",
   "execution_count": 84,
   "metadata": {},
   "outputs": [
    {
     "name": "stdout",
     "output_type": "stream",
     "text": [
      "Document Chunks:\n"
     ]
    },
    {
     "data": {
      "text/markdown": [
       "Forward-Looking Statements This Quarterly Report on Form 10-Q contains forward-looking statements based on management’s beliefs and assumptions and on information currently available to management. In some cases, you can identify forward-looking statements by terms such as “may,” “will,” “should,” “could,” “goal,” “would,” “expect,” “plan,” “anticipate,” “believe,” “estimate,” “project,” “predict,” “potential” and similar expressions intended to identify forward-looking statements. These statements involve known and unknown risks, uncertainties and other factors, which may cause our actual results, performance, time frames or achievements to be materially different from any future results, performance, time frames or achievements expressed or implied by the forward-looking statements."
      ],
      "text/plain": [
       "<IPython.core.display.Markdown object>"
      ]
     },
     "metadata": {},
     "output_type": "display_data"
    },
    {
     "data": {
      "text/markdown": [
       "We discuss many of these risks, uncertainties and other factors in this Quarterly Report on Form 10-Q and our Annual Report on Form 10-K for the fiscal year ended January 28, 2024 in greater detail under the heading “Risk Factors” of such reports. Given these risks, uncertainties, and other factors, you should not place undue reliance on these forward-looking statements. Also, these forward-looking statements represent our estimates and assumptions only as of the date of this filing. You should read this Quarterly Report on Form 10-Q completely and understand that our actual future results may be materially different from what"
      ],
      "text/plain": [
       "<IPython.core.display.Markdown object>"
      ]
     },
     "metadata": {},
     "output_type": "display_data"
    },
    {
     "data": {
      "text/markdown": [
       "we expect. We hereby qualify our forward-looking statements by these cautionary statements. Except as required by law, we assume no obligation to update these forward-looking statements publicly, or to update the reasons actual results could differ materially from those anticipated in these forward-looking statements, even if new information becomes available in the future."
      ],
      "text/plain": [
       "<IPython.core.display.Markdown object>"
      ]
     },
     "metadata": {},
     "output_type": "display_data"
    }
   ],
   "source": [
    "# Step 1: Chunk the document\n",
    "chunks = generator.chunk_document(document)\n",
    "# print(\"Document Chunks:\", chunks)\n",
    "# print(len(chunks))\n",
    "print(\"Document Chunks:\")\n",
    "for chunk in chunks:\n",
    "    pretty_print(chunk)"
   ]
  },
  {
   "cell_type": "code",
   "execution_count": 85,
   "metadata": {},
   "outputs": [
    {
     "name": "stdout",
     "output_type": "stream",
     "text": [
      "Simple Questions:\n"
     ]
    },
    {
     "data": {
      "text/markdown": [
       "What terms are used to identify forward-looking statements in the Quarterly Report on Form 10-Q?"
      ],
      "text/plain": [
       "<IPython.core.display.Markdown object>"
      ]
     },
     "metadata": {},
     "output_type": "display_data"
    },
    {
     "data": {
      "text/markdown": [
       "On what date did the fiscal year end for the Annual Report on Form 10-K mentioned in the text?"
      ],
      "text/plain": [
       "<IPython.core.display.Markdown object>"
      ]
     },
     "metadata": {},
     "output_type": "display_data"
    },
    {
     "data": {
      "text/markdown": [
       "What is the company's obligation regarding updating forward-looking statements publicly?"
      ],
      "text/plain": [
       "<IPython.core.display.Markdown object>"
      ]
     },
     "metadata": {},
     "output_type": "display_data"
    }
   ],
   "source": [
    "# Step 2: Generate simple questions from chunks\n",
    "simple_questions = generator.generate_simple_questions(chunks)\n",
    "# print(\"\\nSimple Questions:\", simple_questions)\n",
    "print(\"Simple Questions:\")\n",
    "for question in simple_questions:\n",
    "    pretty_print(question)"
   ]
  },
  {
   "cell_type": "code",
   "execution_count": 86,
   "metadata": {},
   "outputs": [
    {
     "name": "stdout",
     "output_type": "stream",
     "text": [
      "Evolved Questions:\n"
     ]
    },
    {
     "data": {
      "text/markdown": [
       "Original Question: What terms are used to identify forward-looking statements in the Quarterly Report on Form 10-Q?"
      ],
      "text/plain": [
       "<IPython.core.display.Markdown object>"
      ]
     },
     "metadata": {},
     "output_type": "display_data"
    },
    {
     "data": {
      "text/markdown": [
       "  - Evolved: In the context of analyzing a company's Quarterly Report on Form 10-Q, how would you identify and interpret the specific language and terms that indicate forward-looking statements, and what implications might these statements have for the company's future performance and investor decision-making?"
      ],
      "text/plain": [
       "<IPython.core.display.Markdown object>"
      ]
     },
     "metadata": {},
     "output_type": "display_data"
    },
    {
     "data": {
      "text/markdown": [
       "  - Evolved: What terms identify forward-looking statements in the Form 10-Q?"
      ],
      "text/plain": [
       "<IPython.core.display.Markdown object>"
      ]
     },
     "metadata": {},
     "output_type": "display_data"
    },
    {
     "data": {
      "text/markdown": [
       "  - Evolved: Which phrases or terminology are employed to denote forward-looking statements in the Quarterly Report on Form 10-Q?"
      ],
      "text/plain": [
       "<IPython.core.display.Markdown object>"
      ]
     },
     "metadata": {},
     "output_type": "display_data"
    },
    {
     "data": {
      "text/markdown": [
       "Original Question: On what date did the fiscal year end for the Annual Report on Form 10-K mentioned in the text?"
      ],
      "text/plain": [
       "<IPython.core.display.Markdown object>"
      ]
     },
     "metadata": {},
     "output_type": "display_data"
    },
    {
     "data": {
      "text/markdown": [
       "  - Evolved: Given that the Annual Report on Form 10-K typically covers a company's financial performance over a fiscal year, and considering that companies may have different fiscal year-end dates, how would you determine the specific fiscal year-end date for the company mentioned in the text if you know that the report was filed on March 1st and companies are required to file their Form 10-K within 60 days of the fiscal year-end?"
      ],
      "text/plain": [
       "<IPython.core.display.Markdown object>"
      ]
     },
     "metadata": {},
     "output_type": "display_data"
    },
    {
     "data": {
      "text/markdown": [
       "  - Evolved: What is the fiscal year-end date for the Form 10-K Annual Report?"
      ],
      "text/plain": [
       "<IPython.core.display.Markdown object>"
      ]
     },
     "metadata": {},
     "output_type": "display_data"
    },
    {
     "data": {
      "text/markdown": [
       "  - Evolved: What was the fiscal year-end date for the Annual Report on Form 10-K referenced in the text?"
      ],
      "text/plain": [
       "<IPython.core.display.Markdown object>"
      ]
     },
     "metadata": {},
     "output_type": "display_data"
    },
    {
     "data": {
      "text/markdown": [
       "Original Question: What is the company's obligation regarding updating forward-looking statements publicly?"
      ],
      "text/plain": [
       "<IPython.core.display.Markdown object>"
      ]
     },
     "metadata": {},
     "output_type": "display_data"
    },
    {
     "data": {
      "text/markdown": [
       "  - Evolved: Given the company's issuance of forward-looking statements in its financial reports, analyze the legal and ethical obligations the company has to update these statements publicly. Consider the potential impact on investors, market stability, and regulatory compliance, and discuss the steps the company should take to ensure transparency and accuracy in its communications."
      ],
      "text/plain": [
       "<IPython.core.display.Markdown object>"
      ]
     },
     "metadata": {},
     "output_type": "display_data"
    },
    {
     "data": {
      "text/markdown": [
       "  - Evolved: What is the company's obligation to update forward-looking statements publicly?"
      ],
      "text/plain": [
       "<IPython.core.display.Markdown object>"
      ]
     },
     "metadata": {},
     "output_type": "display_data"
    },
    {
     "data": {
      "text/markdown": [
       "  - Evolved: What responsibility does the company have to publicly update forward-looking statements?"
      ],
      "text/plain": [
       "<IPython.core.display.Markdown object>"
      ]
     },
     "metadata": {},
     "output_type": "display_data"
    }
   ],
   "source": [
    "# Step 3: Apply evolutions to generate complex questions\n",
    "evolved_questions = generator.generate_evolved_questions(simple_questions)\n",
    "print(\"Evolved Questions:\")\n",
    "for original, evolved in evolved_questions:\n",
    "    pretty_print(f\"Original Question: {original}\")\n",
    "    for eq in evolved:\n",
    "        pretty_print(f\"  - Evolved: {eq}\")"
   ]
  },
  {
   "cell_type": "code",
   "execution_count": 87,
   "metadata": {},
   "outputs": [
    {
     "name": "stdout",
     "output_type": "stream",
     "text": [
      "Validating Evolved Questions:\n"
     ]
    },
    {
     "data": {
      "text/markdown": [
       "\n",
       "Original Question: What terms are used to identify forward-looking statements in the Quarterly Report on Form 10-Q?\n",
       "- Evolved Question In the context of analyzing a company's Quarterly Report on Form 10-Q, how would you identify and interpret the specific language and terms that indicate forward-looking statements, and what implications might these statements have for the company's future performance and investor decision-making?\n",
       "  - Validity: INVALID\n",
       "- Evolved Question What terms identify forward-looking statements in the Form 10-Q?\n",
       "  - Validity: VALID\n",
       "- Evolved Question Which phrases or terminology are employed to denote forward-looking statements in the Quarterly Report on Form 10-Q?\n",
       "  - Validity: VALID\n"
      ],
      "text/plain": [
       "<IPython.core.display.Markdown object>"
      ]
     },
     "metadata": {},
     "output_type": "display_data"
    },
    {
     "data": {
      "text/markdown": [
       "\n",
       "Original Question: On what date did the fiscal year end for the Annual Report on Form 10-K mentioned in the text?\n",
       "- Evolved Question Given that the Annual Report on Form 10-K typically covers a company's financial performance over a fiscal year, and considering that companies may have different fiscal year-end dates, how would you determine the specific fiscal year-end date for the company mentioned in the text if you know that the report was filed on March 1st and companies are required to file their Form 10-K within 60 days of the fiscal year-end?\n",
       "  - Validity: VALID\n",
       "- Evolved Question What is the fiscal year-end date for the Form 10-K Annual Report?\n",
       "  - Validity: VALID\n",
       "- Evolved Question What was the fiscal year-end date for the Annual Report on Form 10-K referenced in the text?\n",
       "  - Validity: VALID\n"
      ],
      "text/plain": [
       "<IPython.core.display.Markdown object>"
      ]
     },
     "metadata": {},
     "output_type": "display_data"
    },
    {
     "data": {
      "text/markdown": [
       "\n",
       "Original Question: What is the company's obligation regarding updating forward-looking statements publicly?\n",
       "- Evolved Question Given the company's issuance of forward-looking statements in its financial reports, analyze the legal and ethical obligations the company has to update these statements publicly. Consider the potential impact on investors, market stability, and regulatory compliance, and discuss the steps the company should take to ensure transparency and accuracy in its communications.\n",
       "  - Validity: VALID\n",
       "- Evolved Question What is the company's obligation to update forward-looking statements publicly?\n",
       "  - Validity: VALID\n",
       "- Evolved Question What responsibility does the company have to publicly update forward-looking statements?\n",
       "  - Validity: VALID\n"
      ],
      "text/plain": [
       "<IPython.core.display.Markdown object>"
      ]
     },
     "metadata": {},
     "output_type": "display_data"
    }
   ],
   "source": [
    "# Step 4: Validate evolved questions using the critic function\n",
    "print(\"Validating Evolved Questions:\")\n",
    "valid_evolved_questions = generator.validate_evolved_questions(evolved_questions)"
   ]
  },
  {
   "cell_type": "code",
   "execution_count": 89,
   "metadata": {},
   "outputs": [
    {
     "data": {
      "text/markdown": [
       "Valid Evolved Questions:\n",
       "- What terms identify forward-looking statements in the Form 10-Q?\n",
       "- Which phrases or terminology are employed to denote forward-looking statements in the Quarterly Report on Form 10-Q?\n",
       "- Given that the Annual Report on Form 10-K typically covers a company's financial performance over a fiscal year, and considering that companies may have different fiscal year-end dates, how would you determine the specific fiscal year-end date for the company mentioned in the text if you know that the report was filed on March 1st and companies are required to file their Form 10-K within 60 days of the fiscal year-end?\n",
       "- What is the fiscal year-end date for the Form 10-K Annual Report?\n",
       "- What was the fiscal year-end date for the Annual Report on Form 10-K referenced in the text?\n",
       "- Given the company's issuance of forward-looking statements in its financial reports, analyze the legal and ethical obligations the company has to update these statements publicly. Consider the potential impact on investors, market stability, and regulatory compliance, and discuss the steps the company should take to ensure transparency and accuracy in its communications.\n",
       "- What is the company's obligation to update forward-looking statements publicly?\n",
       "- What responsibility does the company have to publicly update forward-looking statements?\n"
      ],
      "text/plain": [
       "<IPython.core.display.Markdown object>"
      ]
     },
     "metadata": {},
     "output_type": "display_data"
    }
   ],
   "source": [
    "PrettyDisplay.buffer(\"Valid Evolved Questions:\")\n",
    "for valid_question in valid_evolved_questions:\n",
    "    PrettyDisplay.buffer(f\"- {valid_question}\")\n",
    "PrettyDisplay.flush()"
   ]
  }
 ],
 "metadata": {
  "kernelspec": {
   "display_name": "Python 3",
   "language": "python",
   "name": "python3"
  },
  "language_info": {
   "codemirror_mode": {
    "name": "ipython",
    "version": 3
   },
   "file_extension": ".py",
   "mimetype": "text/x-python",
   "name": "python",
   "nbconvert_exporter": "python",
   "pygments_lexer": "ipython3",
   "version": "3.11.9"
  }
 },
 "nbformat": 4,
 "nbformat_minor": 2
}
