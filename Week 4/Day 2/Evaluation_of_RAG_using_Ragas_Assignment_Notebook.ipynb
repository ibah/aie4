{
  "cells": [
    {
      "cell_type": "markdown",
      "metadata": {
        "id": "wa8ykQk92aLX"
      },
      "source": [
        "# Evaluation of RAG Using Ragas\n",
        "\n",
        "In the following notebook we'll explore how to evaluate RAG pipelines using a powerful open-source tool called \"Ragas\". This will give us tools to evaluate component-wise metrics, as well as end-to-end metrics about the performance of our RAG pipelines.\n",
        "\n",
        "In the following notebook we'll complete the following tasks:\n",
        "\n",
        "The only way to get started is to get started - so let's grab our dependencies for the day!\n",
        "\n",
        "> NOTE: Using this notebook as presented will incur a charge of ~$3USD from OpenAI usage.\n",
        "\n",
        "- 🤝 Breakout Room #1\n",
        "  1. Task 1: Installing Required Libraries\n",
        "  2. Task 2: Set Environment Variables\n",
        "  3. Task 3: Creating a Simple RAG Pipeline with LangChain v.0.2.0\n",
        "  4. Task 4: Synthetic Dataset Generation for Evaluation using Ragas (Optional)\n",
        "\n",
        "- 🤝 Breakout Room #2\n",
        "  1. Task 1: Evaluating our Pipeline with Ragas\n",
        "  2. Task 2: Testing OpenAI's Claim\n",
        "  3. Task 3: Selecting an Advanced Retriever and Evaluating\n",
        "\n",
        "> NOTE: This Notebook *does* contain a bonus challenge, outlined at the bottom of the notebook, which you can complete instead of the notebook for full marks on the assignment."
      ]
    },
    {
      "cell_type": "markdown",
      "metadata": {
        "id": "8h4yh6f7q9uN"
      },
      "source": [
        "## Motivation\n",
        "\n",
        "A claim, made by OpenAI, is that their `text-embedding-3-small` is better (generally) than their `text-embedding-ada-002` model.\n",
        "\n",
        "Here's some passages from their [blog](https://openai.com/blog/new-embedding-models-and-api-updates) about the `text-embedding-3` release:\n",
        "\n",
        "> `text-embedding-3-small` is our new highly efficient embedding model and provides a significant upgrade over its predecessor, the `text-embedding-ada-002` model...\n",
        "\n",
        "> **Stronger performance.** Comparing `text-embedding-ada-002` to `text-embedding-3-small`, the average score on a commonly used benchmark for multi-language retrieval ([MIRACL](https://github.com/project-miracl/miracl)) has increased from 31.4% to 44.0%, while the average score on a commonly used benchmark for English tasks ([MTEB](https://github.com/embeddings-benchmark/mteb)) has increased from 61.0% to 62.3%.\n",
        "\n",
        "Well, with a library like Ragas - we can put that claim to the test!\n",
        "\n",
        "If what they claim is true - we should see an increase on related metrics by using the new embedding model!"
      ]
    },
    {
      "cell_type": "markdown",
      "metadata": {
        "id": "wAH1znJ2pIp3"
      },
      "source": [
        "# 🤝 Breakout Room Part #1"
      ]
    },
    {
      "cell_type": "markdown",
      "metadata": {
        "id": "hpkXAmMZpLhm"
      },
      "source": [
        "## Task 1: Installing Required Libraries\n",
        "\n",
        "A reminder that one of the [key features](https://python.langchain.com/v0.2/docs/versions/v0_2/) of LangChain v0.2.0 is the compartmentalization of the various LangChain ecosystem packages!\n",
        "\n",
        "So let's begin grabbing all of our LangChain related packages!"
      ]
    },
    {
      "cell_type": "code",
      "execution_count": 154,
      "metadata": {
        "colab": {
          "base_uri": "https://localhost:8080/"
        },
        "id": "5BN13TZlSCv4",
        "outputId": "424a6920-0cea-4e28-dce0-3de6f0a4cc3c"
      },
      "outputs": [
        {
          "name": "stdout",
          "output_type": "stream",
          "text": [
            "^C\n",
            "Traceback (most recent call last):\n",
            "  File \"/home/user/miniconda3/envs/aie4s4/bin/pip\", line 11, in <module>\n",
            "    sys.exit(main())\n",
            "             ^^^^^^\n",
            "  File \"/home/user/miniconda3/envs/aie4s4/lib/python3.11/site-packages/pip/_internal/cli/main.py\", line 78, in main\n",
            "    command = create_command(cmd_name, isolated=(\"--isolated\" in cmd_args))\n",
            "              ^^^^^^^^^^^^^^^^^^^^^^^^^^^^^^^^^^^^^^^^^^^^^^^^^^^^^^^^^^^^^\n",
            "  File \"/home/user/miniconda3/envs/aie4s4/lib/python3.11/site-packages/pip/_internal/commands/__init__.py\", line 114, in create_command\n",
            "    module = importlib.import_module(module_path)\n",
            "             ^^^^^^^^^^^^^^^^^^^^^^^^^^^^^^^^^^^^\n",
            "  File \"/home/user/miniconda3/envs/aie4s4/lib/python3.11/importlib/__init__.py\", line 126, in import_module\n",
            "    return _bootstrap._gcd_import(name[level:], package, level)\n",
            "           ^^^^^^^^^^^^^^^^^^^^^^^^^^^^^^^^^^^^^^^^^^^^^^^^^^^^\n",
            "  File \"<frozen importlib._bootstrap>\", line 1204, in _gcd_import\n",
            "  File \"<frozen importlib._bootstrap>\", line 1176, in _find_and_load\n",
            "  File \"<frozen importlib._bootstrap>\", line 1147, in _find_and_load_unlocked\n",
            "  File \"<frozen importlib._bootstrap>\", line 690, in _load_unlocked\n",
            "  File \"<frozen importlib._bootstrap_external>\", line 940, in exec_module\n",
            "  File \"<frozen importlib._bootstrap>\", line 241, in _call_with_frames_removed\n",
            "  File \"/home/user/miniconda3/envs/aie4s4/lib/python3.11/site-packages/pip/_internal/commands/install.py\", line 16, in <module>\n",
            "    from pip._internal.cli.req_command import (\n",
            "  File \"/home/user/miniconda3/envs/aie4s4/lib/python3.11/site-packages/pip/_internal/cli/req_command.py\", line 24, in <module>\n",
            "    from pip._internal.operations.prepare import RequirementPreparer\n",
            "  File \"/home/user/miniconda3/envs/aie4s4/lib/python3.11/site-packages/pip/_internal/operations/prepare.py\", line 16, in <module>\n",
            "    from pip._internal.distributions import make_distribution_for_install_requirement\n",
            "  File \"/home/user/miniconda3/envs/aie4s4/lib/python3.11/site-packages/pip/_internal/distributions/__init__.py\", line 2, in <module>\n",
            "    from pip._internal.distributions.sdist import SourceDistribution\n",
            "  File \"<frozen importlib._bootstrap>\", line 1176, in _find_and_load\n",
            "  File \"<frozen importlib._bootstrap>\", line 1147, in _find_and_load_unlocked\n",
            "  File \"<frozen importlib._bootstrap>\", line 690, in _load_unlocked\n",
            "  File \"<frozen importlib._bootstrap_external>\", line 936, in exec_module\n",
            "  File \"<frozen importlib._bootstrap_external>\", line 1032, in get_code\n",
            "  File \"<frozen importlib._bootstrap_external>\", line 1130, in get_data\n",
            "KeyboardInterrupt\n"
          ]
        }
      ],
      "source": [
        "!pip install -U -q langchain langchain-openai langchain_core langchain-community langchainhub openai langchain-qdrant"
      ]
    },
    {
      "cell_type": "markdown",
      "metadata": {
        "id": "fm7gXsD6pqG0"
      },
      "source": [
        "We'll also get the \"star of the show\" today, which is Ragas!"
      ]
    },
    {
      "cell_type": "code",
      "execution_count": 2,
      "metadata": {
        "colab": {
          "base_uri": "https://localhost:8080/"
        },
        "id": "zvAvDNWBpjQ1",
        "outputId": "af63e166-d8b2-4c1d-ae92-9c9583b17cd8"
      },
      "outputs": [],
      "source": [
        "!pip install -qU ragas"
      ]
    },
    {
      "cell_type": "markdown",
      "metadata": {
        "id": "L9q6Z9oTpw3X"
      },
      "source": [
        "We'll be leveraging [QDrant](https://qdrant.tech/) again as our LangChain `VectorStore`.\n",
        "\n",
        "We'll also install `pymupdf` and its dependencies which will allow us to load PDFs using the `PyMuPDFLoader` in the `langchain-community` package!"
      ]
    },
    {
      "cell_type": "code",
      "execution_count": 3,
      "metadata": {
        "colab": {
          "base_uri": "https://localhost:8080/"
        },
        "id": "sAJK95napn8I",
        "outputId": "8143e80f-aaed-4c32-968f-2668ccdd61af"
      },
      "outputs": [],
      "source": [
        "!pip install -qU qdrant-client pymupdf pandas"
      ]
    },
    {
      "cell_type": "code",
      "execution_count": 4,
      "metadata": {},
      "outputs": [],
      "source": [
        "from IPython.display import display, Markdown\n",
        "\n",
        "def pretty_print(message: str) -> str:\n",
        "    display(Markdown(message))"
      ]
    },
    {
      "cell_type": "markdown",
      "metadata": {
        "id": "0_C2JvG1qO3h"
      },
      "source": [
        "## Task 2: Set Environment Variables\n",
        "\n",
        "Let's set up our OpenAI API key so we can leverage their API later on."
      ]
    },
    {
      "cell_type": "code",
      "execution_count": 5,
      "metadata": {
        "colab": {
          "base_uri": "https://localhost:8080/"
        },
        "id": "8Lhqp5rUThG-",
        "outputId": "324720ff-e540-4608-ebe7-a64dddd24e13"
      },
      "outputs": [],
      "source": [
        "import os\n",
        "import openai\n",
        "from getpass import getpass\n",
        "\n",
        "# openai.api_key = getpass(\"Please provide your OpenAI Key: \")\n",
        "# os.environ[\"OPENAI_API_KEY\"] = openai.api_key\n",
        "with open('../../../apikeys/api_openai_aimakerspace.key', 'r') as file:\n",
        "    os.environ[\"OPENAI_API_KEY\"] = file.read().strip()"
      ]
    },
    {
      "cell_type": "markdown",
      "metadata": {
        "id": "TFbWNvo3rZ4H"
      },
      "source": [
        "## Task 3: Creating a Simple RAG Pipeline with LangChain v0.2.0\n",
        "\n",
        "Building on what we've been learning, we'll be leveraging LangChain v0.2.0 and LCEL to build a simple RAG pipeline that we can baseline with Ragas."
      ]
    },
    {
      "cell_type": "markdown",
      "metadata": {
        "id": "DV_BOewX8CW0"
      },
      "source": [
        "## Building our RAG pipeline\n",
        "\n",
        "Let's review the basic steps of RAG again:\n",
        "\n",
        "- Create an Index\n",
        "- Use retrieval to obtain pieces of context from our Index that are similar to our query\n",
        "- Use a LLM to generate responses based on the retrieved context\n",
        "\n",
        "Let's get started by creating our index.\n",
        "\n",
        "> NOTE: We're going to start leaning on the term \"index\" to refer to our `VectorStore`, `VectorDatabase`, etc. We can think of \"index\" as the catch-all term, whereas `VectorStore` and the like relate to the specific technologies used to create, store, and interact with the index."
      ]
    },
    {
      "cell_type": "markdown",
      "metadata": {
        "id": "1VDGJdxCJEVc"
      },
      "source": [
        "### Creating an Index\n",
        "\n",
        "You'll notice that the largest changes (outside of some import changes) are that our old favourite chains are back to being bundled in an easily usable abstraction.\n",
        "\n",
        "We can still create custom chains using LCEL - but we can also be more confident that our pre-packaged chains are creating using LCEL under the hood."
      ]
    },
    {
      "cell_type": "markdown",
      "metadata": {
        "id": "RmFFThawK8lO"
      },
      "source": [
        "#### Loading Data\n",
        "\n",
        "Let's start by loading some data!\n",
        "\n",
        "- [`PyMuPDFLoader`](https://api.python.langchain.com/en/latest/document_loaders/langchain_community.document_loaders.pdf.PyMuPDFLoader.html)\n",
        "\n",
        "> NOTE: You'll notice that we're using a document loader from the community package of LangChain. This is part of the v0.2.0 changes that make the base (`langchain-core`) package remain lightweight while still providing access to some of the more powerful community integrations."
      ]
    },
    {
      "cell_type": "code",
      "execution_count": 6,
      "metadata": {
        "id": "DTDNFXaBSO2j"
      },
      "outputs": [],
      "source": [
        "from langchain_community.document_loaders import PyMuPDFLoader\n",
        "\n",
        "PDF_LINK = \"https://d1lamhf6l6yk6d.cloudfront.net/uploads/2021/08/The-pmarca-Blog-Archives.pdf\"\n",
        "\n",
        "loader = PyMuPDFLoader(PDF_LINK)\n",
        "\n",
        "documents = loader.load()"
      ]
    },
    {
      "cell_type": "code",
      "execution_count": 7,
      "metadata": {
        "colab": {
          "base_uri": "https://localhost:8080/"
        },
        "id": "i3dJYlBCIX_p",
        "outputId": "805285b8-a3d8-4e9f-ee38-7ffe7ae7604d"
      },
      "outputs": [
        {
          "data": {
            "text/plain": [
              "{'source': 'https://d1lamhf6l6yk6d.cloudfront.net/uploads/2021/08/The-pmarca-Blog-Archives.pdf',\n",
              " 'file_path': 'https://d1lamhf6l6yk6d.cloudfront.net/uploads/2021/08/The-pmarca-Blog-Archives.pdf',\n",
              " 'page': 0,\n",
              " 'total_pages': 195,\n",
              " 'format': 'PDF 1.3',\n",
              " 'title': 'The Pmarca Blog Archives',\n",
              " 'author': '',\n",
              " 'subject': '',\n",
              " 'keywords': '',\n",
              " 'creator': '',\n",
              " 'producer': 'Mac OS X 10.10 Quartz PDFContext',\n",
              " 'creationDate': \"D:20150110020418Z00'00'\",\n",
              " 'modDate': \"D:20150110020418Z00'00'\",\n",
              " 'trapped': ''}"
            ]
          },
          "execution_count": 7,
          "metadata": {},
          "output_type": "execute_result"
        }
      ],
      "source": [
        "documents[0].metadata"
      ]
    },
    {
      "cell_type": "markdown",
      "metadata": {
        "id": "oQUl3sbZK4_1"
      },
      "source": [
        "#### Transforming Data\n",
        "\n",
        "Now that we've got our single document - let's split it into smaller pieces so we can more effectively leverage it with our retrieval chain!\n",
        "\n",
        "We'll start with the classic: `RecursiveCharacterTextSplitter`.\n",
        "\n",
        "- [`RecursiveCharacterTextSplitter`](https://api.python.langchain.com/en/latest/character/langchain_text_splitters.character.RecursiveCharacterTextSplitter.html#langchain-text-splitters-character-recursivecharactertextsplitter)"
      ]
    },
    {
      "cell_type": "code",
      "execution_count": 8,
      "metadata": {
        "id": "6Nt2E1xnLNgr"
      },
      "outputs": [],
      "source": [
        "from langchain.text_splitter import RecursiveCharacterTextSplitter\n",
        "\n",
        "CHUNK_SIZE = 200\n",
        "CHUNK_OVERLAP = 50\n",
        "\n",
        "text_splitter = RecursiveCharacterTextSplitter(\n",
        "    chunk_size = CHUNK_SIZE,\n",
        "    chunk_overlap = CHUNK_OVERLAP,\n",
        ")\n",
        "\n",
        "documents = text_splitter.split_documents(documents)"
      ]
    },
    {
      "cell_type": "markdown",
      "metadata": {
        "id": "ilzwQxhiLcVV"
      },
      "source": [
        "Let's confirm we've split our document."
      ]
    },
    {
      "cell_type": "code",
      "execution_count": 9,
      "metadata": {
        "colab": {
          "base_uri": "https://localhost:8080/"
        },
        "id": "4wRw6a4aLfWh",
        "outputId": "cc81e601-0c24-48a8-929d-6503ce135d0f"
      },
      "outputs": [
        {
          "data": {
            "text/plain": [
              "1864"
            ]
          },
          "execution_count": 9,
          "metadata": {},
          "output_type": "execute_result"
        }
      ],
      "source": [
        "len(documents)"
      ]
    },
    {
      "cell_type": "markdown",
      "metadata": {
        "id": "eZ93HkYcMJwW"
      },
      "source": [
        "#### Loading OpenAI Embeddings Model\n",
        "\n",
        "We'll need a process by which we can convert our text into vectors that allow us to compare to our query vector.\n",
        "\n",
        "Let's use OpenAI's `text-embedding-ada-002` for this task!\n",
        "\n",
        "- [`OpenAIEmbeddings`](https://api.python.langchain.com/en/latest/embeddings/langchain_openai.embeddings.base.OpenAIEmbeddings.html#langchain-openai-embeddings-base-openaiembeddings)\n",
        "\n",
        "> NOTE: We are purposefully using an older embedding model to try and answer the guiding question: Is TE3 better than Ada-002?"
      ]
    },
    {
      "cell_type": "code",
      "execution_count": 10,
      "metadata": {
        "id": "JU6CrDVZMgKe"
      },
      "outputs": [],
      "source": [
        "from langchain_openai import OpenAIEmbeddings\n",
        "\n",
        "EMBEDDING_MODEL = \"text-embedding-ada-002\"\n",
        "\n",
        "embeddings = OpenAIEmbeddings(model=EMBEDDING_MODEL)"
      ]
    },
    {
      "cell_type": "markdown",
      "metadata": {
        "id": "rVtZR9JPLtR4"
      },
      "source": [
        "#### Creating a QDrant VectorStore\n",
        "\n",
        "Now that we have documents - we'll need a place to store them alongside their embeddings.\n",
        "\n",
        "- [`Qdrant`](https://api.python.langchain.com/en/latest/qdrant/langchain_qdrant.qdrant.QdrantVectorStore.html#langchain_qdrant.qdrant.QdrantVectorStore)\n",
        "\n",
        "> NOTE: You'll need to provide the embedding dimension for Ada-002!"
      ]
    },
    {
      "cell_type": "code",
      "execution_count": 12,
      "metadata": {
        "id": "978TWiCtMA0B"
      },
      "outputs": [],
      "source": [
        "from langchain_qdrant import QdrantVectorStore\n",
        "from qdrant_client import QdrantClient\n",
        "from qdrant_client.http.models import Distance, VectorParams\n",
        "\n",
        "LOCATION = \":memory:\"\n",
        "COLLECTION_NAME = \"PMarca Blogs\"\n",
        "VECTOR_SIZE = 1536"
      ]
    },
    {
      "cell_type": "code",
      "execution_count": 13,
      "metadata": {
        "colab": {
          "base_uri": "https://localhost:8080/"
        },
        "id": "drC1jM3pwmEN",
        "outputId": "8b50044c-7cd4-495c-ae2d-a89cdef9dc47"
      },
      "outputs": [
        {
          "data": {
            "text/plain": [
              "['715e03b0da444a61b8b53b0811b2b4d7',\n",
              " '32e2b81536a2413fa5dae198aae2b2be',\n",
              " 'a03ce3a6541a4756af083772589b5995',\n",
              " '1849cdf4bc1d4f81b8c8c7bb2160f60e',\n",
              " '5613bc7c7fed45b380197007f35d13e7',\n",
              " '963c77d7934a44ee9c5ceb6ce41bc389',\n",
              " 'deaa0bee601f45fba5807724bbf02cb9',\n",
              " '7e71309406d54faabf5e02f2ee0ba021',\n",
              " '75ce1de4987f415387e57859025f7732',\n",
              " 'bda57db5306e44cd80eb9feb4382f8cc',\n",
              " 'ba9ed1ea69d040f09bfa591adad53c1b',\n",
              " '993a3c4e2f2f4f51980879697055901e',\n",
              " '8af426d2a9514a04b6dc157a55b11bde',\n",
              " '55a2147e8e9f473f8a719bdf10466884',\n",
              " '54cf314dfe1e45a8bd25980d596032e0',\n",
              " '621972d0889a44ee91c0984253ab6954',\n",
              " 'a64b7a0bdb964212ac46f64eae560028',\n",
              " '6983619eb27743cda89af77f4bdbd96d',\n",
              " '7bad4f616e334efc98cfad68178722fa',\n",
              " '42d9907274ac4e7fbd5b4399feae62f8',\n",
              " '7abd363b44a34ce88574b2a6f1d30c23',\n",
              " 'a8ae37f1431f48079452789a41896ccb',\n",
              " '58ac5ad40a9640f3a5657ad34e5d9ab5',\n",
              " '3602a7b858d74d6b959cf88be986f4ec',\n",
              " '8258232c2d7142958a0ecfc7718fef35',\n",
              " 'ad1dd6e4d08f4ca1b7391911d542f579',\n",
              " '2243c81d4f724aab9784f3370c91c8af',\n",
              " '5eccba4834f5470f9d6f866648900d18',\n",
              " '39e86e3402d142bb8025a3e011dbf9cb',\n",
              " '55b0991c2ce54fa384ee278ca8741d3a',\n",
              " '4e8a49f46c334a479ed750c8a82a03a2',\n",
              " '233e4770b64f43d6b55bbabf6b19dfd7',\n",
              " '66065a36aac54f18a67d4c237ca1f059',\n",
              " '8680584073b74d47acc1fba95922fd92',\n",
              " '596e6912502b475b8a06d8494bec12f9',\n",
              " '80bc5b3148314c8096c5c4f4eb2ee6d8',\n",
              " '2da5c14eb0a94f208a8783986a191fbb',\n",
              " 'd1a48b46403e416e8f07d48c86c3d906',\n",
              " '5227ace0fe644050948171d3c338e03a',\n",
              " '6507deb70ce248d8881c73bc2ace1fc6',\n",
              " '6f24bc5e2dc04398848c9a377c58467b',\n",
              " 'a98b6cc1df194d0abdb365595d2ac9f1',\n",
              " 'a52bd3824f0b4aeb99770170d56edd26',\n",
              " '09b025c0d0a14ec0a6aac41736a207e0',\n",
              " '0b55571d666648149877c2e73a785179',\n",
              " '25d5f6d380254f549a3839adf1ec8698',\n",
              " '5cc666c32c934f14aaa0f55bb986a1c6',\n",
              " '8b5821f27d034b67b1dae914c0bae47c',\n",
              " 'fa469cb9860e45e5aae2fd425afcc2ea',\n",
              " '5d979da2f6a24237b4cbd43269987632',\n",
              " '3cec5199a05d41c784776abcbad8a12f',\n",
              " '607a9e2e77c3494b896c0e6fd809544e',\n",
              " '154f6212be3348aebdb46270b51b628c',\n",
              " '6c4f63c2ca594d8db869d5d20c964459',\n",
              " 'd0e5aaf4b75f4d20a31eac8859659b82',\n",
              " 'd0024c515a0a47ff81b525db729e69e7',\n",
              " 'a7dc4ffa59a640018ce685f034c58fcd',\n",
              " '13638aff32d84779a197c2c5d91e1be5',\n",
              " '16798c1f0bff4c168113e576694d5c4f',\n",
              " '37f4e0d6403d4ea385e23d6aaf83123e',\n",
              " 'ab57bbb80a9c41f1b8e358489a4ebe8f',\n",
              " '23e1f590c5514c5495c6e4c497d87a8f',\n",
              " 'eacc707d5f334d03ae31108f5e9d411a',\n",
              " '3c55ce6c977d4725849374873dfd7d14',\n",
              " '81df5c7990f2442985e22bbf6e2752bd',\n",
              " '1d2afc5a34a44ba4ba0f0c9365bc0c4c',\n",
              " 'eee95a9868fa47febb085966181ba29d',\n",
              " '3ac37f09c1a8422095013d69053da1e8',\n",
              " '67fc241fe0914ae691f40169183336f3',\n",
              " '422d25a098dc403fb299cb4ee49c1229',\n",
              " '593508d08e514efa96e7711432eada02',\n",
              " '65e71bb20c6b4a6d9de3d450e62a23c5',\n",
              " '16a229efdfde4d339574e415a3c1d2f1',\n",
              " '0c3d636fede6457784241038e16c4eea',\n",
              " '010a28c24e70409895956c554bfad3fe',\n",
              " 'cd6bfec4f1b741d6b1365ac7767b8614',\n",
              " 'af3ec53da0d741dbb79fcf6ef073c150',\n",
              " 'ed79738cf0cd48d682a578057051d499',\n",
              " '0ef13e2d49fe48f38e76b82013529c99',\n",
              " '409abce0733941c9b6daf407e71a70f1',\n",
              " '1e0eb87435e64a1892fe33de45749b9b',\n",
              " '7076429491144013a7ff4c813dbb7163',\n",
              " 'd97f2944a8ce4ac8adf9f499ef60ef44',\n",
              " '97e790734dde457daae9393792f8fb67',\n",
              " '5b8f4e08c4a04233b8d40c39ea507190',\n",
              " 'f19e16a2dcb648c8b5271dc038b0531c',\n",
              " '201385e975cb4a84b498eda035338f96',\n",
              " '203366be17f1431aa5549411b78cdd07',\n",
              " '2347f84b07594540b7674ec708f64662',\n",
              " '190a44cd90c34fcc989d66538b10c540',\n",
              " '16acaa60a1694f1db5d6edc295b53dcc',\n",
              " '8f80c3eeaf4e42e392b3f32120f1d62c',\n",
              " 'b90cbedffbff47d19262bced988a6688',\n",
              " '401a9b6cc7ac48f0abd68ada994b7c74',\n",
              " 'fd7d11ddd37544929230d075d15d9c67',\n",
              " '1aeba9f1e9834d1a88262b2c960ea800',\n",
              " '067af90c519f474da9b1cf0299fb4fca',\n",
              " 'b909802aa44c4818bfc5a55a45628f3d',\n",
              " '5d7cdd0b3fe444309a7270e6145af5e8',\n",
              " '5326ae63dbab47258172c57eea99a73d',\n",
              " 'db46bef9fa0046aa92016e70e8bf28d4',\n",
              " 'f3c8add3c21f439fb4be3a0417cb6969',\n",
              " '97d7f187122d49ffb2a1ad7e65668296',\n",
              " '9b54f9d5f221428a82562523d570ef2d',\n",
              " '184023f18a584c568b13962927525bea',\n",
              " 'e14b9b5374e646669e1240b52268eef8',\n",
              " 'e095cc3163384f7fbe9ff487ac95a268',\n",
              " '04a9ef946a524f80887585b738f1a499',\n",
              " '8c3a8d61f47b4b53a4d85f65dfae76d8',\n",
              " '2003a6bd860d4c5ba125556ddc1f71e9',\n",
              " '10c76522c1ce42e38d0caa900efd1e58',\n",
              " 'ff2168dea0924cefb493e7ea768464fe',\n",
              " '5f6b59629a6e485f8d2c6b1ad1210bd1',\n",
              " '562301f701bc4a3fbc1f426ece09aee3',\n",
              " '34a65cb5e0984786a10607e999a45439',\n",
              " '636a3cc50b10487a86639dca62dda1c6',\n",
              " '4f6ae000107b46cabf3c42f667eb7927',\n",
              " '26385e1430a2432ebe607013ce42b819',\n",
              " 'f91939d6f80b4431bd582d40c69f5823',\n",
              " '09e5a9852f0b4215a43053af59d190ac',\n",
              " '64c55cafd6574c298e1c8a828797679f',\n",
              " '53ffe22fe9e64fcaa0fee27891e4d83e',\n",
              " '1881b56e889a4e58bd0fdfb955e1c3b5',\n",
              " 'cfa435e2b31b409dab642666703a5d8c',\n",
              " '4dee732da7404ba8bbf7a1118a7eeea1',\n",
              " '44a7c15b718c4a088c1ee0ae2ede99a0',\n",
              " 'f152a705cc504618aeb179a93b4b3a90',\n",
              " 'b279f092327541c08c5c127ad8a0670d',\n",
              " '74a6497e89734a94a553a3d3b3793e30',\n",
              " '328c9541a1494d86bf890fd7dac58c71',\n",
              " 'd006418be7dd4939b6232ba8a0166740',\n",
              " 'e0f139d5a11746b48fd208015f60460d',\n",
              " '8bb27eb9f30f4f038200d56227a3b8d7',\n",
              " 'cdd04ee0d93b412d95a836b19691637c',\n",
              " '2d43e48b18104b8a8dc8a897bea9fe8c',\n",
              " '13a00abee0cc4a6c90f9259f90b0cd44',\n",
              " '3929216bb1fb4259a0e4eb4bfb704544',\n",
              " 'e2980e8524f44ef0b4662deecf88447e',\n",
              " '29b88c54c0624ebf8903eaa52cb61b60',\n",
              " '238b08293da34542a46225c07b09f193',\n",
              " '3adebe5f4c31478b8e238d07a840a060',\n",
              " '363eb10ca8414b8f8e108467f67a2b20',\n",
              " '62917e9b6ae445978fab230b07c1cb9a',\n",
              " '1218623ca37e474ea3c8374bba3b73dc',\n",
              " '83139429748a46c583a7545fcf6eaf83',\n",
              " 'da477b1a9e8f472bbca57f54a59b3578',\n",
              " '0e25236622384eaea2a36aae637ba625',\n",
              " '57634deb666f438f856fcbf7257e0484',\n",
              " '0ebb761e23e64e3b8899085bafc44a91',\n",
              " '7ee05fb93c7d4a689a9281b75a69b32e',\n",
              " '50e5ce9d55e5495baaeaa345b5e78961',\n",
              " '4ca8bb857338488fad2c589cab3b85fb',\n",
              " 'b5df2666afd745b38e2c549dc8d4178c',\n",
              " 'aa221290329c4dcfa0f40e95e9d94131',\n",
              " '2e66c3ab45e8459497cb759367a61df2',\n",
              " 'ecb992cddc074de994da3dfccddfc43f',\n",
              " '6bd0359acf0f4f6aacdc98622412cd5d',\n",
              " '2e2d8847e445404e9494847d2b99feff',\n",
              " 'da579ec7d5a54a338af379af6612a51c',\n",
              " '456638b076804d02bb5d6d1e69f2501c',\n",
              " '747fc43a3c9849e1aa086841894bee38',\n",
              " '6eb3bdb6c3b34778a970c2c0cbe192ad',\n",
              " '711ff232cf9f4b2dabf6c08df34f388d',\n",
              " '56afcad33a8a4d34b810698b2455dd09',\n",
              " '309c8b32ce2249cc86c106caaa194b90',\n",
              " 'bdacd376664c4257bee081b4bedc5d58',\n",
              " '504b5f09a5f04d24b2a0c4025e9a90ff',\n",
              " '8b90d44d2eb944bb98ebe240dd3fd168',\n",
              " '1566896e90b248dbb6644d9588a47299',\n",
              " 'c994fc4e65b540489c0ea2450d8f6188',\n",
              " 'f42ad540894042d68973d94194e64dd9',\n",
              " '32d33a7a14fb4207b2feaa7cb1ddeaee',\n",
              " 'bd89f68b612942bfae511e676b8da73b',\n",
              " '7619de65f3dd463ab7195ad64ae2b207',\n",
              " 'f3b1a83800224704a3a04206490f76cf',\n",
              " '080573020f7940d1b3bb85455cfa53b9',\n",
              " 'd44393f10f154364b5d3d72c82460ea8',\n",
              " '76e2c34be82a4b44a71d6155d44d4d76',\n",
              " '83752d7838264c7895d0d9cae75e8129',\n",
              " 'ac5c2db2db794f1495332437df486e76',\n",
              " '719ca8a61fa64114a458bfac53278869',\n",
              " '7df8fc363b034cda9ea5af58833ae1cd',\n",
              " '68943dd41e87434889476a1b9a5a2c80',\n",
              " '78fbf335cdb147c19312db0a0c5e3403',\n",
              " 'f60c4e01092e4005b61526fb93124589',\n",
              " '830727415c104cb69bcfd28ca09744ca',\n",
              " 'de42892a578240a3b129c95dfcc04196',\n",
              " '26b7db4c47c84ec98c73c695858ef825',\n",
              " 'b249228be7654805ae95e2e091d104bd',\n",
              " 'c5c18f0d4c9547c596a9d2f90c625be1',\n",
              " '9223b4036dc0483185240a035e3755cf',\n",
              " 'f9224caa4b8b4085ad8adcce507398b1',\n",
              " 'bbba546016524cd0bc8b80406f8bb952',\n",
              " '7db22e577c5c4e80bda42b3133de3550',\n",
              " '0f24cda02882465f9b30d17a4f47abfe',\n",
              " '7891de2c33f54f0fa4ad645343533b83',\n",
              " 'f8310869f38a4872a429b7a61edaaca1',\n",
              " '250f0ddbae9d402f9dc2d9bb6731de7f',\n",
              " '54230c3917ff40d39e559e3ce03fae82',\n",
              " '07d6896953d14032a1eb9987725cd4e1',\n",
              " '6066f7afdec04fbb8f912783cb2c5654',\n",
              " '7888e3c2edbb4945b495cbec9625bda6',\n",
              " '97a74c283f1a413ea45c36509f03a881',\n",
              " 'd82772f9f0e54f2ebb8c59e48b205f4a',\n",
              " 'a04201737cd94feabc6228f4ca7edde3',\n",
              " 'a757ef296baf41f192f0dd027a216b56',\n",
              " '701b6c7248024bf6884dafb71b0112be',\n",
              " 'ab71091ec0ab41959719239140ad36ea',\n",
              " '4b3a0f0c7377438bba6cac46388ad84a',\n",
              " '80fa3f8576e14494b350b0f0c3d9c575',\n",
              " '6497d0f807134e6791dae30f69aaccc1',\n",
              " 'ca8281b75523490c935be8fcc38c0ef1',\n",
              " 'bfdc6f2a28e745a09cff0881d14f1695',\n",
              " 'c76c223d8c3b4d208c32366761e0b3f6',\n",
              " '56654f328bf94192aa38ebaedd538023',\n",
              " '384d908a7550478483fb2adf2c088974',\n",
              " '11277d2fa29b4121a356a8fd7b1324c4',\n",
              " 'f66d93303178487aa4c66e4c9594f2d8',\n",
              " '872cc15e203349faa2a277ce1fb8a30f',\n",
              " 'e2a09e6b7de74cd19d56ba9d74fe3c60',\n",
              " '900860695fa341ecb45a09b6546f781f',\n",
              " '70c9013bae6c4ff6b00bc178261b4a63',\n",
              " '4a3e2c673d0143278f06187f423db7e3',\n",
              " 'da18b7f2511c44108582a36e9099d69f',\n",
              " '9b7d5cb5633f4a3dac0ec65e4806043b',\n",
              " 'bf19dd420fa544d994882a63fdda8fb1',\n",
              " 'd0b5369a161647ad9d9e01b200da736b',\n",
              " '1a7fac0c36f14cf986dc9e88e35eeca1',\n",
              " 'b4aa9476c2294925a94ca7361bc147c7',\n",
              " '486b69b252c34e82a7cdb40386aa5c4c',\n",
              " 'ec621f756a8a4745a2916992ccfc89c9',\n",
              " '9893224add934f3cb34ec8101bf496e0',\n",
              " '6d23e625140542488e7099c32dbea185',\n",
              " '078bd734de04430ea3b712f4670216f1',\n",
              " '9bb04767eb6146f3b6561eefbfff7674',\n",
              " '2fed364ece1d49599b78f1d678736697',\n",
              " '7de38ed10d61413fb18dab6264f4cedf',\n",
              " 'a15597362aab4a948decfb62b9282f46',\n",
              " '7f4e91db1c784331a251d6cdacb07845',\n",
              " '4b2671869ff54fc09b086f3a5d2b7f69',\n",
              " '4319965f597b46caa473679a0d64b2fc',\n",
              " '13dd6f65722047c3b29bf567eb9b7a52',\n",
              " 'c49b2228a91c4d608993853f2a9481ad',\n",
              " 'fd3bb96fcc2a4101a49259017c61f5d4',\n",
              " '30868e8b0719402f9768127d8e0513b9',\n",
              " 'ec00a51cc32f40539df3f77ca0499034',\n",
              " '5dfd30b839814831b6458978a6b03116',\n",
              " 'ac7edf81cc7c417bb6530df12be9d2f1',\n",
              " '1e07f45730e5482ca0eeeab73e7c6a9d',\n",
              " '473dcf28f64448b8894b0c2b6a6528c2',\n",
              " '0c22fa2d79aa42b795304de85bfdc02f',\n",
              " '13461c6c4af442d5a430bc00819ff6b9',\n",
              " '2885ec37003a4d7294ee9f65107112cb',\n",
              " '80608ffcb0c648a884727f5a058b0300',\n",
              " '80bc4265d31a451a86ceabf13c532ec5',\n",
              " '7adc538d8c114035bd70a3ac874635eb',\n",
              " '22f40ea5acc6427192ae706a0292ea9b',\n",
              " '248462096b19488294d927a55afbc909',\n",
              " 'd2be49cb1ea44ff9ac4ee1658b81a523',\n",
              " '716b16c5b08148feb5cc960242056bc0',\n",
              " '44d7481636c54e0b86df61db1b86ac54',\n",
              " 'e293ee93e33f4c40aedfb44b04acb7df',\n",
              " 'd43d25b13daf478c8f570ed03c430c68',\n",
              " 'c75a17330c0943fdbdd58f2992cb7185',\n",
              " 'dc79a6485f0a49468885e101f7b7dc01',\n",
              " '6c75c9b3831640bf83b4c6881e0a2617',\n",
              " '17af4264baac46698d4bb1cbd47e1f1f',\n",
              " '930358a5c77d44d58bb612aec8d489db',\n",
              " '9c74c67b15b14ad78774a89e5802e2a9',\n",
              " '7ca47044797a447188bf21d920864406',\n",
              " 'c970a619e9bc4dae8591e7ccf724624e',\n",
              " '7a5f2d10aea04e3aa89cbd671407778a',\n",
              " '11ade5ee45874847a496cc8a8972199a',\n",
              " '000edde215404d798e940d949d97cbb3',\n",
              " '1097442fdfae4dc0b13d4eaba4643c0d',\n",
              " '9a6ebe6b3bcf4284bd1e42c7f7ecc44b',\n",
              " 'cdf26a71cee54d7fa9af7d5770238547',\n",
              " '56fc5cb0e3fd4d8ea9e0d709e4ba41fa',\n",
              " '3e33af3402754f6aa5324642d5d7127a',\n",
              " 'c6212cdb82e84d6183983f2feefb6243',\n",
              " '4e7b95fe18044bdf85c89549d28f67c9',\n",
              " '9c915900d29e4b9980208543dc206bd7',\n",
              " '2a1a9c5945c54620bf252c96657e37ca',\n",
              " '5f603e2e398c452eafb28545122cf6aa',\n",
              " 'd6265dc0c55b43e08ba1c88d32ee63fb',\n",
              " 'e4396e99bb774a319d125502eac642a4',\n",
              " '6ff2b5fe1d544e03ba8b65baf33a4d05',\n",
              " 'c99636e9e65141bf8e35a559a6282d21',\n",
              " '8dbd042bf9e646ce9fee27e8c7fd1564',\n",
              " 'c0e7ae80de6947a08de200dafe2f79c1',\n",
              " '0e67f765796d432fba4b7ac2633bf5b5',\n",
              " 'ddfcdd3be90741d88b2d17cb553ba90f',\n",
              " '86d9c3baead5404da39929aa869508df',\n",
              " '73be57f2dccb48f38da270be234d9dc4',\n",
              " '542f0fde6338492ea7f03c2a23ece8ed',\n",
              " '266688f06ec045ceaefd367e19fe0ca1',\n",
              " '0bbaaab0e2fb43089f0492cc0b455ee6',\n",
              " '200d3cb3bc1242df9bbcfc60e39e92db',\n",
              " '2678f3b0978c4b3f8cb346892d9fd355',\n",
              " '8ecc5106eb174709a3856b997d424df5',\n",
              " 'ebfabf35a5c045acbd8346682fe642b7',\n",
              " '8d785684ac224c26a894fa4c83d8b0a4',\n",
              " '2777a626796148839cc908286af76a5f',\n",
              " 'f20191b870c447029e5f1bc74f3ec01e',\n",
              " '6de9431fdfe54448aac730b6a732574d',\n",
              " 'd458ffb9d8eb4c53b505a60b453a95a0',\n",
              " '9e26931be0f045fe8539e1d3adf196f8',\n",
              " '2f05a36f809c494b92da0f561653a909',\n",
              " '9e862a4db9504df9bc4cc7045f88938e',\n",
              " '741a0b42a59c469ba959c1bbd55f3940',\n",
              " '6ae06bc84ac8480b8598c1e6dd09b8eb',\n",
              " '15e97a320b8a4fef910eec375e751a97',\n",
              " '7105fe576e364f6dbb349e4897b7e4b0',\n",
              " '2659df91b452446bad11b789989612fe',\n",
              " 'ac34b2964eff4aa58eff27d5d0d51ea5',\n",
              " 'd6c7dab6eae34b8b984d0707303ea1a4',\n",
              " '01f2b72ef1854a2683612278e9695fb7',\n",
              " 'bf8fc21c7e0a46d9bad0a335209f94f7',\n",
              " 'b04870f4253c4ed4af8cabc231903db6',\n",
              " '7d5895b8e6b44c939d86d5f08f0bdd39',\n",
              " '30a4df4573cc4aafb15f6bdca21cf7ce',\n",
              " 'c9007ce1cb3d4715a19021040d01a726',\n",
              " '829e499920fc40efae507233ca57ca3b',\n",
              " '03ef4531a61e48d48db5516c992077f3',\n",
              " 'b408d8bf913e415cbfadbf4373307c90',\n",
              " 'dd7839a682ad4fdbad4d987bb2c2fcfb',\n",
              " '2f86fac146514c61bfef59377300080c',\n",
              " 'a7718048e4dd48519f5121e2ec4b96c1',\n",
              " 'f98f3c21bb6c4cf09928011708a2960a',\n",
              " 'efcb908e6af041529aca069525816960',\n",
              " '8116a344e8c140d2874d4f5307feab70',\n",
              " 'b88d8b18030a4385aee64cf83218cb9a',\n",
              " '2862566e96b84f66afd2c8f356a98cda',\n",
              " 'e279209c371d4cc58c6dc3664b6ef7a7',\n",
              " '5e1dc5900f0144f299e16c0113460204',\n",
              " '26c35e9bf7654d2eac08a7a8309a94aa',\n",
              " 'cae0fec0699c40d782a368d3bb864fb1',\n",
              " '1c8829e3e22a4d0a9b31cf8ec577578a',\n",
              " 'c826c5bc885f44debcfa161128757008',\n",
              " '82346a761ad94774a88a1c0a2b313387',\n",
              " '0be4a7c7ea3b4a38a80597215036a6ad',\n",
              " '165fec69d7b04c439bb2ac3b23978d49',\n",
              " '13878a9e497647b2919012b4b23d6851',\n",
              " 'e1841902f5a34b20a0b0a5d5fae1157c',\n",
              " '99bff90d1a7f4f4a8c14768e534afc3b',\n",
              " 'd12fa85016e7404591d436758713ad0f',\n",
              " '4b2be20679f94c39a327c57e31e69b6a',\n",
              " '72f379ac01074ce8a738e8cbce6e7f38',\n",
              " 'da3e998f6a72477385f813906c8dcb61',\n",
              " '794f7acfc77843cb9f800b4bbd463aa9',\n",
              " '8bcbb7fe78614200afca59e125e4f8d2',\n",
              " 'b11b35c4d2054646801aff6aa37424e1',\n",
              " '957cd31968e7462a9ce3eb9b8bdb9d34',\n",
              " '0ade29d29ffc4f7b8396f4e7af7aab7c',\n",
              " 'bbb5bb4158b9448397d910cdbc44fdc2',\n",
              " '32034568491749b19883019192cd85e9',\n",
              " '73fe0584ee2741529a45c1ff55eb59ed',\n",
              " '15d001c25a534e3e98c7244d16874239',\n",
              " '5cc2250a801242cc9c51479568a33681',\n",
              " '36850555bf254c869452303c69151edd',\n",
              " '806be53d3e48406b9bdb08f2ba707657',\n",
              " 'b947401857674791bd359eccc1396877',\n",
              " 'f2ea7ee2289740379d4259a4677a5586',\n",
              " '6ec8e40f301949afa96cb81fc70ffe05',\n",
              " '2afbe5844b12412ba28e7ab9c866ce8c',\n",
              " '5b99bca19ba64ef095e8e4a054494083',\n",
              " '20f93fdd55b34925ba6598d932647370',\n",
              " '5b4d336b1607414d90c1c84729eaeff8',\n",
              " '20dadc4ce4db4eab86eb5f7a49308f57',\n",
              " '0db7dfcf7dd741f4ac8f3fc2e5656c6a',\n",
              " 'a966fc4f73884d92a076a66d9c31c7a5',\n",
              " '67fc3dd3076542a38e159667f9be35ac',\n",
              " '404d1ea1ee0e425e851958db1e3fa79e',\n",
              " '84c29cd2829f4d55bf954f3aa18aefd0',\n",
              " '3abd783eee5342d4a3982e0254aae4f9',\n",
              " '4ca20fc23f8e4a2ca705634f7e2c855a',\n",
              " 'e9eded20bf654e06a6d3910f52a4840c',\n",
              " '40822d44eccc42a19e3f9c5dee8fa6bb',\n",
              " '7559e2aa751d4bcda1093c95202b7c13',\n",
              " '59b14e1e16ff4372ab3edc42247fbff1',\n",
              " 'fcbd714c40c943f5a857e485cc7d99f2',\n",
              " '4a198c5e96b449d1835993adcc8fb899',\n",
              " 'd8535a3d022d40a79057319155c0d198',\n",
              " '9992bc5a9d524c4bad02e1da2f5f35e4',\n",
              " '7d15e1ee491a4a498c599a465d7cc451',\n",
              " '27449ebbed5a4ab59dc976ee76332697',\n",
              " 'f0d9da4f5042405fa5d21cd3f0e516f3',\n",
              " 'b3198703b69348608906f58d169fb0fa',\n",
              " '5e9127ee35584746a974689dbe485dde',\n",
              " '60beaf673d46437f9a7cd1d5f033c61e',\n",
              " 'b00dba4506e94e0a958c14a41bc85323',\n",
              " '87cff7b88c154a7382ec4b8c47c426e3',\n",
              " 'c2cfaf7d16c84360b7bc836a42d4a298',\n",
              " '318643a16801407eb4b1c6c003dd82c0',\n",
              " '0d1ac360fde8449095a224afbd310c26',\n",
              " 'bd9e200418f94fa7b6fcfe6a5d424b03',\n",
              " '1aa8e0d0845249d8a5a62d07f952c818',\n",
              " 'ae8503a5023c422a8ac4e12c24a6c0e8',\n",
              " '95d03d6d095c4bdf9641f7776b6fb19c',\n",
              " '80deae270f9b4e59a616f7e5d1671b2e',\n",
              " '5186dd1a652548609982435629641776',\n",
              " '4535cb34a85a491084e64198d8532a00',\n",
              " '61349784543f4b91b2ab4c91802203f8',\n",
              " '8c656e194a874d7a8a577beabda1cef9',\n",
              " '2e7b0368b7004e49943a5d85477b8140',\n",
              " 'e336a589971b418a8dfa5303f23513b5',\n",
              " '3e0e28e861034167bb0ded699d0ae791',\n",
              " '1b70a5005cdd4925bea13b43a50722ed',\n",
              " 'f12bfbf7587640bd8f57635d5214fb35',\n",
              " '9a96cd420e914996891e3f10c0923dd1',\n",
              " 'abfaf505429c41409f3b60fac51db3f6',\n",
              " 'fd29cef3894f4ef09b0e3c4bf462555d',\n",
              " '21f73fb1631b4e8389eb438b37159a7c',\n",
              " '3c67ca5c191b46219089408f88c23175',\n",
              " '9707159125d6490196fc4fdba574459c',\n",
              " '5adb38fbd7694557a876949373fe64d6',\n",
              " '6026864c106f4dd2a77fd1e7c2f0df6a',\n",
              " '4c4ac0a056e04f87903d0faadb5db027',\n",
              " '6c70c27095244ec887831a46c07db2c4',\n",
              " 'd3a2c4bbeff64684b05ba3320b2761f9',\n",
              " 'fca7b47e62f34e49a76dcf3fa0a0eae1',\n",
              " '5c51c1a0dcd348f784f3448c936cb55c',\n",
              " 'c82ea02be2684547ad2df083933cf4b4',\n",
              " '9027c30c14ac46f1b2425d3869a2dc96',\n",
              " '393e74feb5dc4913ba4853470c398ffb',\n",
              " 'ea514e2d333747daa5da07c7ca7e5272',\n",
              " 'e3aca014bcf4460c931f158c98e4d6a2',\n",
              " '0419f17ad0464966b6876c2fc604d628',\n",
              " '88cf834f309b41a195ca3777e050cc83',\n",
              " '3687d030207345699668f934b8d7d4d4',\n",
              " 'e5772c80f8894bf7b851d971c3115178',\n",
              " '41b228e2b78d4000a3544143110fa6f7',\n",
              " '065f213f04b04f86bd20578d6559a655',\n",
              " 'ee2d248dfbfb4c12aed4402cac1c8b9c',\n",
              " '58d8df7bf1334dfebafbe76c6bb181d2',\n",
              " 'c64032f92a6341c58d0dbe93879486b7',\n",
              " '6ba1379cc3604d1b94aeb7d1fff40e3f',\n",
              " 'b250ab06a08948eba874f77291797999',\n",
              " '763ce6f04b22463a9fe884b2a393bd36',\n",
              " '911c9e60a00a497baeaccfe55dcbaab9',\n",
              " '6da59d4205b0443c8261482eae148fa8',\n",
              " '2f8f5d4b8c5e4eddb880d3e9c710b1e9',\n",
              " 'a1e9019542dd43349717d39d34e576bc',\n",
              " 'bc7cfb715ffc471197bcd35688a9b384',\n",
              " 'b86d6e52898940febbdc8c730ffed801',\n",
              " '7eedd88e61cf4340b849157e36bcb7d7',\n",
              " '7dc8625ad75f44bda8a68efec2b0b7d3',\n",
              " '5fb173fd026041218c2cc3bcfdc8d895',\n",
              " 'e0518b92f1b141bbaef5307468dd0eee',\n",
              " 'a2b534059b834f2c82d60db607db460d',\n",
              " 'bb0db3c00e044d168c46c9aa67b9b1d7',\n",
              " '0934b62def2d4bcb8ddd7ac881295712',\n",
              " '213adea3146a48a0b5288a8fff2ffdc8',\n",
              " '11631f2a285c4c5caa3ddb7bd420026e',\n",
              " '8c472315c1784ff3a2f27bbd76bce18f',\n",
              " 'f54f5bea12cd43ada4e4ec98ec1001e0',\n",
              " '842838ba468848f58af9052e6a79c3a2',\n",
              " 'cb36eb5dd8e64f50859e5216d213fc70',\n",
              " '9d907d2f43bb4c00902b2aba340b385d',\n",
              " 'a8c37bf3f9794d99a79c3b99cc322826',\n",
              " 'e71e62db6e6a40e5b01da9f85f511517',\n",
              " 'f83419093fba49cea83c8fc5d102dae6',\n",
              " '944d15fa8fda42b1b90c637d39e113d8',\n",
              " 'f9031ab86bcb4b30851d780e0b16deb2',\n",
              " 'aea6f56d7b6042f4a75086896b78f755',\n",
              " 'f95bbdafd1a64382b325a6cbfbd4b0b3',\n",
              " '4f5da8f429544faf8618c84dd5588d84',\n",
              " '68ac06c949e044ef8f2e76e561d64564',\n",
              " 'a058183b30104f91ab9f9f22fa6e2583',\n",
              " 'ebede6a0be5d4b5c914e8bc354eb3c5c',\n",
              " 'b5c3d91b443d432bb8962d2a67968092',\n",
              " '91b13b2cdec94196b90058a6be34b2d2',\n",
              " 'c58cb623d3744abb97a04477f92849f7',\n",
              " '1784281831a242cc8b57300087be7707',\n",
              " 'a46b969f2c134757b903878a3e47965d',\n",
              " 'fdcea9e2168f4d9b9999f5032256d64a',\n",
              " 'dc4689351a9e4619859fb3f8183d3c90',\n",
              " 'eef27633216249228b5879f969d09839',\n",
              " '68e19921f5ff4d10b1365cd73e7457e3',\n",
              " '48dd1c5bfaee42b9b406af44c32a9f1c',\n",
              " '08326b24ca614e9cabdf449902ef7144',\n",
              " 'bc3b0e48800e41d4b3001d6bb63716e0',\n",
              " '144d55aeb7704063a1cb0a0eb0f25dd9',\n",
              " '3d79061038e64c34a99f7b4642717629',\n",
              " '26217d07bf9e4272bf4a9df721248557',\n",
              " '1599c6aff59a457bb5e2d083a514fb52',\n",
              " 'eb9c1e4eb8ac470bbd1d1689454d9065',\n",
              " '950abc49762740e799ab2c6ba80c1fc2',\n",
              " 'e1ef5faac3d1405b8dc57a5cd7c114fc',\n",
              " 'fbb5f90122ff470f9b4e470134f78cb8',\n",
              " '8dc55447174f443992bdaebb592d455e',\n",
              " '9632ab549cc24b399766754c0da38a91',\n",
              " 'c85ff546d4d74da7a4c76dd389385dbf',\n",
              " 'a4429a7454c84e688486457a73f6d02d',\n",
              " '734007a2e30f431fb850b2fa0f2a8117',\n",
              " 'ca383fe332b549478b50ca90a78f09ac',\n",
              " '7a98ae28617e47128e63ab68a911873c',\n",
              " 'fc373e695aeb43288d26e73076c08d67',\n",
              " '0df4966f6c9a4cdd8e2146dab922cf28',\n",
              " 'a0a2163c50114d34a976e1855da0f6d1',\n",
              " '43d7eed731794ee6a36e494a2922ed11',\n",
              " 'a226c2a8ee1c4340be0a088a4acf0f73',\n",
              " '78c22d20d9674bdf9d2cd8a06e7e8887',\n",
              " '00a7f0353e4b425fa07bd54eb587be3b',\n",
              " '9ac999adba1a4e3c86dd27974052cc67',\n",
              " '576a85330ca04f81a954e27e4ae4c7d8',\n",
              " 'ac23ce7e54814dc9af729960a1bf4fc6',\n",
              " 'c0c8d3e896ed447f8d2ec337f0b484c6',\n",
              " '326ace65d1c74c51a7ad8aed6425f824',\n",
              " '15e0c9ce43e2476ea9bf363b4c0121e3',\n",
              " '0906af4d93944d879d56dbc9e5f802b0',\n",
              " '88acb4d0eba141f1b3f6898ca0f57f33',\n",
              " 'd033a77035a64484a93802e9ada55cc2',\n",
              " '8e793a7aa2d6477ca0fc8d481b9bd171',\n",
              " 'a7234f20ee164296a806b7589c815346',\n",
              " 'ebe2c49cda2c4466a4f8382c8580935a',\n",
              " '0381511b4f3a447890cfb659ec12499f',\n",
              " 'aa7f46204cd542f098d5a10a85daed33',\n",
              " '53298da9ec4f421ca955d071cf62faa3',\n",
              " 'e3ec62d3c8a24bd7b4ac0b3a09c7e4cc',\n",
              " 'faae0bcf30d54a8b8651584a453ec9dc',\n",
              " '426b3410dd42479e9d0ca8fbb2388ea6',\n",
              " '8317c5363467401d98b731905820ce56',\n",
              " '075ed71c79234a089c28b99988692db9',\n",
              " '636ae498b6d14e9f90f626165ba08920',\n",
              " 'ba4ef12cb3b94180bc4c8d097a93881b',\n",
              " '708640b699454ebbbe1d87d2019fc06c',\n",
              " '7201c39c8b3746de91cd67c61b50da83',\n",
              " 'f9e4c24c8ada4e05a580d01768c21fb5',\n",
              " 'cb52eda5d0074294aa887d3ab5d1fa14',\n",
              " 'daa9f4966a6441f78a90ab35c4dd7e52',\n",
              " '4d919459ebee42fab424c2934f82aa5f',\n",
              " 'c9f77e8a08fd42979793108d0a553a0a',\n",
              " 'e133bc97e80846c8a44f5796b95c2575',\n",
              " 'cea0913a163d440b8e115680bbdb85f9',\n",
              " '26136106d8724e8188aa868c3fc63fa0',\n",
              " '86c3bd18537e4f3d98f9d253d49f9926',\n",
              " 'cba3fc211814493192458a36c987b536',\n",
              " '679fe94cc6d645f0a3b02afb4b8aa93d',\n",
              " 'c5468098029a40a2a8fdd411bd08d727',\n",
              " 'a53a24bc66fb4344b930c95c82ab42e5',\n",
              " '08082b4956d64cf8a7ea0baa27c63783',\n",
              " '34296cb6e56b4b6ab1c9a65739a604a3',\n",
              " 'aa1226c698ee43d0aff851d9dd237995',\n",
              " '5a6bbdb94f6f4da1a9cfbce32b029122',\n",
              " 'eca194fe2bf9445ca6ef5be3c64198e1',\n",
              " '344189e3b1534d4aa0b4c388621e1af4',\n",
              " '19d068b041f74281acb5c083289f2881',\n",
              " '6854846f82ec4b9aa0638429f5e6e9d1',\n",
              " '12dd15a935c64503b774d504369151d1',\n",
              " '931ba54564974024bd164dd236beef1a',\n",
              " '60a353fc09b941318a2949816e49e7ac',\n",
              " '7c695a2c635143458a561bfbeaf69ed0',\n",
              " '6fe13ca4babd4aaa85270b1aff2e3c53',\n",
              " 'da47cee638174e72813b30010059ac09',\n",
              " '2974c193a3f24c06bf5cd10da4109bf2',\n",
              " 'b60c293e706a4e86a1aed0e07ad8ebbd',\n",
              " '2640b35b01424077ba887ffdf82e8d7f',\n",
              " 'da48a58887dc443480d28fa5b1843155',\n",
              " '82e92df31cac424ca13608b387ad9106',\n",
              " '5c255ba6b3a04c9a8580f168d7a23253',\n",
              " '7ba16a58e0db4edfba740136fdaefb5b',\n",
              " 'e2d9433a2d854e6e907cdd8ca8d484b7',\n",
              " 'a8a6a0788b54433f830d519c19701482',\n",
              " '889faaa29df5464d8061beb12d7083ae',\n",
              " '9a152270a75d4407a17fca88a96a0998',\n",
              " 'a859a2482a2b447a9e9e2330fc2b8341',\n",
              " '4cc089a600ed42d9b6c99af7e5b94447',\n",
              " 'cf19490a545a46b18c9e250444f36f40',\n",
              " '6e8fafa146f6447282315aeabb361512',\n",
              " '3b384ec633204660b2acb0235347f15e',\n",
              " 'c9cdb42c9c9b44cd89bfbe541bf43b97',\n",
              " 'bcef57dedd3d4d8fb368d254bfd0737a',\n",
              " '77490e5211f6497f8ab90779cce8ade9',\n",
              " '7a70bfd612fc4828bd85ff9d26699aca',\n",
              " '86852adaf34c4dd89f5e0707876d5580',\n",
              " 'e4bdaf51b76f4fd89c918ded3dbd9f8d',\n",
              " '99f3a067c1a8430b9e5bee9def6a7acd',\n",
              " 'ad95328626b54484945c3b428008ffea',\n",
              " 'c3c2f0f5a3594c229ca42baf39accc7e',\n",
              " 'a5978537798c46ccb4f36582fbaf4c95',\n",
              " '14183b29ca1f48c5a7bffaa79fdb4013',\n",
              " 'd2e06ee6f9ec4552ab4bee96dd4eda81',\n",
              " '5aac700e813f49b2a8055fef08ff8b6d',\n",
              " 'b698de67e2b6429892499584267fdac0',\n",
              " '36365226ec1b413190752b813500dc07',\n",
              " 'aed0f13c8047466794cc3f9378d6d23f',\n",
              " '7d7f7f0854304fd6934c42730bad7e72',\n",
              " 'f3583bf15782431bb592622888b55f68',\n",
              " '8c990a86ee934a5eb18d0d342560915f',\n",
              " '015cc01f89e3476ab4f488545f96fc56',\n",
              " '9dac476e30514087a51e76a7edb49a48',\n",
              " 'a5aa25e831324648b61f9df7450398e3',\n",
              " 'ee019322cd534a1f867b9ed0c0d4dbb9',\n",
              " '1116975b0619466cb587594d974aa28e',\n",
              " 'daa7526aed164afd8fe285e2f6c41951',\n",
              " 'd0bd825086ed43c6990da07606ba0af9',\n",
              " 'cdedf7788aba40c9bdf3e8e2bc960351',\n",
              " '8fbda9f37dd04f74a8b28f87465b80f0',\n",
              " 'd680d40fb44248d28016cbf4298d42c1',\n",
              " '07a8fd0d0203438daee6ecd035115a5e',\n",
              " 'b132afc400124038a9f99e3c06eff428',\n",
              " 'ad265c1a48de4f7fb2f7082ced9c2fab',\n",
              " '4a6b0c4d8a67458d87b821afe6e305c2',\n",
              " '04b988ccbbc140d3aa0e47d3e9bacea7',\n",
              " 'd4dd69a3a1554415b4f9c28bc5c8eefa',\n",
              " '4274ce52aed04e8eb2ee7ae42d130b66',\n",
              " '8c52e212d58d441aba61fc48db95bee8',\n",
              " 'bbf3bdf675914b4b82cd52e50fcff9dc',\n",
              " '17ade28d7f1f47479eb3d60bd447c1a8',\n",
              " '1d7c238ee7914f8b94f8d65d84df42c4',\n",
              " '8a7e6fc7bca847dbacacc2c3d639698c',\n",
              " 'e1da8b68c28b4979bac0b72bb91dd510',\n",
              " '60a6aea4205d4acaa2cc622ac91abf53',\n",
              " 'ae6710183a534d04a4feb82e7b5fc896',\n",
              " 'e1232f3dd7c9423585baeb85f81934ae',\n",
              " 'bfb0ce4d3b07429fa0fc03ad0fadba51',\n",
              " '3e6ca411c85748e7a4ffcab9b46bcd5a',\n",
              " '08fc3497c1d3429b8523f04259f1c549',\n",
              " '8fa5216f33ef41cab8ca0e9bfbc36286',\n",
              " '1f08cbb8419246619c4e48a756a599c5',\n",
              " '8ced03b37bb24279978c23c7164ddb06',\n",
              " '67f7b4f7904946f1a4f430e318a8fe8d',\n",
              " '5fd7736766b943f7b05c35e397876fff',\n",
              " '4813df47ddee4d2ba000c5ae3b76ec9b',\n",
              " 'a1605eed6aaf49a79678b0f0f43e7185',\n",
              " '46229a7472f8440183e32b15cb4126af',\n",
              " 'ed1647dfcd1c4835a7f5c067b684f6d0',\n",
              " '3201307dcb0a437a96d9609006b0970f',\n",
              " 'ad1cb1ac3721490a89c9d9697637ee9c',\n",
              " '213ff3d154aa4026a38cf3dbbc50d394',\n",
              " 'ed313b3fd8fb4ff09c12cd433f43917e',\n",
              " '5af30397c35f4921ab34a3d0940990fe',\n",
              " '75ffb035b00d48539f5d9403fe7857f3',\n",
              " '501884ed325b4a1d83fbe417c7018be7',\n",
              " '0d84a77d3f7441469876ef25ee685471',\n",
              " '288a3960d9a94a2f9b2adb8c45ccbeff',\n",
              " '8a82a9ae20b94af6adf068e9cade0d0c',\n",
              " '250619a935c44287b22a4cd06cb4e6da',\n",
              " '853e11db87ad4b8e80e99718818a4b3a',\n",
              " '3608797ad3574c91878899ad2e99f22d',\n",
              " 'b4fc5eb798b540198f6293a480a0e85f',\n",
              " '3387a29f1bcf4a69b1fc48bc16be0ac7',\n",
              " 'b3f997cda8e247c6ac1c253ae2783b93',\n",
              " '6d06226480ef4c4695491fceebcac2f0',\n",
              " '4eea96192050426d9a2e36db0054c9e0',\n",
              " 'e510f91a352e48ac8ca64a0aeb03dec8',\n",
              " '6ce6f6bda9d4464884963061f20ef26d',\n",
              " '46d3b9fe4a6e4faaac28f836f5e03f3d',\n",
              " '38a935b49ceb46e6a3001e777284aa1a',\n",
              " '332b61ed41794fe48a38943c1385bb56',\n",
              " '18b4fc4b05ab41af9747416558a42d8b',\n",
              " 'acc8bb19c69f4efebd8c1fc86358e101',\n",
              " 'b3e9038bec734f06abf88d64f6539c81',\n",
              " 'd331802eacf849158f69375dfb69862b',\n",
              " '54b3060bdcce483fbcb514ce00d5c6ae',\n",
              " '466752451922409385b041f6fc03c216',\n",
              " '0d64a2cbd77b4fb69e7bee74c1dab2fa',\n",
              " '17e16878c1304f4d856678257960a11d',\n",
              " '23f52822aab84d949b6080deffab5be2',\n",
              " '353876bee5c94ff1a460ad345a8cfea2',\n",
              " '694d25e8821d4b5492a1552e334a837f',\n",
              " '65c219c627cd49659270529ce39f671d',\n",
              " '4ddbe531afb342b79185a273c51a1324',\n",
              " '4e0a206e2be943948a06b351985dbd44',\n",
              " '2f5c10bf805d4b36b896c54ddc50fba6',\n",
              " '88165845d265475398d8e0d819dbfecb',\n",
              " '73b284f755e84b479d1c2c77ea807e0b',\n",
              " '5f9b07f7542142c59ee58dd50664076a',\n",
              " '18430572ef78473a94c1d5846e912a7d',\n",
              " 'bd2e28807fc548b88d0a2030987821fc',\n",
              " '132c79b4fe534d1dbc30a0083a3300bf',\n",
              " '99e64ab5c5354065a387a9ab8374e19c',\n",
              " '5eacb6f1337446788e31fd86cfc5cb87',\n",
              " 'e672bede8a1d4ff4b634637f78cd1796',\n",
              " 'f7002a6e9c824fd1ab0fc2d726fd5a14',\n",
              " '649b5ea809d14645b3e5f24a8c28e169',\n",
              " 'e8a8fa60ea1a4eef86329fb18373ca34',\n",
              " '0732a40f7f034da38c99dcbdc35fb8d4',\n",
              " '94c2044088bb42e5a2c9ce2aa0217104',\n",
              " '8861221e103248e7bdf9475188ea84f0',\n",
              " 'e4e19bcfb879436596b87e76392ae018',\n",
              " '2f32fc02f4ea4eb48c65386fc5371c53',\n",
              " 'b44aa4e83e744f7fa5d8d1df2a276f7d',\n",
              " '1dfac0766eaf47b1b6084730b426e625',\n",
              " '7ccce4ac5d2248518675415cf3cf5fd5',\n",
              " 'd7f8e6512c44479bb5fec5cda1f4c66f',\n",
              " '17ddb6156cd94b6c8045ca582304a7c0',\n",
              " '4bca9e86fa8a4719a19ce0eb741931bd',\n",
              " '45b7a8ba0582458bbcc29c9176256d73',\n",
              " 'b6ea0fcbcb1245f7b1f85956055c630d',\n",
              " '7c9ad3fcea184bb3bf1f4b33e16192be',\n",
              " '22c65fab855141fbbb279a35f2bae86e',\n",
              " 'ca76633f131844c8bfc25536dc3f135e',\n",
              " 'b0a8313e359642dea57945060ea8a0a4',\n",
              " '4433f7cad36b4dd3ab3a74cb611d7d88',\n",
              " '1720bbadcde24ff5a7d1815bec606171',\n",
              " 'add6962e0bb1452ea4392b25fe484a5f',\n",
              " '3f3d4d5c514341919c62a9af40fd5747',\n",
              " '2e4c6fdab6544d1095c20294a2cd0f19',\n",
              " '96be031e16a0440089800f823bcae5c8',\n",
              " '4f0cc214c8b041bb9c603a8e9ec74e1f',\n",
              " '187e99c5d1e84e05b9de6aa08d0a8bec',\n",
              " '755faa981f2b4cb9aaa8e3856043ff88',\n",
              " 'cb9b484c1c984b6fa7437a5d604edaa1',\n",
              " 'f709060aa21f47a98c8c157ac3f8af8d',\n",
              " 'c27ee9313b214a7e9177aaa0a82f65ff',\n",
              " 'a2d2ec69f1604788b36fa657ec8cd6c4',\n",
              " '021d8a1fc40c4fd6a3ed0102d8f601ff',\n",
              " 'db64bb94a77c43a0bb8cc875b77c82c6',\n",
              " '7fc715f16aee46d68789518a5a5fc78c',\n",
              " '0a2ba7be6a6a471a898c9e90be64956f',\n",
              " 'b53abf684ea343cc813c5845da74976d',\n",
              " 'fd65ac7f22f74fa3bea70e331af00750',\n",
              " '645c4357f0e84d3aaf78244b0b4ca17b',\n",
              " 'a36d4088316b46e7b13c74aca62929c2',\n",
              " '6fa4018d8f8c4b5b9f3d2ac283bf0933',\n",
              " '8ab97e96fa3642bc892e74cc3b29576b',\n",
              " '277e0a9f136947eeba0894b2b03e25b1',\n",
              " '075605eb60db4fb2ac80ac4dd627786f',\n",
              " '4c55aa33e4024577869f4a9183f68cdb',\n",
              " '59edfe315a25406dbb689a3daaa627eb',\n",
              " '95dbd5aba6764d8f9c6697e15a5862c2',\n",
              " '50fe3cf7fb7346d0b6baa540782d5b66',\n",
              " '1a775d28129a45ccaacd952d67a695b4',\n",
              " 'bf423901b7f24fcd884c95e60a1a93a3',\n",
              " 'b390ff866e6e418498c91641133722b2',\n",
              " 'a92551c08eb74e1da4a900eacfb7dd49',\n",
              " 'a241e47dc7e446e298929991679bc38f',\n",
              " 'bd70c7501eb749cda5f6f70e0f7d1bd7',\n",
              " 'ab3d2727a16247ec85289c42d71b5f68',\n",
              " '8acddc1635f043f38d4ba2f9b406bef9',\n",
              " 'ecda5381408a48a5aa98115207d21d9a',\n",
              " 'e35f36480a114ba0b1655b35f727c16a',\n",
              " '182e253523f64b0c9522568eb1f23e92',\n",
              " '1afb03dccc144eb9a6a038ef79498050',\n",
              " '33933617667e42d2bdd91f377dfeb553',\n",
              " 'e128c7ace9e04ad0a421705a3f10e51d',\n",
              " '16674dbcfcca4f088409fe21a5a76715',\n",
              " '86a6caf840ca4ac9907094bbbeb2dfc5',\n",
              " 'd41b7012c05945199d371bc981bdfe7e',\n",
              " '252b6ee36db040a49ffa6d2007aa9257',\n",
              " '3190ecc34ec74406bb7f59cd125d0cc0',\n",
              " '5f60360b079d4e80bdd7e8ec1364ba58',\n",
              " '6e66fe050b44421184295f4565cd9398',\n",
              " '8feb91c1484a48109236a5bf32296c3a',\n",
              " '36ddb027a74841d480d6ccf08da82fcb',\n",
              " '7bba22727b41428d959e984159ed969f',\n",
              " '7d9be9b02028497db1885eb4303f8c9d',\n",
              " '8c49400946cb4a5d9e3d0332f53815af',\n",
              " '55c0d51ccdc8424ca39e0c5ae9670ed3',\n",
              " '231749f722064296b7a9dc5ea211e367',\n",
              " '4bf0f75b581a42cab6c187dd2081bc3a',\n",
              " '89519fb3e4894bf6a9ca5b014c10d7d8',\n",
              " 'c6bbe47a4d594f46b15e9135afda71fd',\n",
              " '9fb39b7640814ef29698c1881c5acfa8',\n",
              " '9aa10d4117c149e19ed3dd68a7871e0e',\n",
              " '1b63d800a8544b9dbf64cb7a386417b6',\n",
              " 'a2034802cfb74c60b07c5f85129c917c',\n",
              " '4b7b526e6c8e4cb79a8baaf55b6430b2',\n",
              " '49a8e119883447c58fad7f614dc5a3f5',\n",
              " '9ca949d70f304eecaf46cf3dd1b1186e',\n",
              " '0e540b43754543ec8a62039b457a8906',\n",
              " '45791b8349a140dc9495ec78f9c11a85',\n",
              " 'a2f2014d1d5f40c4a572d74eaaae5b57',\n",
              " '8ca62bd610ee447794a149df7491bf9d',\n",
              " 'a5d1ca70655041af8e6dca58828992b1',\n",
              " 'cc1583155c37492ca3f29966d715e6dd',\n",
              " '73f9e15426a84ca9becdb0f4322d7b34',\n",
              " '2386d5f900184604892c537e30697314',\n",
              " '7929f1cd96c04f389c8a38137b1552bb',\n",
              " '346f2be726de4128a2f8e3e2253fe096',\n",
              " '3e98c8112d984469bc2d28764b72bb81',\n",
              " 'e775939cecc14d089c9a2e34b7e259a8',\n",
              " '6df5091c6a26439cabadeb95001ad38b',\n",
              " 'e6d6327a88584778884af05834eea70a',\n",
              " '7b172ab145d047ea8c1409dc82c7d782',\n",
              " 'de24b8fe633d4a5ba66181a8f5ff3331',\n",
              " 'a452dda03e394ba2ae62ea258fcc1e05',\n",
              " 'ccc381b5228f43f7bbcb2ade91bed61d',\n",
              " '3b3bad97d4cc45b58f0fb8f33ecc6f93',\n",
              " 'c4347483079645b08ee2794238f4bee5',\n",
              " 'fb4e1fc430954d14b5e0b7088281b0cf',\n",
              " 'f13735e9fb1c4e799f3e93eadadf1e9d',\n",
              " 'c047f9e0c9434bb1acebc70bf23121db',\n",
              " 'f1e052c74ca94814ad6ef5ddab47cedd',\n",
              " '15a6953046cb423c9663c40905040169',\n",
              " '5c2572cb7e3d4cbb81037db3086be7f4',\n",
              " '2ed4a5e0a76b4cbc8d49b149073065af',\n",
              " '8c5122b02ff34f31b3ab223b086d7f02',\n",
              " 'bb1796571f474a439e35d56a4662bd07',\n",
              " '8f92d068a5bf447ebd1404a9169b16d6',\n",
              " '828de1ec745547738c7d2eb34ec51c75',\n",
              " '894ea5c11f934163976ead7f97d44006',\n",
              " '67ef9c12547649279153a41541f770c1',\n",
              " '1bc49507eb7e41dd96c31fc591aaa108',\n",
              " 'c2342f19958b405aacebba38b23859fa',\n",
              " 'f947c6422cad4e06a012e376e12dd3a2',\n",
              " '961f84ef3fd94783a6841e9a2edbf5c5',\n",
              " '47cc847708a549c8ae0dde5a30cbf7c0',\n",
              " '896d03763fcc4467990db7fcdf1137a1',\n",
              " 'd0b7eebb44e14f95a7e9794cee771ffe',\n",
              " 'bae03ce4d54244f7bf6cf1439e4b0815',\n",
              " '3330ece9a6bf4ee79c8a38bfd26f13b0',\n",
              " 'dc6f91df92f54e278ed543b1ca6b429f',\n",
              " '586dc0d79cb148ed855e8117ac2985cb',\n",
              " '77a25d9d073d41e2aad6e71e7f795f1b',\n",
              " '5597967519db4e7f8677bfe1da5f28f8',\n",
              " '1a4bc4164d6448e0b2b31d65ad4c06f2',\n",
              " '7b2a8d2757b14fcbb5bf1d634dd53b7a',\n",
              " '3bbac5a3715b458a88196437f6d083e0',\n",
              " 'b7c482cb666842ec9e49642e0763b674',\n",
              " '0d653de3fafc4d60b7047373c61c60ac',\n",
              " 'aa54f5830e5f402897fb2043edc005ac',\n",
              " 'b4a6b3bdd88d45b89a6fe2f3b73b69e9',\n",
              " 'bca10b267e8c4acb856d2a7163a8e7fe',\n",
              " '92d902d4e42c42b89b897ae8debdf6b4',\n",
              " 'ffca33ec2c104e8491259acf6685d2ca',\n",
              " '31b3626516314412bc4619fc234b6649',\n",
              " '53ff08ff1bb84e0ba7f3de444419f5be',\n",
              " '0017e460032b49b1962e8c1ee6768605',\n",
              " '5d41175efd674a9ab7f4915d23d9754f',\n",
              " '62964f1a7e7549fd9af468f60755698a',\n",
              " 'ddd74a683c554fd4a8d7163bddaa6c1c',\n",
              " '81016bb6c1634f698713d2b2477abd18',\n",
              " 'ef752baa94ae473eb7a610fc682b23fd',\n",
              " '7909d4c045c647efb854efcb095a8561',\n",
              " 'bffc5d1fb60b4b08a4b33ac29193006d',\n",
              " 'ef923f044b6a4c72ab716d29055c4018',\n",
              " '62c712e8f7da48c7b63c42517e37396c',\n",
              " '1fbeea847c5443cdb86c5a66d7786159',\n",
              " 'e873c0860fe1485b98baf4b43a5192eb',\n",
              " 'd143284755db4bbb82c491a615155b4a',\n",
              " 'e610237891014559a42e2cf8904a6273',\n",
              " 'd4994880170245d18f5ffb4ab45d9be7',\n",
              " 'a3e6a79683514b7aac854ea7de19e77f',\n",
              " 'b11f26c1fd814033b53b3f62addff485',\n",
              " '9b8eca585bb64efc9293a2dde59c1ab9',\n",
              " '313197e2b8a44b83a1811371e80d9583',\n",
              " '28127426bb93405581a95231a63c7ec2',\n",
              " '47f74648a6974cbf8f3e396f6a76a5e9',\n",
              " '112e9f15ebcb411395aac8a18ccacd3f',\n",
              " 'd92aa08b31444b1792e78c3297e5e1fe',\n",
              " '37516d8cbe8e4f779c809230f9f66d74',\n",
              " '236ce4ace2554dd9b767d641e68f24f5',\n",
              " 'c52feca8075747b88abd2402885659d4',\n",
              " '5fd3af2b063b4f2180a6dd1bd6024535',\n",
              " 'e1a281e24d674694930a2923a224a809',\n",
              " '74b5f28c47bc40e683314ceff5e85117',\n",
              " '8651e52662dd4643af888a98be0ac108',\n",
              " 'a495c7d895dd4fc487929f7722f74338',\n",
              " '8d9f4ca30d6e49efa7f4b38393249892',\n",
              " '9499e4ffe8974996a58e3eff372250db',\n",
              " '081b835504704ef88178eb76c96a97df',\n",
              " '4de743fecded46aabfe7c4a231ec1e5c',\n",
              " 'c54703ce850a4d0ea1bf7fac5c2573e5',\n",
              " 'd2df73531d72426daa73af59dcefa8f4',\n",
              " '937dd150e37b4ba38aef55cb59fe0dd6',\n",
              " '4bc82326c0bd4a0f959825aa1acf4476',\n",
              " '38ac3fc359ee4e478e93b5ed66e79f61',\n",
              " 'eb14b3aa97ee416cad51bbf3d5bedd4f',\n",
              " 'f548536f6fc2490ba2685943ff04b3a0',\n",
              " 'c806f904ba424eb797e8eea5787b6593',\n",
              " 'be9502b46f27452f8305e2f92359cfa2',\n",
              " 'a3f71b50d1674a75b7435ce4951277a4',\n",
              " '26da3b41cd514c47a3a08e69f16e4b09',\n",
              " 'af84d678f65744de86e5622fa6a13ba5',\n",
              " '7ad2a6414cdf46759520e13de37e3279',\n",
              " 'a7fc9b8faff141d3837456f5436b08d0',\n",
              " '64daec8e742c4a32baff6bc7de88f0cd',\n",
              " 'cbdfb5df9b6140b7bab9d6b30112727e',\n",
              " '398a3e8e30664d5993f0a2168f219176',\n",
              " 'fea4fda3a9124bbcae8aa1322aa9c66d',\n",
              " '778ed4c92bea4cb88d47ede05f12d891',\n",
              " 'ff1dd2c6314d461a83ad37c761c2d0ce',\n",
              " 'c7d76ecd67614811ab259c70cbd9a407',\n",
              " 'f33d6856a9384bcaacab01cbb6fe38bf',\n",
              " '6a225ba6142249859e1b8742f1a89630',\n",
              " '2f95517d07d041e297789f51b89109fa',\n",
              " '772d0d07e9504dcebcef24fc5f05e5db',\n",
              " '5e85c46d84144ab584bfe6f643f83a7b',\n",
              " 'e35b0e58f9984883b70088673204e428',\n",
              " 'e41876e000824417bf6a592092d59dcf',\n",
              " '09ffc04753e844a49ba312337b79b8fa',\n",
              " '51120331237e44f8b64fad040a8797ab',\n",
              " 'f794ee9abc114e869671f084763b99f6',\n",
              " 'af8c683e35694683bc58cb727187980f',\n",
              " '96b503ccf84a41abaa2a2889a1a96691',\n",
              " '20d70aa8435740ca9fc90cb95d6fa9b9',\n",
              " 'fe27a2cd136249b2ab656ed835c612e5',\n",
              " '974bad17dc074b0b8bd2baaebff9aaa3',\n",
              " '61dc7eba8c2d4be5984c38d1b97ee7cd',\n",
              " '5b3011607741446fa68b141a8aaa238d',\n",
              " '81be0ec793a54440a4218ea96435b36c',\n",
              " 'abd72bb6ce4247fcb19f6a972878ca0e',\n",
              " '6b213939359d445ebd70dbdd50c3f700',\n",
              " 'dca36e1a35904146be2098a38de354df',\n",
              " '61d5254231764d5fae4bbc780db28d54',\n",
              " '1b07cd82e0234161a3202eaf2315fc5c',\n",
              " '7f775cd6a164459d88986f5632813320',\n",
              " '89ecb38bc3a044d58166e470b52ebd5c',\n",
              " '065cd38ff42c41bebfb9119b2bc8488f',\n",
              " '391717e2958e48d49a53ae7f511a3b73',\n",
              " 'c6ccf0dcbd5c44328c35b98393491caf',\n",
              " 'ac2bbf66ee3c4db8b8eb902516268ca9',\n",
              " 'b84934e4a8ba4f56b6531f98ece7a469',\n",
              " 'd1d3bd716ec14daeacd1aa1769b81275',\n",
              " '759197fe9c504493a7a8a7787114b896',\n",
              " '43d6c4ee2a3744f6ab58781062a7cffe',\n",
              " 'd16954cac6bf4bd98d0f91b65e910f1b',\n",
              " '933cdc29eeb04b158ddf92d62b5c1685',\n",
              " 'c2699be17fd2450d8c15e324fe366602',\n",
              " 'd2a7c7643dec4fbd845d6150949842de',\n",
              " 'b5633d56855c4712bdefbb4fb3108b34',\n",
              " '0ea32c6c941747a48bb0763558004752',\n",
              " '745ca83162d449a5a8bef4c7a8a68dd7',\n",
              " 'fa382a8a5f8c4b9ea25259bac53668c4',\n",
              " '8b79033f55d345e5982982ff5b8430c2',\n",
              " 'c0669bd976f44da8911d6d516d26a17f',\n",
              " 'f881fc64266e4facb06dc21a70f44d38',\n",
              " '335d8f1a8f8145a883014b025798c71d',\n",
              " '59c9c52fdc344133bc1624611b1e53b6',\n",
              " '463a0cc04be8410f8b3fd320e1a444d3',\n",
              " '66971e92d4e1451ba5a30f601bff7e85',\n",
              " 'eb4f389419424c7aaf6468dc0d23fe24',\n",
              " '9b0c25034db748b2a452c20722c07ef3',\n",
              " '40f9f37755b04986ac684fad9753c5fa',\n",
              " '45f4e846cfb24979bc7e01b026df48f3',\n",
              " '43084890487140f8a24c6288a71ad547',\n",
              " 'cb3fdb338c904d4aa5d754d8fb6d76b5',\n",
              " '7b179cf0f8534fdea1273546859f842d',\n",
              " 'fbb7a213137c4225b5c8aef63b855a49',\n",
              " '1ea479dfe85949ebaa0929dd7ae60f79',\n",
              " 'e5d10eb6f5304a0abbc25d286cfc2eba',\n",
              " '93a75d0b6bdf4fa684f5f00c4006713d',\n",
              " '4f548011b341487a9c18f947bae8910e',\n",
              " 'f49b85686a1447909740889d1945a203',\n",
              " '443663025dfa4fc6b2a8313ef763e498',\n",
              " '72dbe7840f2c43868fcfca5cd3c81766',\n",
              " '7e87e9a0ee2d4a6eab04e74826121e0c',\n",
              " '6645f90899624cb7a065447dde96129e',\n",
              " '43faae8beaf64b4383f1cd3c28d962a1',\n",
              " '0c64b12f79bf458aafbf142aa00438d9',\n",
              " 'aa4b8e83c0c046d682455bdbd5b92ae7',\n",
              " '27d53ca6b61040fe880d274d4e110361',\n",
              " '97eb984828594939895bd321c2a0c0f9',\n",
              " 'bf58444917aa4155915dc9fe3e18d04d',\n",
              " 'ea5b2c62af2e4399ad1c5b4080165375',\n",
              " 'b895246636524c4d953f8b6a811a058a',\n",
              " '633a6bcf381045b3921e433dd0cf05d1',\n",
              " '6036d3b69c86472b925e21b18532cd35',\n",
              " '7302cca0e1684965984e16d7f4a0daaf',\n",
              " 'ad4ce44ff96a4392bd0d62db6f176f8b',\n",
              " 'c6c1411b6bca49ceb02edf4b7a3ad41e',\n",
              " 'bca43ea111d249b6b6d48556250f3df6',\n",
              " '95d52df786594af7b0c145ff5aaf1430',\n",
              " 'a0c8ccf3162140cdb946f289b68d44f7',\n",
              " 'aaf964658cc441b8b482efff1595748d',\n",
              " 'fedce171b3dc4da69e5462105fc86b43',\n",
              " '989f1f0c5d4c44bab2f8466059067b49',\n",
              " '4e4a962c3f924caf94199aaca61835c2',\n",
              " '1b377272c2cb43b490cbc8bb59cd142f',\n",
              " 'f3c427f957bf4a25a1888fe259919f0a',\n",
              " 'e66fc789bbeb4b3ab51523496f70f1dd',\n",
              " 'f550dda2d529409d9ec13022c6707c0a',\n",
              " '62085e1c829348aabdc8dba8ad4bd2ae',\n",
              " '547cb890901f451598ba21318add8805',\n",
              " '32253f6e5dd74e2d96db5a26f6958d8d',\n",
              " '4542e16f18c44d8c9d972f0ed44eac6c',\n",
              " '30cc168c1df04eebad3d95f6ac7c4184',\n",
              " '2103eefcadc54fb3b6b0067b71268825',\n",
              " 'c0bf2f00ae72466a9b8963721a75595c',\n",
              " '94bd99af73d1438ab1996aa74d6c7d29',\n",
              " '7c3ecb65b9b640528c8bb6b52228e365',\n",
              " '84c0cc0c1b1644f0b33756060613b054',\n",
              " '356bbc28d0224efe8f5f1ecb1f449971',\n",
              " '7fae2b6026514c16878a11aa94569e93',\n",
              " '85f883e473414fb89bc82b61bac01d92',\n",
              " '2557b8aeb11c4a47a7e26f28a4e7fd1a',\n",
              " '8c7aa5cb81a24ce693a415649b7766ec',\n",
              " 'a756ad0acc7f44b69739a68be370f060',\n",
              " 'b4a716cc96924da09e2407a98977ffed',\n",
              " '125dd7a193694cd39740ef7224895deb',\n",
              " '56eb613b2e9e49749ae8d0ce0e78e78e',\n",
              " '414e0791742d4f2cb115a5a4a022f561',\n",
              " 'e08e836925294ff5948c60cf73805187',\n",
              " '2e40f32cad044a739639c64630ab2824',\n",
              " '0f47504bbc8e445aa4c4c8b4ee7c31f4',\n",
              " '0b8cd27a3abd4a46a2737d7472afefdd',\n",
              " 'd4df939633e649ec8d52a74a02ff5a8e',\n",
              " '906beeac730241048d6f356040c5c5f4',\n",
              " '12756485b0434c298a746f4d28a06587',\n",
              " '047f4d1643054b44a6e666a973f370fa',\n",
              " '9f6e75996f784b4a85d9d225411d1876',\n",
              " '0a985edba2c74e1aa8ba0f0cc7e0a63c',\n",
              " 'eceea2785a4a4d848ad763c52f758f67',\n",
              " '02280ac172124e3b9bf3bf95fef870ea',\n",
              " 'e94320f1e1234de1b0f2533cdbd313e1',\n",
              " '699681ca39154616b273a32aa15d7540',\n",
              " '1d2d9067cbe24c799522dfb6b0644799',\n",
              " ...]"
            ]
          },
          "execution_count": 13,
          "metadata": {},
          "output_type": "execute_result"
        }
      ],
      "source": [
        "qdrant_client = QdrantClient(LOCATION)\n",
        "\n",
        "qdrant_client.create_collection(\n",
        "    collection_name=COLLECTION_NAME,\n",
        "    vectors_config=VectorParams(size=VECTOR_SIZE, distance=Distance.COSINE),\n",
        ")\n",
        "\n",
        "qdrant_vector_store = QdrantVectorStore(\n",
        "    client=qdrant_client,\n",
        "    collection_name=COLLECTION_NAME,\n",
        "    embedding=embeddings,\n",
        ")\n",
        "\n",
        "qdrant_vector_store.add_documents(documents)"
      ]
    },
    {
      "cell_type": "markdown",
      "metadata": {
        "id": "Vk50NmrMDlWu"
      },
      "source": [
        "####❓ Question #1:\n",
        "\n",
        "List out a few of the techniques that Qdrant uses that make it performant.\n",
        "\n",
        "> NOTE: Check the [documentation](https://qdrant.tech/documentation/overview/) for more information about QDrant!"
      ]
    },
    {
      "cell_type": "markdown",
      "metadata": {},
      "source": [
        "**Answer**\n",
        "\n",
        "Qdrant uses specialized data structures and indexing techniques to efficiently retrive information:\n",
        "- Hierarchical Navigable Small World (HNSW) – which is used to implement Approximate Nearest Neighbors\n",
        "    - HNSW is known for its speed and accuracy in searching through high-dimensional vector spaces\n",
        "    - enable fast similarity and semantic search while allowing users to find vectors that are the closest to a given query vector based on some distance metric\n",
        "- hybrid approach to search: combines vector similarity search with traditional keyword-based filtering\n",
        "- memory mapping, which allows it to handle larger datasets without overwhelming system memory\n",
        "- dynamic quantization technique which compresses vectors in a way that balances performance and accuracy, making it suitable for large-scale applications\n",
        "- real-time insertion, deletion, and update of vectors without requiring a full index rebuild, ensuring that search results remain up-to-date without performance degradation\n",
        "- multithreading and parallel processing to handle multiple queries simultaneously, which improves throughput and query response times\n",
        "- sharding and replication, which allows for horizontal scalability (fault tolerance)"
      ]
    },
    {
      "cell_type": "markdown",
      "metadata": {
        "id": "Z7ht6bJX9PAY"
      },
      "source": [
        "#### Creating a Retriever\n",
        "\n",
        "To complete our index, all that's left to do is expose our vectorstore as a retriever - which we can do the same way we would in previous version of LangChain!"
      ]
    },
    {
      "cell_type": "code",
      "execution_count": 14,
      "metadata": {
        "id": "xne8P5dQTUiR"
      },
      "outputs": [],
      "source": [
        "retriever = qdrant_vector_store.as_retriever()"
      ]
    },
    {
      "cell_type": "markdown",
      "metadata": {
        "id": "sO_DFBVKNvNm"
      },
      "source": [
        "#### Testing our Retriever\n",
        "\n",
        "Now that we've gone through the trouble of creating our retriever - let's see it in action!"
      ]
    },
    {
      "cell_type": "code",
      "execution_count": 15,
      "metadata": {
        "id": "I9_ONxpnN0n6"
      },
      "outputs": [],
      "source": [
        "retrieved_documents = retriever.invoke(\"What is a rule of thumb for selecting an industry to invest in?\")"
      ]
    },
    {
      "cell_type": "code",
      "execution_count": 22,
      "metadata": {
        "colab": {
          "base_uri": "https://localhost:8080/"
        },
        "id": "-Za12yt4OBy1",
        "outputId": "6ea18d4f-b045-43d4-c597-a13ff5b1c2c4"
      },
      "outputs": [
        {
          "data": {
            "text/markdown": [
              "the existing order — and make sure that those forces of change\n",
              "have a reasonable chance at succeeding.\n",
              "Second rule of thumb:\n",
              "Once you have picked an industry, get right to the center of it"
            ],
            "text/plain": [
              "<IPython.core.display.Markdown object>"
            ]
          },
          "metadata": {},
          "output_type": "display_data"
        },
        {
          "data": {
            "text/markdown": [
              "{'source': 'https://d1lamhf6l6yk6d.cloudfront.net/uploads/2021/08/The-pmarca-Blog-Archives.pdf', 'file_path': 'https://d1lamhf6l6yk6d.cloudfront.net/uploads/2021/08/The-pmarca-Blog-Archives.pdf', 'page': 125, 'total_pages': 195, 'format': 'PDF 1.3', 'title': 'The Pmarca Blog Archives', 'author': '', 'subject': '', 'keywords': '', 'creator': '', 'producer': 'Mac OS X 10.10 Quartz PDFContext', 'creationDate': \"D:20150110020418Z00'00'\", 'modDate': \"D:20150110020418Z00'00'\", 'trapped': '', '_id': '9f0095fadccb452abb95099f69d48895', '_collection_name': 'PMarca Blogs'}"
            ],
            "text/plain": [
              "<IPython.core.display.Markdown object>"
            ]
          },
          "metadata": {},
          "output_type": "display_data"
        },
        {
          "data": {
            "text/markdown": [
              "Third rule:\n",
              "In a rapidly changing Held like technology, the best place to\n",
              "get experience when you’re starting out is in younger, high-\n",
              "growth companies."
            ],
            "text/plain": [
              "<IPython.core.display.Markdown object>"
            ]
          },
          "metadata": {},
          "output_type": "display_data"
        },
        {
          "data": {
            "text/markdown": [
              "{'source': 'https://d1lamhf6l6yk6d.cloudfront.net/uploads/2021/08/The-pmarca-Blog-Archives.pdf', 'file_path': 'https://d1lamhf6l6yk6d.cloudfront.net/uploads/2021/08/The-pmarca-Blog-Archives.pdf', 'page': 127, 'total_pages': 195, 'format': 'PDF 1.3', 'title': 'The Pmarca Blog Archives', 'author': '', 'subject': '', 'keywords': '', 'creator': '', 'producer': 'Mac OS X 10.10 Quartz PDFContext', 'creationDate': \"D:20150110020418Z00'00'\", 'modDate': \"D:20150110020418Z00'00'\", 'trapped': '', '_id': 'a4c54b7396744a79a4fd44e5ed4bd2d1', '_collection_name': 'PMarca Blogs'}"
            ],
            "text/plain": [
              "<IPython.core.display.Markdown object>"
            ]
          },
          "metadata": {},
          "output_type": "display_data"
        },
        {
          "data": {
            "text/markdown": [
              "where the great opportunities can be found.\n",
              "Apply this rule when selecting which company to go to. Go to\n",
              "the company where all the action is happening."
            ],
            "text/plain": [
              "<IPython.core.display.Markdown object>"
            ]
          },
          "metadata": {},
          "output_type": "display_data"
        },
        {
          "data": {
            "text/markdown": [
              "{'source': 'https://d1lamhf6l6yk6d.cloudfront.net/uploads/2021/08/The-pmarca-Blog-Archives.pdf', 'file_path': 'https://d1lamhf6l6yk6d.cloudfront.net/uploads/2021/08/The-pmarca-Blog-Archives.pdf', 'page': 125, 'total_pages': 195, 'format': 'PDF 1.3', 'title': 'The Pmarca Blog Archives', 'author': '', 'subject': '', 'keywords': '', 'creator': '', 'producer': 'Mac OS X 10.10 Quartz PDFContext', 'creationDate': \"D:20150110020418Z00'00'\", 'modDate': \"D:20150110020418Z00'00'\", 'trapped': '', '_id': '58b09226605f4fd588015a9d1ed55905', '_collection_name': 'PMarca Blogs'}"
            ],
            "text/plain": [
              "<IPython.core.display.Markdown object>"
            ]
          },
          "metadata": {},
          "output_type": "display_data"
        },
        {
          "data": {
            "text/markdown": [
              "growth companies.\n",
              "(This is not necessarily true in older and more established\n",
              "industries, but those aren’t the industries we’re talking about.)"
            ],
            "text/plain": [
              "<IPython.core.display.Markdown object>"
            ]
          },
          "metadata": {},
          "output_type": "display_data"
        },
        {
          "data": {
            "text/markdown": [
              "{'source': 'https://d1lamhf6l6yk6d.cloudfront.net/uploads/2021/08/The-pmarca-Blog-Archives.pdf', 'file_path': 'https://d1lamhf6l6yk6d.cloudfront.net/uploads/2021/08/The-pmarca-Blog-Archives.pdf', 'page': 127, 'total_pages': 195, 'format': 'PDF 1.3', 'title': 'The Pmarca Blog Archives', 'author': '', 'subject': '', 'keywords': '', 'creator': '', 'producer': 'Mac OS X 10.10 Quartz PDFContext', 'creationDate': \"D:20150110020418Z00'00'\", 'modDate': \"D:20150110020418Z00'00'\", 'trapped': '', '_id': '91c1fef7d27c488490f6cdc5a70bc320', '_collection_name': 'PMarca Blogs'}"
            ],
            "text/plain": [
              "<IPython.core.display.Markdown object>"
            ]
          },
          "metadata": {},
          "output_type": "display_data"
        }
      ],
      "source": [
        "for doc in retrieved_documents:\n",
        "  pretty_print(doc.page_content)\n",
        "  pretty_print(str(doc.metadata))"
      ]
    },
    {
      "cell_type": "markdown",
      "metadata": {
        "id": "D8MKsT6JTgCU"
      },
      "source": [
        "### Creating a RAG Chain\n",
        "\n",
        "Now that we have the \"R\" in RAG taken care of - let's look at creating the \"AG\"!"
      ]
    },
    {
      "cell_type": "markdown",
      "metadata": {
        "id": "zs7qBLaEQEic"
      },
      "source": [
        "#### Creating a Prompt Template\n",
        "\n",
        "There are a few different ways we could create our prompt template - we could create a custom template, as seen in the code below, or we could simply pull a prompt from the prompt hub! Let's look at an example of that!"
      ]
    },
    {
      "cell_type": "markdown",
      "metadata": {},
      "source": [
        "**Comment**\n",
        "\n",
        "Let's call the below prompt the \"LC Hub Prompt\"."
      ]
    },
    {
      "cell_type": "code",
      "execution_count": 23,
      "metadata": {
        "colab": {
          "base_uri": "https://localhost:8080/"
        },
        "id": "eRCq_OKUQbKk",
        "outputId": "97851c02-4a8b-4aaf-e132-0fc5c7450c92"
      },
      "outputs": [
        {
          "name": "stderr",
          "output_type": "stream",
          "text": [
            "/home/user/miniconda3/envs/aie4s4/lib/python3.11/site-packages/langsmith/client.py:312: LangSmithMissingAPIKeyWarning: API key must be provided when using hosted LangSmith API\n",
            "  warnings.warn(\n",
            "/home/user/miniconda3/envs/aie4s4/lib/python3.11/site-packages/langsmith/client.py:5519: LangChainBetaWarning: The function `loads` is in beta. It is actively being worked on, so the API may change.\n",
            "  prompt = loads(json.dumps(prompt_object.manifest))\n"
          ]
        }
      ],
      "source": [
        "from langchain import hub\n",
        "\n",
        "retrieval_qa_prompt = hub.pull(\"langchain-ai/retrieval-qa-chat\")"
      ]
    },
    {
      "cell_type": "code",
      "execution_count": 24,
      "metadata": {
        "colab": {
          "base_uri": "https://localhost:8080/"
        },
        "id": "FziTftV5Q1H-",
        "outputId": "79de32d3-7f04-4fde-971e-b420c57a774a"
      },
      "outputs": [
        {
          "name": "stdout",
          "output_type": "stream",
          "text": [
            "Answer any use questions based solely on the context below:\n",
            "\n",
            "<context>\n",
            "{context}\n",
            "</context>\n"
          ]
        }
      ],
      "source": [
        "print(retrieval_qa_prompt.messages[0].prompt.template)"
      ]
    },
    {
      "cell_type": "markdown",
      "metadata": {
        "id": "iyq88IPFRGoT"
      },
      "source": [
        "As you can see - the prompt template is simple (and has a small error) - so we'll create our own to be a bit more specific!"
      ]
    },
    {
      "cell_type": "markdown",
      "metadata": {},
      "source": [
        "**Comment**\n",
        "\n",
        "Let's call the below prompt the \"Manually Crafted Prompt\"."
      ]
    },
    {
      "cell_type": "code",
      "execution_count": 25,
      "metadata": {
        "id": "ijSNkTAjTsep"
      },
      "outputs": [],
      "source": [
        "from langchain.prompts import ChatPromptTemplate\n",
        "\n",
        "template = \"\"\"\n",
        "You are a helpful assistance. Answer the question using the following context. If you don't know the answer, answer 'I don't know'.\n",
        "\n",
        "Question:\n",
        "{question}\n",
        "\n",
        "Context:\n",
        "{context}\n",
        "\"\"\"\n",
        "\n",
        "prompt = ChatPromptTemplate.from_template(template)"
      ]
    },
    {
      "cell_type": "markdown",
      "metadata": {
        "id": "BYHnPaXl-cvJ"
      },
      "source": [
        "#### Setting Up our Basic QA Chain\n",
        "\n",
        "Now we can instantiate our basic RAG chain!\n",
        "\n",
        "We'll use LCEL directly just to see an example of it - but you could just as easily use an abstraction here to achieve the same goal!\n",
        "\n",
        "We'll also ensure to pass-through our context - which is critical for RAGAS."
      ]
    },
    {
      "cell_type": "code",
      "execution_count": 130,
      "metadata": {
        "id": "-TsjUWjbUfbW"
      },
      "outputs": [],
      "source": [
        "from operator import itemgetter\n",
        "\n",
        "from langchain_openai import ChatOpenAI\n",
        "from langchain_core.output_parsers import StrOutputParser\n",
        "from langchain_core.runnables import RunnablePassthrough\n",
        "\n",
        "primary_qa_llm = ChatOpenAI(model_name=\"gpt-4o-mini\", temperature=0)\n",
        "\n",
        "retrieval_augmented_qa_chain = (\n",
        "    # INVOKE CHAIN WITH: {\"question\" : \"<<SOME USER QUESTION>>\"}\n",
        "    # \"question\" : populated by getting the value of the \"question\" key\n",
        "    # \"context\"  : populated by getting the value of the \"question\" key and chaining it into the base_retriever\n",
        "    {\"context\": itemgetter(\"question\") | retriever, \"question\": itemgetter(\"question\")}\n",
        "    # \"context\"  : is assigned to a RunnablePassthrough object (will not be called or considered in the next step)\n",
        "    #              by getting the value of the \"context\" key from the previous step\n",
        "    | RunnablePassthrough.assign(context=itemgetter(\"context\"))\n",
        "    # \"response\" : the \"context\" and \"question\" values are used to format our prompt object and then piped\n",
        "    #              into the LLM and stored in a key called \"response\"\n",
        "    # \"context\"  : populated by getting the value of the \"context\" key from the previous step\n",
        "    | {\"response\": prompt | primary_qa_llm, \"context\": itemgetter(\"context\")}\n",
        ")"
      ]
    },
    {
      "cell_type": "markdown",
      "metadata": {},
      "source": [
        "**Comment**\n",
        "\n",
        "Now the RAG QA Chain with the \"LC Hub Prompt\"."
      ]
    },
    {
      "cell_type": "code",
      "execution_count": 126,
      "metadata": {},
      "outputs": [],
      "source": [
        "hub_prompt_retrieval_augmented_qa_chain = (\n",
        "    {\"context\": itemgetter(\"question\") | retriever, \"input\": itemgetter(\"question\")}\n",
        "    | RunnablePassthrough.assign(context=itemgetter(\"context\"))\n",
        "    | {\"response\": retrieval_qa_prompt | primary_qa_llm, \"context\": itemgetter(\"context\")}\n",
        ")"
      ]
    },
    {
      "cell_type": "markdown",
      "metadata": {
        "id": "zO69de-F-oMD"
      },
      "source": [
        "Let's test it out!"
      ]
    },
    {
      "cell_type": "code",
      "execution_count": 131,
      "metadata": {
        "colab": {
          "base_uri": "https://localhost:8080/"
        },
        "id": "2FS5NxC6UyU2",
        "outputId": "3111dd33-30fa-4bcf-e40f-ed99b6fab66b"
      },
      "outputs": [
        {
          "data": {
            "text/markdown": [
              "A rule of thumb for selecting an industry to invest in is to ensure that you understand the existing order and the forces of change within that industry, and that those forces have a reasonable chance of succeeding. Additionally, once you have picked an industry, it is advised to get right to the center of it, focusing on where the great opportunities can be found."
            ],
            "text/plain": [
              "<IPython.core.display.Markdown object>"
            ]
          },
          "metadata": {},
          "output_type": "display_data"
        }
      ],
      "source": [
        "question = \"What is a rule of thumb for selecting an industry to invest in?\"\n",
        "\n",
        "# Manually Crafted Prompt\n",
        "result = retrieval_augmented_qa_chain.invoke({\"question\" : question})\n",
        "\n",
        "# LC Hub Prompt\n",
        "# result = hub_prompt_retrieval_augmented_qa_chain.invoke({\"question\" : question})\n",
        "\n",
        "pretty_print(result[\"response\"].content)"
      ]
    },
    {
      "cell_type": "code",
      "execution_count": 132,
      "metadata": {
        "colab": {
          "base_uri": "https://localhost:8080/"
        },
        "id": "tIuHVGPOO9P2",
        "outputId": "750c920f-bc29-4397-91a8-f6e08045481d"
      },
      "outputs": [
        {
          "data": {
            "text/markdown": [
              "I don't know."
            ],
            "text/plain": [
              "<IPython.core.display.Markdown object>"
            ]
          },
          "metadata": {},
          "output_type": "display_data"
        },
        {
          "data": {
            "text/markdown": [
              "[Document(metadata={'source': 'https://d1lamhf6l6yk6d.cloudfront.net/uploads/2021/08/The-pmarca-Blog-Archives.pdf', 'file_path': 'https://d1lamhf6l6yk6d.cloudfront.net/uploads/2021/08/The-pmarca-Blog-Archives.pdf', 'page': 15, 'total_pages': 195, 'format': 'PDF 1.3', 'title': 'The Pmarca Blog Archives', 'author': '', 'subject': '', 'keywords': '', 'creator': '', 'producer': 'Mac OS X 10.10 Quartz PDFContext', 'creationDate': \"D:20150110020418Z00'00'\", 'modDate': \"D:20150110020418Z00'00'\", 'trapped': '', '_id': 'db46bef9fa0046aa92016e70e8bf28d4', '_collection_name': 'PMarca Blogs'}, page_content='ask if you can call them again if things change.\\nTrust me — they’d much rather be saying “yes” than “no” —\\nthey need all the good investments they can get.\\nSecond, consider the environment.'), Document(metadata={'source': 'https://d1lamhf6l6yk6d.cloudfront.net/uploads/2021/08/The-pmarca-Blog-Archives.pdf', 'file_path': 'https://d1lamhf6l6yk6d.cloudfront.net/uploads/2021/08/The-pmarca-Blog-Archives.pdf', 'page': 152, 'total_pages': 195, 'format': 'PDF 1.3', 'title': 'The Pmarca Blog Archives', 'author': '', 'subject': '', 'keywords': '', 'creator': '', 'producer': 'Mac OS X 10.10 Quartz PDFContext', 'creationDate': \"D:20150110020418Z00'00'\", 'modDate': \"D:20150110020418Z00'00'\", 'trapped': '', '_id': '5ccfe1c627874eef86525815e2a1b9db', '_collection_name': 'PMarca Blogs'}, page_content='watching carefully — if everyone agrees right up front that\\nwhatever you are doing makes total sense, it probably isn’t a new\\nand radical enough idea to justify a new company.'), Document(metadata={'source': 'https://d1lamhf6l6yk6d.cloudfront.net/uploads/2021/08/The-pmarca-Blog-Archives.pdf', 'file_path': 'https://d1lamhf6l6yk6d.cloudfront.net/uploads/2021/08/The-pmarca-Blog-Archives.pdf', 'page': 127, 'total_pages': 195, 'format': 'PDF 1.3', 'title': 'The Pmarca Blog Archives', 'author': '', 'subject': '', 'keywords': '', 'creator': '', 'producer': 'Mac OS X 10.10 Quartz PDFContext', 'creationDate': \"D:20150110020418Z00'00'\", 'modDate': \"D:20150110020418Z00'00'\", 'trapped': '', '_id': 'a4c54b7396744a79a4fd44e5ed4bd2d1', '_collection_name': 'PMarca Blogs'}, page_content='Third rule:\\nIn a rapidly changing Held like technology, the best place to\\nget experience when you’re starting out is in younger, high-\\ngrowth companies.'), Document(metadata={'source': 'https://d1lamhf6l6yk6d.cloudfront.net/uploads/2021/08/The-pmarca-Blog-Archives.pdf', 'file_path': 'https://d1lamhf6l6yk6d.cloudfront.net/uploads/2021/08/The-pmarca-Blog-Archives.pdf', 'page': 125, 'total_pages': 195, 'format': 'PDF 1.3', 'title': 'The Pmarca Blog Archives', 'author': '', 'subject': '', 'keywords': '', 'creator': '', 'producer': 'Mac OS X 10.10 Quartz PDFContext', 'creationDate': \"D:20150110020418Z00'00'\", 'modDate': \"D:20150110020418Z00'00'\", 'trapped': '', '_id': '0ac0b6d4d54b4024a52c5f02ca3566cc', '_collection_name': 'PMarca Blogs'}, page_content='necessary supply of oil, gas, music, and movies.\\nIf you’re going to enter an old industry, make sure to do it on\\nthe side of the forces of radical change that threaten to up-end')]"
            ],
            "text/plain": [
              "<IPython.core.display.Markdown object>"
            ]
          },
          "metadata": {},
          "output_type": "display_data"
        }
      ],
      "source": [
        "question = \"What did Pink Floyd have to say about how to proceed when investing in a new industry?\"\n",
        "\n",
        "result = retrieval_augmented_qa_chain.invoke({\"question\" : question})\n",
        "\n",
        "pretty_print(result[\"response\"].content)\n",
        "pretty_print(str(result[\"context\"]))"
      ]
    },
    {
      "cell_type": "markdown",
      "metadata": {
        "id": "a-XYZueEP42k"
      },
      "source": [
        "We can already see that there are some improvements we could make here.\n",
        "\n",
        "For now, let's switch gears to RAGAS to see how we can leverage that tool to provide us insight into how our pipeline is performing!"
      ]
    },
    {
      "cell_type": "markdown",
      "metadata": {
        "id": "EOECHyzHRqDw"
      },
      "source": [
        "## Task 4: Synthetic Dataset Generation for Evaluation using Ragas\n",
        "\n",
        "Ragas is a powerful library that lets us evaluate our RAG pipeline by collecting input/output/context triplets and obtaining metrics relating to a number of different aspects of our RAG pipeline.\n",
        "\n",
        "We'll be evaluating on every core metric today, but in order to do that - we'll need to create a test set. Luckily for us, Ragas can do that directly!"
      ]
    },
    {
      "cell_type": "markdown",
      "metadata": {
        "id": "KqXQ0jweWJOu"
      },
      "source": [
        "### Synthetic Test Set Generation\n",
        "\n",
        "We can leverage Ragas' [`Synthetic Test Data generation`](https://docs.ragas.io/en/stable/concepts/testset_generation.html) functionality to generate our own synthetic QC pairs - as well as a synthetic ground truth - quite easily!"
      ]
    },
    {
      "cell_type": "code",
      "execution_count": 107,
      "metadata": {
        "id": "nVk5SlU9znXe"
      },
      "outputs": [],
      "source": [
        "loader = PyMuPDFLoader(\n",
        "    \"https://d1lamhf6l6yk6d.cloudfront.net/uploads/2021/08/The-pmarca-Blog-Archives.pdf\",\n",
        ")\n",
        "\n",
        "eval_documents = loader.load()\n",
        "\n",
        "text_splitter_eval = RecursiveCharacterTextSplitter(\n",
        "    chunk_size = 600,\n",
        "    chunk_overlap = 50\n",
        ")\n",
        "\n",
        "eval_documents = text_splitter_eval.split_documents(eval_documents)"
      ]
    },
    {
      "cell_type": "markdown",
      "metadata": {
        "id": "K7rOQkxhzrq3"
      },
      "source": [
        "####❓ Question #2:\n",
        "\n",
        "Why is it important to split our documents using different parameters when creating our synthetic data?"
      ]
    },
    {
      "cell_type": "markdown",
      "metadata": {},
      "source": [
        "**Answer**\n",
        "\n",
        "Applying same parameters for splitting data during SDG for evaluation and during Index building for the application will result in falsly improved evaluation results. Chunks used during SDG will be exactly the same as those available in the Index during inference making the test questions on avarage easier to answer. The test data will not contain questions that were generated using different chunks than during inference.\n",
        "\n",
        "I would say that, in general, SDG for evaluation itself should be evaluated - so that the generated questions resemble well the real user questions. For example if a typical question is concerned with information gathered accross multiple places in a document (e.g. identify people that perform certain role in a company concerned in a document, collect information on their history in the company, and their current year renumeration package) the basic approach to SDG may not generate the relevant questions."
      ]
    },
    {
      "cell_type": "code",
      "execution_count": 108,
      "metadata": {
        "colab": {
          "base_uri": "https://localhost:8080/"
        },
        "id": "hiAPYw-hz-zo",
        "outputId": "f66c8b72-37f6-4069-eb1f-415b8d78d6e6"
      },
      "outputs": [
        {
          "data": {
            "text/plain": [
              "624"
            ]
          },
          "execution_count": 108,
          "metadata": {},
          "output_type": "execute_result"
        }
      ],
      "source": [
        "len(eval_documents)"
      ]
    },
    {
      "cell_type": "markdown",
      "metadata": {
        "id": "HYCrVMW9Blda"
      },
      "source": [
        "> NOTE: 🛑 Running this cell as presented will incur a charge of ~$3USD from OpenAI usage. Most of this cost is produced by the Synthetic Data Generation step. **YOU CAN SKIP THIS STEP BY LOADING THE `.csv` DIRECTLY FROM OUR REPOSITORY.** 🛑"
      ]
    },
    {
      "cell_type": "markdown",
      "metadata": {
        "id": "Clyykfe6xOIo"
      },
      "source": [
        "#### Optional: SDG for Evaluation"
      ]
    },
    {
      "cell_type": "code",
      "execution_count": 34,
      "metadata": {
        "colab": {
          "background_save": true,
          "base_uri": "https://localhost:8080/",
          "height": 1000,
          "referenced_widgets": [
            "c3d31c6cf07143aea1bbe76aa13fbca8",
            "754827da55fa4240bce3710048d1645b",
            "7b61421d62964b00ba440ecba21f4b52",
            "c67b66e1f2d34ce4b10789fc2fca5843",
            "9ccac42dd9f04713b0ed9fe09c35b5b0",
            "bd96dd318c1b4e1481c039321e052081",
            "3b2e50139c234d19ac3e32515e575883",
            "353b6b9a974048499d854774fe4c882c",
            "09c3173c05f54539ae025937b1525e90",
            "faa998b429774e4eb6aaaa5477bb6977",
            "7ab80823e1344b638ddd1646367a6ce6",
            "9a40d4ba626f4563b062a5765325d8e4",
            "1c0f9aeab5de4e32af8bfef423a64f3b",
            "0be98b57b4894cf9a92818ae1dd72976",
            "c7550f460273484a913d211381630626",
            "ba8f638b7f6343d9b07cce6e54e9be1c",
            "0267d8c4d9cc48b0a4d60d206de62a91",
            "126c30cc07c4452ab73fefce09dab617",
            "bda4d1ec0f0043c8b4d254a4ada3e9bf",
            "1b24ed8b36764c39aef39c92430fdc1d",
            "1535c2c75a104f3abb262c5fb7859c14",
            "92f2e2d3123c4cd88d7c5755342ae154"
          ]
        },
        "id": "IXc6sMglSej_",
        "outputId": "8ed337f0-9029-4ece-9381-9e4356dedca7"
      },
      "outputs": [
        {
          "data": {
            "text/plain": [
              "'\\ntestset = generator.generate_with_langchain_docs(eval_documents, num_qa_pairs, distributions)\\ntestset.to_pandas()\\n'"
            ]
          },
          "execution_count": 34,
          "metadata": {},
          "output_type": "execute_result"
        }
      ],
      "source": [
        "from ragas.testset.generator import TestsetGenerator\n",
        "from ragas.testset.evolutions import simple, reasoning, multi_context\n",
        "from langchain_openai import ChatOpenAI, OpenAIEmbeddings\n",
        "\n",
        "generator_llm = ChatOpenAI(model=\"gpt-3.5-turbo\")\n",
        "critic_llm = ChatOpenAI(model=\"gpt-4o-mini\")\n",
        "embeddings = OpenAIEmbeddings()\n",
        "\n",
        "generator = TestsetGenerator.from_langchain(\n",
        "    generator_llm,\n",
        "    critic_llm,\n",
        "    embeddings\n",
        ")\n",
        "\n",
        "distributions = {\n",
        "    simple: 0.5,\n",
        "    multi_context: 0.4,\n",
        "    reasoning: 0.1\n",
        "}\n",
        "\n",
        "num_qa_pairs = 20 # You can reduce the number of QA pairs to 5 if you're experiencing rate-limiting issues\n",
        "\n",
        "\"\"\"\n",
        "testset = generator.generate_with_langchain_docs(eval_documents, num_qa_pairs, distributions)\n",
        "testset.to_pandas()\n",
        "\"\"\""
      ]
    },
    {
      "cell_type": "markdown",
      "metadata": {
        "id": "MemL406rUzBu"
      },
      "source": [
        "Let's look at the output and see what we can learn about it!"
      ]
    },
    {
      "cell_type": "code",
      "execution_count": null,
      "metadata": {
        "colab": {
          "base_uri": "https://localhost:8080/"
        },
        "id": "RaCDdImVU15s",
        "outputId": "31efbb94-f09d-4d50-8c6e-59202aaeb5c9"
      },
      "outputs": [
        {
          "data": {
            "text/plain": [
              "DataRow(question='What are the potential risks and challenges faced by a company that does not raise enough money?', contexts=['Here’s why you shouldn’t do that:\\nWhat are the consequences of not raising enough money?\\nNot raising enough money risks the survival of your company,\\nfor the following reasons:\\nFirst, you may have — and probably will have — unanticipated\\nsetbacks within your business.\\nMaybe a new product release slips, or you have unexpected\\nquality issues, or one of your major customers goes bankrupt, or\\na challenging new competitor emerges, or you get sued by a big\\ncompany for patent infringement, or you lose a key engineer.\\nSecond, the funding window may not be open when you need\\nmore money.'], ground_truth='Not raising enough money risks the survival of your company, for the following reasons: First, you may have — and probably will have — unanticipated setbacks within your business. Maybe a new product release slips, or you have unexpected quality issues, or one of your major customers goes bankrupt, or a challenging new competitor emerges, or you get sued by a big company for patent infringement, or you lose a key engineer. Second, the funding window may not be open when you need more money.', evolution_type='simple', metadata=[{'source': 'https://d1lamhf6l6yk6d.cloudfront.net/uploads/2021/08/The-pmarca-Blog-Archives.pdf', 'file_path': 'https://d1lamhf6l6yk6d.cloudfront.net/uploads/2021/08/The-pmarca-Blog-Archives.pdf', 'page': 47, 'total_pages': 195, 'format': 'PDF 1.3', 'title': 'The Pmarca Blog Archives', 'author': '', 'subject': '', 'keywords': '', 'creator': '', 'producer': 'Mac OS X 10.10 Quartz PDFContext', 'creationDate': \"D:20150110020418Z00'00'\", 'modDate': \"D:20150110020418Z00'00'\", 'trapped': ''}])"
            ]
          },
          "execution_count": 24,
          "metadata": {},
          "output_type": "execute_result"
        }
      ],
      "source": [
        "# testset.test_data[0]"
      ]
    },
    {
      "cell_type": "code",
      "execution_count": null,
      "metadata": {
        "id": "1iZ0_GTEp9bd"
      },
      "outputs": [],
      "source": [
        "\"\"\"\n",
        "testset_df = testset.to_pandas()\n",
        "testset_df.to_csv(\"testset.csv\")\n",
        "\"\"\""
      ]
    },
    {
      "cell_type": "markdown",
      "metadata": {
        "id": "ITOQFNxdxS6n"
      },
      "source": [
        "#### PREFERRED: Download `.csv` from DataRepository"
      ]
    },
    {
      "cell_type": "code",
      "execution_count": 30,
      "metadata": {
        "colab": {
          "base_uri": "https://localhost:8080/"
        },
        "id": "N6mmr2hyxW_i",
        "outputId": "83727d02-2b34-403a-b1c4-16a98994c020"
      },
      "outputs": [
        {
          "name": "stdout",
          "output_type": "stream",
          "text": [
            "Cloning into 'DataRepository'...\n",
            "remote: Enumerating objects: 87, done.\u001b[K\n",
            "remote: Counting objects: 100% (79/79), done.\u001b[K\n",
            "remote: Compressing objects: 100% (66/66), done.\u001b[K\n",
            "remote: Total 87 (delta 24), reused 28 (delta 8), pack-reused 8 (from 1)\u001b[K\n",
            "Receiving objects: 100% (87/87), 70.09 MiB | 1.80 MiB/s, done.\n",
            "Resolving deltas: 100% (24/24), done.\n"
          ]
        }
      ],
      "source": [
        "!git clone https://github.com/AI-Maker-Space/DataRepository.git"
      ]
    },
    {
      "cell_type": "code",
      "execution_count": 31,
      "metadata": {
        "id": "u2PpgX-RxnlW"
      },
      "outputs": [],
      "source": [
        "!mv DataRepository/testset.csv ."
      ]
    },
    {
      "cell_type": "markdown",
      "metadata": {
        "id": "vrPsVwUAWFWB"
      },
      "source": [
        "### Generating Responses with RAG Pipeline\n",
        "\n",
        "Now that we have some QC pairs, and some ground truths, let's evaluate our RAG pipeline using Ragas.\n",
        "\n",
        "The process is, again, quite straightforward - thanks to Ragas and LangChain!\n",
        "\n",
        "Let's start by extracting our questions and ground truths from our create testset.\n",
        "\n",
        "We can start by converting our test dataset into a Pandas DataFrame."
      ]
    },
    {
      "cell_type": "code",
      "execution_count": 31,
      "metadata": {
        "id": "frvzu1YxX8kY"
      },
      "outputs": [],
      "source": [
        "import pandas as pd\n",
        "\n",
        "test_df = pd.read_csv(\"testset.csv\")"
      ]
    },
    {
      "cell_type": "code",
      "execution_count": 32,
      "metadata": {
        "colab": {
          "base_uri": "https://localhost:8080/",
          "height": 1000
        },
        "id": "GFKMIY8IZU8m",
        "outputId": "42652c9f-9e6f-41a1-b63d-d7faa23fe275"
      },
      "outputs": [
        {
          "data": {
            "text/html": [
              "<div>\n",
              "<style scoped>\n",
              "    .dataframe tbody tr th:only-of-type {\n",
              "        vertical-align: middle;\n",
              "    }\n",
              "\n",
              "    .dataframe tbody tr th {\n",
              "        vertical-align: top;\n",
              "    }\n",
              "\n",
              "    .dataframe thead th {\n",
              "        text-align: right;\n",
              "    }\n",
              "</style>\n",
              "<table border=\"1\" class=\"dataframe\">\n",
              "  <thead>\n",
              "    <tr style=\"text-align: right;\">\n",
              "      <th></th>\n",
              "      <th>Unnamed: 0</th>\n",
              "      <th>question</th>\n",
              "      <th>contexts</th>\n",
              "      <th>ground_truth</th>\n",
              "      <th>evolution_type</th>\n",
              "      <th>metadata</th>\n",
              "      <th>episode_done</th>\n",
              "    </tr>\n",
              "  </thead>\n",
              "  <tbody>\n",
              "    <tr>\n",
              "      <th>0</th>\n",
              "      <td>0</td>\n",
              "      <td>How does the tendency to avoid inconsistency c...</td>\n",
              "      <td>['Five: Inconsistency-Avoidance Tendency\\n[Peo...</td>\n",
              "      <td>The tendency to avoid inconsistency contribute...</td>\n",
              "      <td>simple</td>\n",
              "      <td>[{'source': 'https://d1lamhf6l6yk6d.cloudfront...</td>\n",
              "      <td>True</td>\n",
              "    </tr>\n",
              "    <tr>\n",
              "      <th>1</th>\n",
              "      <td>1</td>\n",
              "      <td>What are some of the challenges faced by start...</td>\n",
              "      <td>['structure that any established company has.\\...</td>\n",
              "      <td>In a startup, it is easy for the code not to g...</td>\n",
              "      <td>simple</td>\n",
              "      <td>[{'source': 'https://d1lamhf6l6yk6d.cloudfront...</td>\n",
              "      <td>True</td>\n",
              "    </tr>\n",
              "    <tr>\n",
              "      <th>2</th>\n",
              "      <td>2</td>\n",
              "      <td>What factors should be considered when decidin...</td>\n",
              "      <td>['Part 2: Skills and education\\n[Please read m...</td>\n",
              "      <td>The answer to given question is not present in...</td>\n",
              "      <td>simple</td>\n",
              "      <td>[{'source': 'https://d1lamhf6l6yk6d.cloudfront...</td>\n",
              "      <td>True</td>\n",
              "    </tr>\n",
              "    <tr>\n",
              "      <th>3</th>\n",
              "      <td>3</td>\n",
              "      <td>What should be valued when evaluating candidat...</td>\n",
              "      <td>[\"How to hire the best people you've\\never wor...</td>\n",
              "      <td>The answer to given question is not present in...</td>\n",
              "      <td>simple</td>\n",
              "      <td>[{'source': 'https://d1lamhf6l6yk6d.cloudfront...</td>\n",
              "      <td>True</td>\n",
              "    </tr>\n",
              "    <tr>\n",
              "      <th>4</th>\n",
              "      <td>4</td>\n",
              "      <td>What are the consequences of not raising enoug...</td>\n",
              "      <td>['Here’s why you shouldn’t do that:\\nWhat are ...</td>\n",
              "      <td>Not raising enough money risks the survival of...</td>\n",
              "      <td>simple</td>\n",
              "      <td>[{'source': 'https://d1lamhf6l6yk6d.cloudfront...</td>\n",
              "      <td>True</td>\n",
              "    </tr>\n",
              "    <tr>\n",
              "      <th>5</th>\n",
              "      <td>5</td>\n",
              "      <td>How does Structured Procrastination suggest us...</td>\n",
              "      <td>['like?\\nStructured procrastination\\nThis is a...</td>\n",
              "      <td>Structured Procrastination suggests that inste...</td>\n",
              "      <td>simple</td>\n",
              "      <td>[{'source': 'https://d1lamhf6l6yk6d.cloudfront...</td>\n",
              "      <td>True</td>\n",
              "    </tr>\n",
              "    <tr>\n",
              "      <th>6</th>\n",
              "      <td>6</td>\n",
              "      <td>What analogy is used to describe the layers of...</td>\n",
              "      <td>['as if it’s an onion. Just like you peel an o...</td>\n",
              "      <td>The analogy used to describe the layers of ris...</td>\n",
              "      <td>simple</td>\n",
              "      <td>[{'source': 'https://d1lamhf6l6yk6d.cloudfront...</td>\n",
              "      <td>True</td>\n",
              "    </tr>\n",
              "    <tr>\n",
              "      <th>7</th>\n",
              "      <td>7</td>\n",
              "      <td>How can Structured Procrastination be used to ...</td>\n",
              "      <td>['like?\\nStructured procrastination\\nThis is a...</td>\n",
              "      <td>Structured Procrastination suggests that inste...</td>\n",
              "      <td>simple</td>\n",
              "      <td>[{'source': 'https://d1lamhf6l6yk6d.cloudfront...</td>\n",
              "      <td>True</td>\n",
              "    </tr>\n",
              "    <tr>\n",
              "      <th>8</th>\n",
              "      <td>8</td>\n",
              "      <td>How is the quality of a startup's product defi...</td>\n",
              "      <td>['Let’s start by deXning terms.\\nThe caliber o...</td>\n",
              "      <td>The quality of a startup's product in the tech...</td>\n",
              "      <td>simple</td>\n",
              "      <td>[{'source': 'https://d1lamhf6l6yk6d.cloudfront...</td>\n",
              "      <td>True</td>\n",
              "    </tr>\n",
              "    <tr>\n",
              "      <th>9</th>\n",
              "      <td>9</td>\n",
              "      <td>What role can a campus computer lab play in he...</td>\n",
              "      <td>['undergrads to do some of the work, and being...</td>\n",
              "      <td>A campus computer lab can play a role in helpi...</td>\n",
              "      <td>simple</td>\n",
              "      <td>[{'source': 'https://d1lamhf6l6yk6d.cloudfront...</td>\n",
              "      <td>True</td>\n",
              "    </tr>\n",
              "    <tr>\n",
              "      <th>10</th>\n",
              "      <td>10</td>\n",
              "      <td>Who said, 'This task isn't easy'?</td>\n",
              "      <td>['coherent message and strategy.\\nThen go dark...</td>\n",
              "      <td>The answer to given question is not present in...</td>\n",
              "      <td>multi_context</td>\n",
              "      <td>[{'source': 'https://d1lamhf6l6yk6d.cloudfront...</td>\n",
              "      <td>True</td>\n",
              "    </tr>\n",
              "    <tr>\n",
              "      <th>11</th>\n",
              "      <td>11</td>\n",
              "      <td>What significant event involving Microsoft and...</td>\n",
              "      <td>['always be ready to have the conversation jus...</td>\n",
              "      <td>The answer to given question is not present in...</td>\n",
              "      <td>multi_context</td>\n",
              "      <td>[{'source': 'https://d1lamhf6l6yk6d.cloudfront...</td>\n",
              "      <td>True</td>\n",
              "    </tr>\n",
              "    <tr>\n",
              "      <th>12</th>\n",
              "      <td>12</td>\n",
              "      <td>What undergrad degrees are valuable in the rea...</td>\n",
              "      <td>['workforce in a high-impact way when you grad...</td>\n",
              "      <td>Engineering and math undergraduate degrees are...</td>\n",
              "      <td>multi_context</td>\n",
              "      <td>[{'source': 'https://d1lamhf6l6yk6d.cloudfront...</td>\n",
              "      <td>True</td>\n",
              "    </tr>\n",
              "    <tr>\n",
              "      <th>13</th>\n",
              "      <td>13</td>\n",
              "      <td>How does the shift to online impact traditiona...</td>\n",
              "      <td>['billion people online now. That is a very la...</td>\n",
              "      <td>The shift to online has led to a significant i...</td>\n",
              "      <td>multi_context</td>\n",
              "      <td>[{'source': 'https://d1lamhf6l6yk6d.cloudfront...</td>\n",
              "      <td>True</td>\n",
              "    </tr>\n",
              "    <tr>\n",
              "      <th>14</th>\n",
              "      <td>14</td>\n",
              "      <td>How does the three-folder email system help ma...</td>\n",
              "      <td>['keep three standing email folders: Pending, ...</td>\n",
              "      <td>The three-folder email system helps manage imp...</td>\n",
              "      <td>multi_context</td>\n",
              "      <td>[{'source': 'https://d1lamhf6l6yk6d.cloudfront...</td>\n",
              "      <td>True</td>\n",
              "    </tr>\n",
              "    <tr>\n",
              "      <th>15</th>\n",
              "      <td>15</td>\n",
              "      <td>What's the argument against prioritizing intel...</td>\n",
              "      <td>['Criteria 7rst\\nLots of people will tell you ...</td>\n",
              "      <td>The argument against prioritizing intelligence...</td>\n",
              "      <td>multi_context</td>\n",
              "      <td>[{'source': 'https://d1lamhf6l6yk6d.cloudfront...</td>\n",
              "      <td>True</td>\n",
              "    </tr>\n",
              "    <tr>\n",
              "      <th>16</th>\n",
              "      <td>16</td>\n",
              "      <td>How does planning interviews affect a marketer...</td>\n",
              "      <td>['For a marketing person — have them whiteboar...</td>\n",
              "      <td>Planning interviews ahead of time allows for t...</td>\n",
              "      <td>multi_context</td>\n",
              "      <td>[{'source': 'https://d1lamhf6l6yk6d.cloudfront...</td>\n",
              "      <td>True</td>\n",
              "    </tr>\n",
              "    <tr>\n",
              "      <th>17</th>\n",
              "      <td>17</td>\n",
              "      <td>How does faster cycle time impact entrepreneur...</td>\n",
              "      <td>['would have spent 10 or 20 or 30 years buildi...</td>\n",
              "      <td>The faster cycle time allows entrepreneurs to ...</td>\n",
              "      <td>reasoning</td>\n",
              "      <td>[{'source': 'https://d1lamhf6l6yk6d.cloudfront...</td>\n",
              "      <td>True</td>\n",
              "    </tr>\n",
              "    <tr>\n",
              "      <th>18</th>\n",
              "      <td>18</td>\n",
              "      <td>What key factor guides the CEO in the turnarou...</td>\n",
              "      <td>['coherent message and strategy.\\nThen go dark...</td>\n",
              "      <td>The key factor that guides the CEO in the turn...</td>\n",
              "      <td>reasoning</td>\n",
              "      <td>[{'source': 'https://d1lamhf6l6yk6d.cloudfront...</td>\n",
              "      <td>True</td>\n",
              "    </tr>\n",
              "  </tbody>\n",
              "</table>\n",
              "</div>"
            ],
            "text/plain": [
              "    Unnamed: 0                                           question  \\\n",
              "0            0  How does the tendency to avoid inconsistency c...   \n",
              "1            1  What are some of the challenges faced by start...   \n",
              "2            2  What factors should be considered when decidin...   \n",
              "3            3  What should be valued when evaluating candidat...   \n",
              "4            4  What are the consequences of not raising enoug...   \n",
              "5            5  How does Structured Procrastination suggest us...   \n",
              "6            6  What analogy is used to describe the layers of...   \n",
              "7            7  How can Structured Procrastination be used to ...   \n",
              "8            8  How is the quality of a startup's product defi...   \n",
              "9            9  What role can a campus computer lab play in he...   \n",
              "10          10                  Who said, 'This task isn't easy'?   \n",
              "11          11  What significant event involving Microsoft and...   \n",
              "12          12  What undergrad degrees are valuable in the rea...   \n",
              "13          13  How does the shift to online impact traditiona...   \n",
              "14          14  How does the three-folder email system help ma...   \n",
              "15          15  What's the argument against prioritizing intel...   \n",
              "16          16  How does planning interviews affect a marketer...   \n",
              "17          17  How does faster cycle time impact entrepreneur...   \n",
              "18          18  What key factor guides the CEO in the turnarou...   \n",
              "\n",
              "                                             contexts  \\\n",
              "0   ['Five: Inconsistency-Avoidance Tendency\\n[Peo...   \n",
              "1   ['structure that any established company has.\\...   \n",
              "2   ['Part 2: Skills and education\\n[Please read m...   \n",
              "3   [\"How to hire the best people you've\\never wor...   \n",
              "4   ['Here’s why you shouldn’t do that:\\nWhat are ...   \n",
              "5   ['like?\\nStructured procrastination\\nThis is a...   \n",
              "6   ['as if it’s an onion. Just like you peel an o...   \n",
              "7   ['like?\\nStructured procrastination\\nThis is a...   \n",
              "8   ['Let’s start by deXning terms.\\nThe caliber o...   \n",
              "9   ['undergrads to do some of the work, and being...   \n",
              "10  ['coherent message and strategy.\\nThen go dark...   \n",
              "11  ['always be ready to have the conversation jus...   \n",
              "12  ['workforce in a high-impact way when you grad...   \n",
              "13  ['billion people online now. That is a very la...   \n",
              "14  ['keep three standing email folders: Pending, ...   \n",
              "15  ['Criteria 7rst\\nLots of people will tell you ...   \n",
              "16  ['For a marketing person — have them whiteboar...   \n",
              "17  ['would have spent 10 or 20 or 30 years buildi...   \n",
              "18  ['coherent message and strategy.\\nThen go dark...   \n",
              "\n",
              "                                         ground_truth evolution_type  \\\n",
              "0   The tendency to avoid inconsistency contribute...         simple   \n",
              "1   In a startup, it is easy for the code not to g...         simple   \n",
              "2   The answer to given question is not present in...         simple   \n",
              "3   The answer to given question is not present in...         simple   \n",
              "4   Not raising enough money risks the survival of...         simple   \n",
              "5   Structured Procrastination suggests that inste...         simple   \n",
              "6   The analogy used to describe the layers of ris...         simple   \n",
              "7   Structured Procrastination suggests that inste...         simple   \n",
              "8   The quality of a startup's product in the tech...         simple   \n",
              "9   A campus computer lab can play a role in helpi...         simple   \n",
              "10  The answer to given question is not present in...  multi_context   \n",
              "11  The answer to given question is not present in...  multi_context   \n",
              "12  Engineering and math undergraduate degrees are...  multi_context   \n",
              "13  The shift to online has led to a significant i...  multi_context   \n",
              "14  The three-folder email system helps manage imp...  multi_context   \n",
              "15  The argument against prioritizing intelligence...  multi_context   \n",
              "16  Planning interviews ahead of time allows for t...  multi_context   \n",
              "17  The faster cycle time allows entrepreneurs to ...      reasoning   \n",
              "18  The key factor that guides the CEO in the turn...      reasoning   \n",
              "\n",
              "                                             metadata  episode_done  \n",
              "0   [{'source': 'https://d1lamhf6l6yk6d.cloudfront...          True  \n",
              "1   [{'source': 'https://d1lamhf6l6yk6d.cloudfront...          True  \n",
              "2   [{'source': 'https://d1lamhf6l6yk6d.cloudfront...          True  \n",
              "3   [{'source': 'https://d1lamhf6l6yk6d.cloudfront...          True  \n",
              "4   [{'source': 'https://d1lamhf6l6yk6d.cloudfront...          True  \n",
              "5   [{'source': 'https://d1lamhf6l6yk6d.cloudfront...          True  \n",
              "6   [{'source': 'https://d1lamhf6l6yk6d.cloudfront...          True  \n",
              "7   [{'source': 'https://d1lamhf6l6yk6d.cloudfront...          True  \n",
              "8   [{'source': 'https://d1lamhf6l6yk6d.cloudfront...          True  \n",
              "9   [{'source': 'https://d1lamhf6l6yk6d.cloudfront...          True  \n",
              "10  [{'source': 'https://d1lamhf6l6yk6d.cloudfront...          True  \n",
              "11  [{'source': 'https://d1lamhf6l6yk6d.cloudfront...          True  \n",
              "12  [{'source': 'https://d1lamhf6l6yk6d.cloudfront...          True  \n",
              "13  [{'source': 'https://d1lamhf6l6yk6d.cloudfront...          True  \n",
              "14  [{'source': 'https://d1lamhf6l6yk6d.cloudfront...          True  \n",
              "15  [{'source': 'https://d1lamhf6l6yk6d.cloudfront...          True  \n",
              "16  [{'source': 'https://d1lamhf6l6yk6d.cloudfront...          True  \n",
              "17  [{'source': 'https://d1lamhf6l6yk6d.cloudfront...          True  \n",
              "18  [{'source': 'https://d1lamhf6l6yk6d.cloudfront...          True  "
            ]
          },
          "execution_count": 32,
          "metadata": {},
          "output_type": "execute_result"
        }
      ],
      "source": [
        "test_df"
      ]
    },
    {
      "cell_type": "code",
      "execution_count": 36,
      "metadata": {},
      "outputs": [
        {
          "data": {
            "text/plain": [
              "Unnamed: 0                                                        0\n",
              "question          How does the tendency to avoid inconsistency c...\n",
              "contexts          ['Five: Inconsistency-Avoidance Tendency\\n[Peo...\n",
              "ground_truth      The tendency to avoid inconsistency contribute...\n",
              "evolution_type                                               simple\n",
              "metadata          [{'source': 'https://d1lamhf6l6yk6d.cloudfront...\n",
              "episode_done                                                   True\n",
              "Name: 0, dtype: object"
            ]
          },
          "execution_count": 36,
          "metadata": {},
          "output_type": "execute_result"
        }
      ],
      "source": [
        "test_df.iloc[0]"
      ]
    },
    {
      "cell_type": "code",
      "execution_count": 38,
      "metadata": {},
      "outputs": [
        {
          "name": "stderr",
          "output_type": "stream",
          "text": [
            "/tmp/ipykernel_2608/4274569580.py:2: FutureWarning: Series.__getitem__ treating keys as positions is deprecated. In a future version, integer keys will always be treated as labels (consistent with DataFrame behavior). To access a value by position, use `ser.iloc[pos]`\n",
            "  pretty_print(str(test_df.iloc[0][i]))\n"
          ]
        },
        {
          "data": {
            "text/markdown": [
              "How does the tendency to avoid inconsistency contribute to people being reluctant to change?"
            ],
            "text/plain": [
              "<IPython.core.display.Markdown object>"
            ]
          },
          "metadata": {},
          "output_type": "display_data"
        },
        {
          "data": {
            "text/markdown": [
              "['Five: Inconsistency-Avoidance Tendency\\n[People are] reluctant to change, which is a form of inconsistency\\navoidance. We see this in all human habits, constructive and\\ndestructive. Few people can list a lot of bad habits that they have\\neliminated, and some people cannot identify even one of these.\\nInstead, practically every one has a great many bad habits he has\\nlong maintained despite their being known as bad. Given this sit-\\nuation, it is not too much in many cases to appraise early-formed\\nhabits as destiny. When Marley’s miserable ghost says, “I wear the']"
            ],
            "text/plain": [
              "<IPython.core.display.Markdown object>"
            ]
          },
          "metadata": {},
          "output_type": "display_data"
        },
        {
          "data": {
            "text/markdown": [
              "The tendency to avoid inconsistency contributes to people being reluctant to change because individuals are often hesitant to alter their habits, whether constructive or destructive. Many people struggle to eliminate bad habits, even when they are aware of their negative impact. This resistance to change is deeply ingrained, with some early-formed habits being perceived as destiny. Therefore, the fear of inconsistency and the comfort of familiar habits can hinder individuals from embracing change."
            ],
            "text/plain": [
              "<IPython.core.display.Markdown object>"
            ]
          },
          "metadata": {},
          "output_type": "display_data"
        }
      ],
      "source": [
        "for i in range(1,4):\n",
        "    pretty_print(str(test_df.iloc[0][i]))"
      ]
    },
    {
      "cell_type": "code",
      "execution_count": 39,
      "metadata": {
        "id": "xAiXbVmLYSoC"
      },
      "outputs": [],
      "source": [
        "test_questions = test_df[\"question\"].values.tolist()\n",
        "test_groundtruths = test_df[\"ground_truth\"].values.tolist()"
      ]
    },
    {
      "cell_type": "markdown",
      "metadata": {
        "id": "aE5rfMLfbqKH"
      },
      "source": [
        "Now we'll generate responses using our RAG pipeline using the questions we've generated - we'll also need to collect our retrieved contexts for each question.\n",
        "\n",
        "We'll do this in a simple loop to see exactly what's happening!"
      ]
    },
    {
      "cell_type": "code",
      "execution_count": 138,
      "metadata": {
        "id": "9_AayvT1dAQN"
      },
      "outputs": [],
      "source": [
        "answers = []\n",
        "contexts = []\n",
        "\n",
        "for question in test_questions:\n",
        "  response = retrieval_augmented_qa_chain.invoke({\"question\" : question})\n",
        "  answers.append(response[\"response\"].content)\n",
        "  contexts.append([context.page_content for context in response[\"context\"]])"
      ]
    },
    {
      "cell_type": "markdown",
      "metadata": {
        "id": "opHaHmYDeBfC"
      },
      "source": [
        "Now we can wrap our information in a Hugging Face dataset for use in the Ragas library."
      ]
    },
    {
      "cell_type": "code",
      "execution_count": 139,
      "metadata": {
        "id": "fY48YZITeHy-"
      },
      "outputs": [],
      "source": [
        "from datasets import Dataset\n",
        "\n",
        "response_dataset = Dataset.from_dict({\n",
        "    \"question\" : test_questions,\n",
        "    \"answer\" : answers,\n",
        "    \"contexts\" : contexts,\n",
        "    \"ground_truth\" : test_groundtruths\n",
        "})"
      ]
    },
    {
      "cell_type": "markdown",
      "metadata": {
        "id": "mmeVvQaZeogE"
      },
      "source": [
        "Let's take a peek and see what that looks like!"
      ]
    },
    {
      "cell_type": "code",
      "execution_count": 115,
      "metadata": {
        "colab": {
          "base_uri": "https://localhost:8080/"
        },
        "id": "pOpydvc8eqNM",
        "outputId": "21eda635-f38c-42c7-adad-9e4667f4bbe0"
      },
      "outputs": [
        {
          "data": {
            "text/markdown": [
              "question:\n",
              "\n",
              "How does the tendency to avoid inconsistency contribute to people being reluctant to change?"
            ],
            "text/plain": [
              "<IPython.core.display.Markdown object>"
            ]
          },
          "metadata": {},
          "output_type": "display_data"
        },
        {
          "data": {
            "text/markdown": [
              "answer:\n",
              "\n",
              "The tendency to avoid inconsistency contributes to people being reluctant to change because it manifests as a resistance to altering established habits, beliefs, and identities. This avoidance is rooted in the brain's inclination to maintain previous conclusions, loyalties, and commitments, which creates a barrier to embracing new ideas or changes. As a result, individuals may feel uncomfortable or resistant to change, preferring to stick with what they know rather than face the potential inconsistencies that come with adopting something new."
            ],
            "text/plain": [
              "<IPython.core.display.Markdown object>"
            ]
          },
          "metadata": {},
          "output_type": "display_data"
        },
        {
          "data": {
            "text/markdown": [
              "contexts:\n",
              "\n",
              "['Five: Inconsistency-Avoidance Tendency\\n[People are] reluctant to change, which is a form of inconsistency\\navoidance. We see this in all human habits, constructive and', 'less brain-blocked by its previous conclusions…\\nOne corollary of Inconsistency-Avoidance Tendency is that a per-\\nson making big sacriXces in the course of assuming a new identity', '[T]ending to be maintained in place by the anti-change tendency\\nof the brain are one’s previous conclusions, human loyalties, repu-\\ntational identity, commitments…', 'if people just aren’t ready for a new idea, you usually can’t make\\nthem ready, and you have to wait for them to change or for a\\nnew generation of customers to come along.']"
            ],
            "text/plain": [
              "<IPython.core.display.Markdown object>"
            ]
          },
          "metadata": {},
          "output_type": "display_data"
        },
        {
          "data": {
            "text/markdown": [
              "ground_truth:\n",
              "\n",
              "The tendency to avoid inconsistency contributes to people being reluctant to change because individuals are often hesitant to alter their habits, whether constructive or destructive. Many people struggle to eliminate bad habits, even when they are aware of their negative impact. This resistance to change is deeply ingrained, with some early-formed habits being perceived as destiny. Therefore, the fear of inconsistency and the comfort of familiar habits can hinder individuals from embracing change."
            ],
            "text/plain": [
              "<IPython.core.display.Markdown object>"
            ]
          },
          "metadata": {},
          "output_type": "display_data"
        }
      ],
      "source": [
        "for k, v in response_dataset[0].items():\n",
        "    pretty_print(f\"{k}:\\n\\n{str(v)}\")"
      ]
    },
    {
      "cell_type": "markdown",
      "metadata": {
        "id": "oM4fmAnsBmL2"
      },
      "source": [
        "# 🤝 Breakout Room Part #2"
      ]
    },
    {
      "cell_type": "markdown",
      "metadata": {
        "id": "xbsFm5FievJI"
      },
      "source": [
        "## Task 1: Evaluating our Pipeline with Ragas\n",
        "\n",
        "Now that we have our response dataset - we can finally get into the \"meat\" of Ragas - evaluation!\n",
        "\n",
        "First, we'll import the desired metrics, then we can use them to evaluate our created dataset!\n",
        "\n",
        "Check out the specific metrics we'll be using in the Ragas documentation:\n",
        "\n",
        "- [Faithfulness](https://docs.ragas.io/en/stable/concepts/metrics/faithfulness.html)\n",
        "- [Answer Relevancy](https://docs.ragas.io/en/stable/concepts/metrics/answer_relevance.html)\n",
        "- [Context Precision](https://docs.ragas.io/en/stable/concepts/metrics/context_precision.html)\n",
        "- [Context Recall](https://docs.ragas.io/en/stable/concepts/metrics/context_recall.html)\n",
        "- [Answer Correctness](https://docs.ragas.io/en/stable/concepts/metrics/answer_correctness.html)\n",
        "\n",
        "See the accompanied presentation for more in-depth explanations about each of the metrics!"
      ]
    },
    {
      "cell_type": "code",
      "execution_count": 51,
      "metadata": {
        "id": "R2PXwyt8e5aW"
      },
      "outputs": [],
      "source": [
        "from ragas import evaluate\n",
        "from ragas.metrics import (\n",
        "    faithfulness,\n",
        "    answer_relevancy,\n",
        "    answer_correctness,\n",
        "    context_recall,\n",
        "    context_precision,\n",
        ")\n",
        "\n",
        "metrics = [\n",
        "    faithfulness,\n",
        "    answer_relevancy,\n",
        "    context_recall,\n",
        "    context_precision,\n",
        "    answer_correctness,\n",
        "]"
      ]
    },
    {
      "cell_type": "markdown",
      "metadata": {
        "id": "Kx-vlsx_hrtV"
      },
      "source": [
        "All that's left to do is call \"evaluate\" and away we go!"
      ]
    },
    {
      "cell_type": "code",
      "execution_count": 140,
      "metadata": {
        "colab": {
          "base_uri": "https://localhost:8080/",
          "height": 49,
          "referenced_widgets": [
            "4d9ba78dc78040f494df9122ddc7ba1d",
            "e4e76e5d4fba404a9ed4ff059f3a0c04",
            "1e2026abc1314d3caf37d74af7a407e7",
            "fb306876e3244dc69312e2af46c4da02",
            "b319ae78e30d437c81f07d5a062ba805",
            "22c5f6324de545ba814402c3f71d84f1",
            "764b7b6827c9437b90c9c948b9f1037b",
            "e32bc4bb09af4ac5a608e56f87317596",
            "b53095cea92740dfb967120a77310283",
            "d020211480b149cab1761b14ae631eb1",
            "63d6044414e24c5ea55efa925f7a3b56"
          ]
        },
        "id": "DhlcfJ4lgYVI",
        "outputId": "77bfa68b-ddff-47f6-8ebf-e726c5ba8c1f"
      },
      "outputs": [
        {
          "name": "stderr",
          "output_type": "stream",
          "text": [
            "Evaluating: 100%|██████████| 95/95 [00:39<00:00,  2.38it/s]\n"
          ]
        }
      ],
      "source": [
        "results = evaluate(response_dataset, metrics)"
      ]
    },
    {
      "cell_type": "code",
      "execution_count": 141,
      "metadata": {
        "colab": {
          "base_uri": "https://localhost:8080/"
        },
        "id": "UqPArpSrgwDD",
        "outputId": "93940cfe-3750-41aa-9c20-1fc1eaf37287"
      },
      "outputs": [
        {
          "data": {
            "text/plain": [
              "{'faithfulness': 0.6452, 'answer_relevancy': 0.8236, 'context_recall': 0.6272, 'context_precision': 0.6506, 'answer_correctness': 0.6040}"
            ]
          },
          "execution_count": 141,
          "metadata": {},
          "output_type": "execute_result"
        }
      ],
      "source": [
        "results"
      ]
    },
    {
      "cell_type": "markdown",
      "metadata": {},
      "source": [
        "**Comment**\n",
        "\n",
        "Results using the Manually Crafter Prompt:\n",
        "- Run 1: {'faithfulness': 0.6535, 'answer_relevancy': 0.8247, 'context_recall': 0.6535, 'context_precision': 0.6637, 'answer_correctness': 0.5880}\n",
        "- Run 2: {'faithfulness': 0.6144, 'answer_relevancy': 0.8247, 'context_recall': 0.6096, 'context_precision': 0.7076, 'answer_correctness': 0.5982}\n",
        "- Run 3: {'faithfulness': 0.6452, 'answer_relevancy': 0.8236, 'context_recall': 0.6272, 'context_precision': 0.6506, 'answer_correctness': 0.6040}\n",
        "\n",
        "Results using the prompt from the LC Hub Prompt:\n",
        "- {'faithfulness': 0.6827, 'answer_relevancy': 0.8240, 'context_recall': 0.6096, 'context_precision': 0.7076, 'answer_correctness': 0.5855}\n",
        "\n",
        "The impact on selecting the prompt is mixed."
      ]
    },
    {
      "cell_type": "code",
      "execution_count": 54,
      "metadata": {
        "colab": {
          "base_uri": "https://localhost:8080/",
          "height": 1000
        },
        "id": "2nsGzj8DhP9E",
        "outputId": "cf47bdeb-c3ba-456a-9231-d08105c68f4c"
      },
      "outputs": [
        {
          "data": {
            "text/html": [
              "<div>\n",
              "<style scoped>\n",
              "    .dataframe tbody tr th:only-of-type {\n",
              "        vertical-align: middle;\n",
              "    }\n",
              "\n",
              "    .dataframe tbody tr th {\n",
              "        vertical-align: top;\n",
              "    }\n",
              "\n",
              "    .dataframe thead th {\n",
              "        text-align: right;\n",
              "    }\n",
              "</style>\n",
              "<table border=\"1\" class=\"dataframe\">\n",
              "  <thead>\n",
              "    <tr style=\"text-align: right;\">\n",
              "      <th></th>\n",
              "      <th>question</th>\n",
              "      <th>contexts</th>\n",
              "      <th>answer</th>\n",
              "      <th>ground_truth</th>\n",
              "      <th>faithfulness</th>\n",
              "      <th>answer_relevancy</th>\n",
              "      <th>context_recall</th>\n",
              "      <th>context_precision</th>\n",
              "      <th>answer_correctness</th>\n",
              "    </tr>\n",
              "  </thead>\n",
              "  <tbody>\n",
              "    <tr>\n",
              "      <th>0</th>\n",
              "      <td>How does the tendency to avoid inconsistency c...</td>\n",
              "      <td>[Five: Inconsistency-Avoidance Tendency\\n[Peop...</td>\n",
              "      <td>The tendency to avoid inconsistency contribute...</td>\n",
              "      <td>The tendency to avoid inconsistency contribute...</td>\n",
              "      <td>0.714286</td>\n",
              "      <td>0.957898</td>\n",
              "      <td>0.500000</td>\n",
              "      <td>0.805556</td>\n",
              "      <td>0.302667</td>\n",
              "    </tr>\n",
              "    <tr>\n",
              "      <th>1</th>\n",
              "      <td>What are some of the challenges faced by start...</td>\n",
              "      <td>[ied and determined. Sales calls get made. The...</td>\n",
              "      <td>Some of the challenges faced by startups in es...</td>\n",
              "      <td>In a startup, it is easy for the code not to g...</td>\n",
              "      <td>1.000000</td>\n",
              "      <td>0.991209</td>\n",
              "      <td>1.000000</td>\n",
              "      <td>1.000000</td>\n",
              "      <td>0.682024</td>\n",
              "    </tr>\n",
              "    <tr>\n",
              "      <th>2</th>\n",
              "      <td>What factors should be considered when decidin...</td>\n",
              "      <td>[including your formal education. So I will st...</td>\n",
              "      <td>I don't know.</td>\n",
              "      <td>The answer to given question is not present in...</td>\n",
              "      <td>0.000000</td>\n",
              "      <td>0.000000</td>\n",
              "      <td>1.000000</td>\n",
              "      <td>0.000000</td>\n",
              "      <td>0.195204</td>\n",
              "    </tr>\n",
              "    <tr>\n",
              "      <th>3</th>\n",
              "      <td>What should be valued when evaluating candidat...</td>\n",
              "      <td>[priate for your particular startup.\\nWith a w...</td>\n",
              "      <td>When evaluating candidates for a startup, it i...</td>\n",
              "      <td>The answer to given question is not present in...</td>\n",
              "      <td>0.777778</td>\n",
              "      <td>0.967892</td>\n",
              "      <td>1.000000</td>\n",
              "      <td>0.000000</td>\n",
              "      <td>0.180541</td>\n",
              "    </tr>\n",
              "    <tr>\n",
              "      <th>4</th>\n",
              "      <td>What are the consequences of not raising enoug...</td>\n",
              "      <td>[Here’s why you shouldn’t do that:\\nWhat are t...</td>\n",
              "      <td>The consequences of not raising enough money f...</td>\n",
              "      <td>Not raising enough money risks the survival of...</td>\n",
              "      <td>0.166667</td>\n",
              "      <td>0.983236</td>\n",
              "      <td>0.333333</td>\n",
              "      <td>0.833333</td>\n",
              "      <td>0.632322</td>\n",
              "    </tr>\n",
              "    <tr>\n",
              "      <th>5</th>\n",
              "      <td>How does Structured Procrastination suggest us...</td>\n",
              "      <td>[standing.)\\nThe gist of Structured Procrastin...</td>\n",
              "      <td>Structured Procrastination suggests that inste...</td>\n",
              "      <td>Structured Procrastination suggests that inste...</td>\n",
              "      <td>1.000000</td>\n",
              "      <td>0.957711</td>\n",
              "      <td>1.000000</td>\n",
              "      <td>0.916667</td>\n",
              "      <td>0.655328</td>\n",
              "    </tr>\n",
              "    <tr>\n",
              "      <th>6</th>\n",
              "      <td>What analogy is used to describe the layers of...</td>\n",
              "      <td>[as if it’s an onion. Just like you peel an on...</td>\n",
              "      <td>The analogy used to describe the layers of ris...</td>\n",
              "      <td>The analogy used to describe the layers of ris...</td>\n",
              "      <td>1.000000</td>\n",
              "      <td>1.000000</td>\n",
              "      <td>1.000000</td>\n",
              "      <td>0.916667</td>\n",
              "      <td>0.891681</td>\n",
              "    </tr>\n",
              "    <tr>\n",
              "      <th>7</th>\n",
              "      <td>How can Structured Procrastination be used to ...</td>\n",
              "      <td>[standing.)\\nThe gist of Structured Procrastin...</td>\n",
              "      <td>Structured Procrastination can be used to one'...</td>\n",
              "      <td>Structured Procrastination suggests that inste...</td>\n",
              "      <td>1.000000</td>\n",
              "      <td>0.987979</td>\n",
              "      <td>0.500000</td>\n",
              "      <td>0.805556</td>\n",
              "      <td>0.815880</td>\n",
              "    </tr>\n",
              "    <tr>\n",
              "      <th>8</th>\n",
              "      <td>How is the quality of a startup's product defi...</td>\n",
              "      <td>[The quality of a startup’s pr\\nproduct\\noduct...</td>\n",
              "      <td>The quality of a startup's product in the tech...</td>\n",
              "      <td>The quality of a startup's product in the tech...</td>\n",
              "      <td>1.000000</td>\n",
              "      <td>0.993645</td>\n",
              "      <td>0.000000</td>\n",
              "      <td>1.000000</td>\n",
              "      <td>0.651019</td>\n",
              "    </tr>\n",
              "    <tr>\n",
              "      <th>9</th>\n",
              "      <td>What role can a campus computer lab play in he...</td>\n",
              "      <td>[What should I do while I’m in school?\\nI’m a ...</td>\n",
              "      <td>A campus computer lab can play a significant r...</td>\n",
              "      <td>A campus computer lab can play a role in helpi...</td>\n",
              "      <td>1.000000</td>\n",
              "      <td>0.979579</td>\n",
              "      <td>0.666667</td>\n",
              "      <td>0.750000</td>\n",
              "      <td>0.545640</td>\n",
              "    </tr>\n",
              "    <tr>\n",
              "      <th>10</th>\n",
              "      <td>Who said, 'This task isn't easy'?</td>\n",
              "      <td>[we’re going to do it. It won’t be easy, but w...</td>\n",
              "      <td>I don't know.</td>\n",
              "      <td>The answer to given question is not present in...</td>\n",
              "      <td>0.000000</td>\n",
              "      <td>0.000000</td>\n",
              "      <td>1.000000</td>\n",
              "      <td>0.000000</td>\n",
              "      <td>0.195204</td>\n",
              "    </tr>\n",
              "    <tr>\n",
              "      <th>11</th>\n",
              "      <td>What significant event involving Microsoft and...</td>\n",
              "      <td>[cess, or lack thereof leads to huge failure.\\...</td>\n",
              "      <td>I don't know.</td>\n",
              "      <td>The answer to given question is not present in...</td>\n",
              "      <td>1.000000</td>\n",
              "      <td>0.000000</td>\n",
              "      <td>1.000000</td>\n",
              "      <td>0.000000</td>\n",
              "      <td>0.195204</td>\n",
              "    </tr>\n",
              "    <tr>\n",
              "      <th>12</th>\n",
              "      <td>What undergrad degrees are valuable in the rea...</td>\n",
              "      <td>[Which undergraduate degrees are useful in\\nth...</td>\n",
              "      <td>Undergraduate degrees that are valuable in the...</td>\n",
              "      <td>Engineering and math undergraduate degrees are...</td>\n",
              "      <td>1.000000</td>\n",
              "      <td>0.938789</td>\n",
              "      <td>0.500000</td>\n",
              "      <td>1.000000</td>\n",
              "      <td>0.501050</td>\n",
              "    </tr>\n",
              "    <tr>\n",
              "      <th>13</th>\n",
              "      <td>How does the shift to online impact traditiona...</td>\n",
              "      <td>[Which makes total sense, amid the enormous ma...</td>\n",
              "      <td>The shift to online media impacts traditional ...</td>\n",
              "      <td>The shift to online has led to a significant i...</td>\n",
              "      <td>0.800000</td>\n",
              "      <td>0.995864</td>\n",
              "      <td>0.500000</td>\n",
              "      <td>1.000000</td>\n",
              "      <td>0.626631</td>\n",
              "    </tr>\n",
              "    <tr>\n",
              "      <th>14</th>\n",
              "      <td>How does the three-folder email system help ma...</td>\n",
              "      <td>[the normal course of your day.\\nFourth, aside...</td>\n",
              "      <td>The three-folder email system helps manage imp...</td>\n",
              "      <td>The three-folder email system helps manage imp...</td>\n",
              "      <td>0.200000</td>\n",
              "      <td>1.000000</td>\n",
              "      <td>0.250000</td>\n",
              "      <td>1.000000</td>\n",
              "      <td>0.996845</td>\n",
              "    </tr>\n",
              "    <tr>\n",
              "      <th>15</th>\n",
              "      <td>What's the argument against prioritizing intel...</td>\n",
              "      <td>[Especially in this industry.\\nYou will read, ...</td>\n",
              "      <td>The argument against prioritizing intelligence...</td>\n",
              "      <td>The argument against prioritizing intelligence...</td>\n",
              "      <td>0.750000</td>\n",
              "      <td>0.953085</td>\n",
              "      <td>1.000000</td>\n",
              "      <td>1.000000</td>\n",
              "      <td>0.993226</td>\n",
              "    </tr>\n",
              "    <tr>\n",
              "      <th>16</th>\n",
              "      <td>How does planning interviews affect a marketer...</td>\n",
              "      <td>[For a marketing person — have them whiteboard...</td>\n",
              "      <td>Planning interviews affects a marketer's produ...</td>\n",
              "      <td>Planning interviews ahead of time allows for t...</td>\n",
              "      <td>0.285714</td>\n",
              "      <td>0.997998</td>\n",
              "      <td>0.500000</td>\n",
              "      <td>1.000000</td>\n",
              "      <td>0.646916</td>\n",
              "    </tr>\n",
              "    <tr>\n",
              "      <th>17</th>\n",
              "      <td>How does faster cycle time impact entrepreneur...</td>\n",
              "      <td>[the time cycles further.\\nThird, all that sai...</td>\n",
              "      <td>Faster cycle time impacts entrepreneurs starti...</td>\n",
              "      <td>The faster cycle time allows entrepreneurs to ...</td>\n",
              "      <td>0.222222</td>\n",
              "      <td>0.968525</td>\n",
              "      <td>0.666667</td>\n",
              "      <td>0.583333</td>\n",
              "      <td>0.988069</td>\n",
              "    </tr>\n",
              "    <tr>\n",
              "      <th>18</th>\n",
              "      <td>What key factor guides the CEO in the turnarou...</td>\n",
              "      <td>[clearly in charge.\\nA company that requires a...</td>\n",
              "      <td>The key factor that guides the CEO in the turn...</td>\n",
              "      <td>The key factor that guides the CEO in the turn...</td>\n",
              "      <td>0.500000</td>\n",
              "      <td>0.996403</td>\n",
              "      <td>0.000000</td>\n",
              "      <td>0.000000</td>\n",
              "      <td>0.477281</td>\n",
              "    </tr>\n",
              "  </tbody>\n",
              "</table>\n",
              "</div>"
            ],
            "text/plain": [
              "                                             question  \\\n",
              "0   How does the tendency to avoid inconsistency c...   \n",
              "1   What are some of the challenges faced by start...   \n",
              "2   What factors should be considered when decidin...   \n",
              "3   What should be valued when evaluating candidat...   \n",
              "4   What are the consequences of not raising enoug...   \n",
              "5   How does Structured Procrastination suggest us...   \n",
              "6   What analogy is used to describe the layers of...   \n",
              "7   How can Structured Procrastination be used to ...   \n",
              "8   How is the quality of a startup's product defi...   \n",
              "9   What role can a campus computer lab play in he...   \n",
              "10                  Who said, 'This task isn't easy'?   \n",
              "11  What significant event involving Microsoft and...   \n",
              "12  What undergrad degrees are valuable in the rea...   \n",
              "13  How does the shift to online impact traditiona...   \n",
              "14  How does the three-folder email system help ma...   \n",
              "15  What's the argument against prioritizing intel...   \n",
              "16  How does planning interviews affect a marketer...   \n",
              "17  How does faster cycle time impact entrepreneur...   \n",
              "18  What key factor guides the CEO in the turnarou...   \n",
              "\n",
              "                                             contexts  \\\n",
              "0   [Five: Inconsistency-Avoidance Tendency\\n[Peop...   \n",
              "1   [ied and determined. Sales calls get made. The...   \n",
              "2   [including your formal education. So I will st...   \n",
              "3   [priate for your particular startup.\\nWith a w...   \n",
              "4   [Here’s why you shouldn’t do that:\\nWhat are t...   \n",
              "5   [standing.)\\nThe gist of Structured Procrastin...   \n",
              "6   [as if it’s an onion. Just like you peel an on...   \n",
              "7   [standing.)\\nThe gist of Structured Procrastin...   \n",
              "8   [The quality of a startup’s pr\\nproduct\\noduct...   \n",
              "9   [What should I do while I’m in school?\\nI’m a ...   \n",
              "10  [we’re going to do it. It won’t be easy, but w...   \n",
              "11  [cess, or lack thereof leads to huge failure.\\...   \n",
              "12  [Which undergraduate degrees are useful in\\nth...   \n",
              "13  [Which makes total sense, amid the enormous ma...   \n",
              "14  [the normal course of your day.\\nFourth, aside...   \n",
              "15  [Especially in this industry.\\nYou will read, ...   \n",
              "16  [For a marketing person — have them whiteboard...   \n",
              "17  [the time cycles further.\\nThird, all that sai...   \n",
              "18  [clearly in charge.\\nA company that requires a...   \n",
              "\n",
              "                                               answer  \\\n",
              "0   The tendency to avoid inconsistency contribute...   \n",
              "1   Some of the challenges faced by startups in es...   \n",
              "2                                       I don't know.   \n",
              "3   When evaluating candidates for a startup, it i...   \n",
              "4   The consequences of not raising enough money f...   \n",
              "5   Structured Procrastination suggests that inste...   \n",
              "6   The analogy used to describe the layers of ris...   \n",
              "7   Structured Procrastination can be used to one'...   \n",
              "8   The quality of a startup's product in the tech...   \n",
              "9   A campus computer lab can play a significant r...   \n",
              "10                                      I don't know.   \n",
              "11                                      I don't know.   \n",
              "12  Undergraduate degrees that are valuable in the...   \n",
              "13  The shift to online media impacts traditional ...   \n",
              "14  The three-folder email system helps manage imp...   \n",
              "15  The argument against prioritizing intelligence...   \n",
              "16  Planning interviews affects a marketer's produ...   \n",
              "17  Faster cycle time impacts entrepreneurs starti...   \n",
              "18  The key factor that guides the CEO in the turn...   \n",
              "\n",
              "                                         ground_truth  faithfulness  \\\n",
              "0   The tendency to avoid inconsistency contribute...      0.714286   \n",
              "1   In a startup, it is easy for the code not to g...      1.000000   \n",
              "2   The answer to given question is not present in...      0.000000   \n",
              "3   The answer to given question is not present in...      0.777778   \n",
              "4   Not raising enough money risks the survival of...      0.166667   \n",
              "5   Structured Procrastination suggests that inste...      1.000000   \n",
              "6   The analogy used to describe the layers of ris...      1.000000   \n",
              "7   Structured Procrastination suggests that inste...      1.000000   \n",
              "8   The quality of a startup's product in the tech...      1.000000   \n",
              "9   A campus computer lab can play a role in helpi...      1.000000   \n",
              "10  The answer to given question is not present in...      0.000000   \n",
              "11  The answer to given question is not present in...      1.000000   \n",
              "12  Engineering and math undergraduate degrees are...      1.000000   \n",
              "13  The shift to online has led to a significant i...      0.800000   \n",
              "14  The three-folder email system helps manage imp...      0.200000   \n",
              "15  The argument against prioritizing intelligence...      0.750000   \n",
              "16  Planning interviews ahead of time allows for t...      0.285714   \n",
              "17  The faster cycle time allows entrepreneurs to ...      0.222222   \n",
              "18  The key factor that guides the CEO in the turn...      0.500000   \n",
              "\n",
              "    answer_relevancy  context_recall  context_precision  answer_correctness  \n",
              "0           0.957898        0.500000           0.805556            0.302667  \n",
              "1           0.991209        1.000000           1.000000            0.682024  \n",
              "2           0.000000        1.000000           0.000000            0.195204  \n",
              "3           0.967892        1.000000           0.000000            0.180541  \n",
              "4           0.983236        0.333333           0.833333            0.632322  \n",
              "5           0.957711        1.000000           0.916667            0.655328  \n",
              "6           1.000000        1.000000           0.916667            0.891681  \n",
              "7           0.987979        0.500000           0.805556            0.815880  \n",
              "8           0.993645        0.000000           1.000000            0.651019  \n",
              "9           0.979579        0.666667           0.750000            0.545640  \n",
              "10          0.000000        1.000000           0.000000            0.195204  \n",
              "11          0.000000        1.000000           0.000000            0.195204  \n",
              "12          0.938789        0.500000           1.000000            0.501050  \n",
              "13          0.995864        0.500000           1.000000            0.626631  \n",
              "14          1.000000        0.250000           1.000000            0.996845  \n",
              "15          0.953085        1.000000           1.000000            0.993226  \n",
              "16          0.997998        0.500000           1.000000            0.646916  \n",
              "17          0.968525        0.666667           0.583333            0.988069  \n",
              "18          0.996403        0.000000           0.000000            0.477281  "
            ]
          },
          "execution_count": 54,
          "metadata": {},
          "output_type": "execute_result"
        }
      ],
      "source": [
        "results_df = results.to_pandas()\n",
        "results_df"
      ]
    },
    {
      "cell_type": "code",
      "execution_count": 57,
      "metadata": {},
      "outputs": [],
      "source": [
        "!pip install -qU matplotlib"
      ]
    },
    {
      "cell_type": "code",
      "execution_count": 74,
      "metadata": {},
      "outputs": [],
      "source": [
        "import matplotlib\n",
        "import matplotlib.pyplot as plt"
      ]
    },
    {
      "cell_type": "code",
      "execution_count": 78,
      "metadata": {},
      "outputs": [
        {
          "data": {
            "image/png": "[encoded data removed]",
            "text/plain": [
              "<Figure size 640x480 with 1 Axes>"
            ]
          },
          "metadata": {},
          "output_type": "display_data"
        },
        {
          "data": {
            "image/png": "[encoded data removed]",
            "text/plain": [
              "<Figure size 640x480 with 1 Axes>"
            ]
          },
          "metadata": {},
          "output_type": "display_data"
        },
        {
          "data": {
            "image/png": "[encoded data removed]",
            "text/plain": [
              "<Figure size 640x480 with 1 Axes>"
            ]
          },
          "metadata": {},
          "output_type": "display_data"
        },
        {
          "data": {
            "image/png": "[encoded data removed]",
            "text/plain": [
              "<Figure size 640x480 with 1 Axes>"
            ]
          },
          "metadata": {},
          "output_type": "display_data"
        },
        {
          "data": {
            "image/png": "[encoded data removed]",
            "text/plain": [
              "<Figure size 640x480 with 1 Axes>"
            ]
          },
          "metadata": {},
          "output_type": "display_data"
        }
      ],
      "source": [
        "for metric in results_df.columns[4:]:\n",
        "    #print(m)\n",
        "    ax = results_df[metric].hist(bins=4)\n",
        "    ax.set_title(metric)\n",
        "    plt.show()\n"
      ]
    },
    {
      "cell_type": "markdown",
      "metadata": {
        "id": "GJKEOLNs5v0R"
      },
      "source": [
        "## Task : Testing OpenAI's Claim\n",
        "\n",
        "Now that we've seen how our retriever can impact the performance of our RAG pipeline - let's see how changing our embedding model impacts performance."
      ]
    },
    {
      "cell_type": "markdown",
      "metadata": {
        "id": "MM4KRhJYEL-h"
      },
      "source": [
        "####🏗️ Activity #1:\n",
        "\n",
        "Please provide markdown, or code comments, to explain which each of the following steps are doing!"
      ]
    },
    {
      "cell_type": "code",
      "execution_count": 79,
      "metadata": {
        "id": "Gv_tv4w86bPb"
      },
      "outputs": [],
      "source": [
        "te3_embeddings = OpenAIEmbeddings(model=\"text-embedding-3-small\")"
      ]
    },
    {
      "cell_type": "markdown",
      "metadata": {},
      "source": [
        "**Answer**\n",
        "\n",
        "Integrating with the selected OpenAI embedding mode, allowing for easy inference using their API."
      ]
    },
    {
      "cell_type": "code",
      "execution_count": null,
      "metadata": {
        "colab": {
          "base_uri": "https://localhost:8080/"
        },
        "id": "-JPe1_Jx6Rnw",
        "outputId": "9f552c17-dea5-4b87-a609-7f8bc37f82bd"
      },
      "outputs": [],
      "source": [
        "qdrant_client.create_collection(\n",
        "    collection_name=COLLECTION_NAME+\"TE3\",\n",
        "    vectors_config=VectorParams(size=1536, distance=Distance.COSINE),\n",
        ")\n",
        "\n",
        "qdrant_vector_store = QdrantVectorStore(\n",
        "    client=qdrant_client,\n",
        "    collection_name=COLLECTION_NAME+\"TE3\",\n",
        "    embedding=te3_embeddings,\n",
        ")\n",
        "\n",
        "qdrant_vector_store.add_documents(documents)"
      ]
    },
    {
      "cell_type": "markdown",
      "metadata": {},
      "source": [
        "**Answer**\n",
        "\n",
        "Steps:\n",
        "1. Adding a new collection to the existing Qdrant Client (it stores data in memory).\n",
        "2. Creating a new Qdrant Vector Store to access this collection, specifying the embedding model to be used to create vectors.\n",
        "3. Populating the new collection (*TE3) be embedding the documents.\n",
        "\n",
        "These steps are necessary as the modification in our RAG app consists in using a different embedding model. Hence we need to create the Index from scratch or - to be more correct - from chunks as the chunking method remains unchanged."
      ]
    },
    {
      "cell_type": "code",
      "execution_count": 81,
      "metadata": {
        "id": "H-HuozNf6muZ"
      },
      "outputs": [],
      "source": [
        "te3_retriever = qdrant_vector_store.as_retriever()"
      ]
    },
    {
      "cell_type": "markdown",
      "metadata": {},
      "source": [
        "**Answer**\n",
        "\n",
        "Converting the store into a retriver."
      ]
    },
    {
      "cell_type": "code",
      "execution_count": 144,
      "metadata": {},
      "outputs": [
        {
          "data": {
            "text/markdown": [
              "\n",
              "You are a helpful assistance. Answer the question using the following context. If you don't know the answer, answer 'I don't know'.\n",
              "\n",
              "Question:\n",
              "{input}\n",
              "\n",
              "Context:\n",
              "{context}\n"
            ],
            "text/plain": [
              "<IPython.core.display.Markdown object>"
            ]
          },
          "metadata": {},
          "output_type": "display_data"
        }
      ],
      "source": [
        "import re\n",
        "\n",
        "# Adjusting the Manually Crafted Prompt to the format expected by the LC functions generating RAG QA Chains\n",
        "base_template = re.sub(r\"{question}\", \"{input}\", template)\n",
        "pretty_print(base_template)\n",
        "\n",
        "base_prompt = ChatPromptTemplate.from_template(base_template)"
      ]
    },
    {
      "cell_type": "code",
      "execution_count": 145,
      "metadata": {
        "id": "HJB1ZIAcss1q"
      },
      "outputs": [],
      "source": [
        "from langchain.chains.combine_documents import create_stuff_documents_chain\n",
        "\n",
        "# Using the LC Hub Prompt\n",
        "document_chain = create_stuff_documents_chain(primary_qa_llm, retrieval_qa_prompt)\n",
        "\n",
        "# Using the Manually Crafted Prompt\n",
        "base_document_chain = create_stuff_documents_chain(primary_qa_llm, base_prompt)"
      ]
    },
    {
      "cell_type": "code",
      "execution_count": 103,
      "metadata": {},
      "outputs": [
        {
          "data": {
            "text/markdown": [
              "input_variables=['context', 'input'] optional_variables=['chat_history'] input_types={'chat_history': typing.List[typing.Union[langchain_core.messages.ai.AIMessage, langchain_core.messages.human.HumanMessage, langchain_core.messages.chat.ChatMessage, langchain_core.messages.system.SystemMessage, langchain_core.messages.function.FunctionMessage, langchain_core.messages.tool.ToolMessage]]} partial_variables={'chat_history': []} metadata={'lc_hub_owner': 'langchain-ai', 'lc_hub_repo': 'retrieval-qa-chat', 'lc_hub_commit_hash': 'b60afb6297176b022244feb83066e10ecadcda7b90423654c4a9d45e7a73cebc'} messages=[SystemMessagePromptTemplate(prompt=PromptTemplate(input_variables=['context'], template='Answer any use questions based solely on the context below:\\n\\n<context>\\n{context}\\n</context>')), MessagesPlaceholder(variable_name='chat_history', optional=True), HumanMessagePromptTemplate(prompt=PromptTemplate(input_variables=['input'], template='{input}'))]"
            ],
            "text/plain": [
              "<IPython.core.display.Markdown object>"
            ]
          },
          "metadata": {},
          "output_type": "display_data"
        }
      ],
      "source": [
        "pretty_print(str(retrieval_qa_prompt))"
      ]
    },
    {
      "cell_type": "markdown",
      "metadata": {},
      "source": [
        "**Answer**\n",
        "\n",
        "Creating a chain for \"passing a list of Documents to a model\" (per documentation), here it means passing the question and the context through the prompt into the model, that is:\n",
        "```python\n",
        "{\"response\": prompt | primary_qa_llm, \"context\": itemgetter(\"context\")}\n",
        "```\n",
        "\n",
        "Important note: to properly evaluate the impact of chaning the embedding model we should leave all other elements of the RAG chain unchanged. However in the original version of this notebook TE3 chain is using `retrieval_qa_prompt` which was not used in the baseline version of the RAG chain."
      ]
    },
    {
      "cell_type": "code",
      "execution_count": 146,
      "metadata": {
        "id": "s5QSJIhm7SKr"
      },
      "outputs": [],
      "source": [
        "from langchain.chains import create_retrieval_chain\n",
        "\n",
        "# Using the LC Hub Prompt\n",
        "# te3_retrieval_chain = create_retrieval_chain(te3_retriever, document_chain)\n",
        "\n",
        "# Using the Manually Crafted Prompt\n",
        "te3_retrieval_chain = create_retrieval_chain(te3_retriever, base_document_chain)"
      ]
    },
    {
      "cell_type": "markdown",
      "metadata": {},
      "source": [
        "**Answer**\n",
        "\n",
        "Creating retrieval chain that retrieves documents (using `te3_retriever`) and then passes them on (to `document_chain`) (per documentation), here it is equivalent to:\n",
        "\n",
        "```python\n",
        "{\"context\": itemgetter(\"question\") | retriever, \"question\": itemgetter(\"question\")}\n",
        "    | RunnablePassthrough.assign(context=itemgetter(\"context\"))\n",
        "    | document_chain}\n",
        "```"
      ]
    },
    {
      "cell_type": "code",
      "execution_count": 147,
      "metadata": {
        "id": "MBVjl1UK7fd7"
      },
      "outputs": [],
      "source": [
        "answers = []\n",
        "contexts = []\n",
        "\n",
        "for question in test_questions:\n",
        "  response = te3_retrieval_chain.invoke({\"input\" : question})\n",
        "  answers.append(response[\"answer\"])\n",
        "  contexts.append([context.page_content for context in response[\"context\"]])"
      ]
    },
    {
      "cell_type": "markdown",
      "metadata": {},
      "source": [
        "**Answer**\n",
        "\n",
        "Generating responses using TE3 chain (the improved app) for the SDG testset."
      ]
    },
    {
      "cell_type": "code",
      "execution_count": 148,
      "metadata": {
        "id": "lTBrs0zr7iyG"
      },
      "outputs": [],
      "source": [
        "te3_response_dataset_advanced_retrieval = Dataset.from_dict({\n",
        "    \"question\" : test_questions,\n",
        "    \"answer\" : answers,\n",
        "    \"contexts\" : contexts,\n",
        "    \"ground_truth\" : test_groundtruths\n",
        "})"
      ]
    },
    {
      "cell_type": "markdown",
      "metadata": {},
      "source": [
        "**Answer**\n",
        "\n",
        "Creating HuggingFace dataset object for the further processing in Ragas."
      ]
    },
    {
      "cell_type": "code",
      "execution_count": 149,
      "metadata": {
        "colab": {
          "base_uri": "https://localhost:8080/",
          "height": 49,
          "referenced_widgets": [
            "ced3689d335c4f1ca62d39b908d6cb33",
            "824fe37b12d4414a9376e266ddd086f5",
            "00afceb39c074975b6b88d6d0d4d2901",
            "e8c20cb22ecb40dbaf61959fc7d087cb",
            "771597df670f417794f66408b05a7eb9",
            "9496fc3f26cb42ec9ace36175eb14906",
            "8025a0f161d3475794daa9cd88209d5c",
            "9932859168ad436e9aeef09279b534b1",
            "474f44771cb04a4693585273a03a5548",
            "90af75e58cef440a8d38ee6621e0f4d1",
            "ce0b10aca9064bc092cf3305eb0dab04"
          ]
        },
        "id": "hG5h-D8n7sZp",
        "outputId": "54cc5a58-e508-40dc-d3a1-bf7f17917b5b"
      },
      "outputs": [
        {
          "name": "stderr",
          "output_type": "stream",
          "text": [
            "Evaluating: 100%|██████████| 95/95 [00:38<00:00,  2.44it/s]\n"
          ]
        }
      ],
      "source": [
        "te3_advanced_retrieval_results = evaluate(te3_response_dataset_advanced_retrieval, metrics)"
      ]
    },
    {
      "cell_type": "markdown",
      "metadata": {},
      "source": [
        "**Answer**\n",
        "\n",
        "Evaluating with Ragas, against exactly the same metrics and testset as the baseline version of the RAG application."
      ]
    },
    {
      "cell_type": "code",
      "execution_count": 150,
      "metadata": {
        "colab": {
          "base_uri": "https://localhost:8080/"
        },
        "id": "1uHdcpsZ76kj",
        "outputId": "83a68685-68a0-4d73-b00e-6c44f174329b"
      },
      "outputs": [
        {
          "data": {
            "text/plain": [
              "{'faithfulness': 0.6549, 'answer_relevancy': 0.8189, 'context_recall': 0.6228, 'context_precision': 0.6287, 'answer_correctness': 0.5905}"
            ]
          },
          "execution_count": 150,
          "metadata": {},
          "output_type": "execute_result"
        }
      ],
      "source": [
        "te3_advanced_retrieval_results"
      ]
    },
    {
      "cell_type": "markdown",
      "metadata": {},
      "source": [
        "**Answer**\n",
        "\n",
        "Results of the evaluation of TE3 with the prompt from the hub:\n",
        "- Run 1: {'faithfulness': 0.7206, 'answer_relevancy': 0.9714, 'context_recall': 0.6228, 'context_precision': 0.6287, 'answer_correctness': 0.5936}\n",
        "- Run 2: {'faithfulness': 0.7677, 'answer_relevancy': 0.9736, 'context_recall': 0.5965, 'context_precision': 0.6813, 'answer_correctness': 0.6262}\n",
        "- Run 3: {'faithfulness': 0.7570, 'answer_relevancy': 0.9724, 'context_recall': 0.6228, 'context_precision': 0.6111, 'answer_correctness': 0.6141}\n",
        "\n",
        "Using the manually crafted prompt:\n",
        "- Run 1: {'faithfulness': 0.6381, 'answer_relevancy': 0.8186, 'context_recall': 0.6228, 'context_precision': 0.6243, 'answer_correctness': 0.5771}\n",
        "- Run 2: {'faithfulness': 0.6549, 'answer_relevancy': 0.8189, 'context_recall': 0.6228, 'context_precision': 0.6287, 'answer_correctness': 0.5905}"
      ]
    },
    {
      "cell_type": "code",
      "execution_count": 151,
      "metadata": {
        "colab": {
          "base_uri": "https://localhost:8080/",
          "height": 206
        },
        "id": "s4TyaCUQ79Ke",
        "outputId": "223265df-d87b-4f3f-ddba-039f31c9d73a"
      },
      "outputs": [
        {
          "data": {
            "text/html": [
              "<div>\n",
              "<style scoped>\n",
              "    .dataframe tbody tr th:only-of-type {\n",
              "        vertical-align: middle;\n",
              "    }\n",
              "\n",
              "    .dataframe tbody tr th {\n",
              "        vertical-align: top;\n",
              "    }\n",
              "\n",
              "    .dataframe thead th {\n",
              "        text-align: right;\n",
              "    }\n",
              "</style>\n",
              "<table border=\"1\" class=\"dataframe\">\n",
              "  <thead>\n",
              "    <tr style=\"text-align: right;\">\n",
              "      <th></th>\n",
              "      <th>Metric</th>\n",
              "      <th>ADA</th>\n",
              "      <th>TE3</th>\n",
              "      <th>Baseline -&gt; TE3</th>\n",
              "    </tr>\n",
              "  </thead>\n",
              "  <tbody>\n",
              "    <tr>\n",
              "      <th>0</th>\n",
              "      <td>faithfulness</td>\n",
              "      <td>0.645175</td>\n",
              "      <td>0.654950</td>\n",
              "      <td>0.009774</td>\n",
              "    </tr>\n",
              "    <tr>\n",
              "      <th>1</th>\n",
              "      <td>answer_relevancy</td>\n",
              "      <td>0.823611</td>\n",
              "      <td>0.818876</td>\n",
              "      <td>-0.004736</td>\n",
              "    </tr>\n",
              "    <tr>\n",
              "      <th>2</th>\n",
              "      <td>context_recall</td>\n",
              "      <td>0.627193</td>\n",
              "      <td>0.622807</td>\n",
              "      <td>-0.004386</td>\n",
              "    </tr>\n",
              "    <tr>\n",
              "      <th>3</th>\n",
              "      <td>context_precision</td>\n",
              "      <td>0.650585</td>\n",
              "      <td>0.628655</td>\n",
              "      <td>-0.021930</td>\n",
              "    </tr>\n",
              "    <tr>\n",
              "      <th>4</th>\n",
              "      <td>answer_correctness</td>\n",
              "      <td>0.603982</td>\n",
              "      <td>0.590502</td>\n",
              "      <td>-0.013479</td>\n",
              "    </tr>\n",
              "  </tbody>\n",
              "</table>\n",
              "</div>"
            ],
            "text/plain": [
              "               Metric       ADA       TE3  Baseline -> TE3\n",
              "0        faithfulness  0.645175  0.654950         0.009774\n",
              "1    answer_relevancy  0.823611  0.818876        -0.004736\n",
              "2      context_recall  0.627193  0.622807        -0.004386\n",
              "3   context_precision  0.650585  0.628655        -0.021930\n",
              "4  answer_correctness  0.603982  0.590502        -0.013479"
            ]
          },
          "execution_count": 151,
          "metadata": {},
          "output_type": "execute_result"
        }
      ],
      "source": [
        "df_baseline = pd.DataFrame(list(results.items()), columns=['Metric', 'ADA'])\n",
        "df_comparison = pd.DataFrame(list(te3_advanced_retrieval_results.items()), columns=['Metric', 'TE3'])\n",
        "\n",
        "df_merged = pd.merge(df_baseline, df_comparison, on='Metric')\n",
        "\n",
        "df_merged['Baseline -> TE3'] = df_merged['TE3'] - df_merged['ADA']\n",
        "\n",
        "df_merged"
      ]
    },
    {
      "cell_type": "markdown",
      "metadata": {
        "id": "rRmkcMrxC4Me"
      },
      "source": [
        "####❓ Question #3:\n",
        "\n",
        "Do you think, in your opinion, `text-embedding-3-small` is significantly better than `ada`?"
      ]
    },
    {
      "cell_type": "markdown",
      "metadata": {},
      "source": [
        "**Answer**\n",
        "\n",
        "Initial results suggested that the answers coming from the app using te3 embedding model are better quality than when using ada embedding model. However after correcting the prompt difference - i.e. using exactly same prompt in both versions of the RAG QA chain the differences becomes very small. In particular compare the runs using the \"Manually Crafted Prompt\" shows no difference between the models.\n",
        "\n",
        "Moreover, independently of any differences in the prompting, the retrival itself receives same scoring (precision and recall) for both embedding models.\n",
        "\n",
        "Finally, let me stress the variability in the scores coming from (1) variance in answer generation (2) varience in evaluation, as both are powered by LLM prompting.\n",
        "\n",
        "To sum up, given the experiment (the selected document) it is hard to show any significant difference between the two embedding models."
      ]
    },
    {
      "cell_type": "markdown",
      "metadata": {
        "id": "7D-mJuXKytXw"
      },
      "source": [
        "## Task 5: Selecting an Advanced Retriever and Evaluating"
      ]
    },
    {
      "cell_type": "markdown",
      "metadata": {
        "id": "2ac__xQxy11O"
      },
      "source": [
        "#### 🏗️ Activity #2\n",
        "\n",
        "While the changes that occured due to modifying the embedding model were desirable - you're now tasked with improving `context_recall`, or `context_precision` (or both!).\n",
        "\n",
        "You'll follow these steps:\n",
        "\n",
        "1. Reason about this list of Advanced Retrieval methods:\n",
        "  - [Contextual Compression (Reranker)](https://python.langchain.com/v0.1/docs/modules/data_connection/retrievers/contextual_compression/)\n",
        "  - [MultiQueryRetriever](https://python.langchain.com/v0.1/docs/modules/data_connection/retrievers/MultiQueryRetriever/)\n",
        "  - [Parent Document Retriever](https://python.langchain.com/v0.1/docs/modules/data_connection/retrievers/parent_document_retriever/)\n",
        "2. Select the method you think will be the most performant.\n",
        "3. Implement that method.\n",
        "4. Create a LCEL chain that utlizes the new Retriever method.\n",
        "5. Evaluate this LCEL and compare to the TE3 results.\n",
        "\n",
        "> NOTE: We will spend more time in Session 14 diving into advanced retrieval methods, this activity is only to serve as a basic introduction to the idea of component-wise improvements and how they might impact metrics."
      ]
    },
    {
      "cell_type": "code",
      "execution_count": 152,
      "metadata": {
        "id": "uWFhG7tAz_tj"
      },
      "outputs": [],
      "source": [
        "from langchain.retrievers.multi_query import MultiQueryRetriever\n",
        "\n",
        "multi_te3_retriever = MultiQueryRetriever.from_llm(\n",
        "    retriever=te3_retriever, llm=primary_qa_llm\n",
        ")\n",
        "\n",
        "multi_te3_retrieval_chain = create_retrieval_chain(multi_te3_retriever, base_document_chain)"
      ]
    },
    {
      "cell_type": "code",
      "execution_count": 155,
      "metadata": {},
      "outputs": [],
      "source": [
        "answers = []\n",
        "contexts = []\n",
        "\n",
        "for question in test_questions:\n",
        "  response = multi_te3_retrieval_chain.invoke({\"input\" : question})\n",
        "  answers.append(response[\"answer\"])\n",
        "  contexts.append([context.page_content for context in response[\"context\"]])"
      ]
    },
    {
      "cell_type": "code",
      "execution_count": 156,
      "metadata": {},
      "outputs": [],
      "source": [
        "multi_te3_response_dataset_advanced_retrieval = Dataset.from_dict({\n",
        "    \"question\" : test_questions,\n",
        "    \"answer\" : answers,\n",
        "    \"contexts\" : contexts,\n",
        "    \"ground_truth\" : test_groundtruths\n",
        "})"
      ]
    },
    {
      "cell_type": "code",
      "execution_count": 157,
      "metadata": {},
      "outputs": [
        {
          "name": "stderr",
          "output_type": "stream",
          "text": [
            "Evaluating: 100%|██████████| 95/95 [00:37<00:00,  2.50it/s]\n"
          ]
        }
      ],
      "source": [
        "multi_te3_advanced_retrieval_results = evaluate(multi_te3_response_dataset_advanced_retrieval, metrics)"
      ]
    },
    {
      "cell_type": "code",
      "execution_count": 158,
      "metadata": {},
      "outputs": [
        {
          "data": {
            "text/plain": [
              "{'faithfulness': 0.6749, 'answer_relevancy': 0.6694, 'context_recall': 0.7193, 'context_precision': 0.6141, 'answer_correctness': 0.5609}"
            ]
          },
          "execution_count": 158,
          "metadata": {},
          "output_type": "execute_result"
        }
      ],
      "source": [
        "multi_te3_advanced_retrieval_results"
      ]
    },
    {
      "cell_type": "markdown",
      "metadata": {},
      "source": [
        "**Answer**\n",
        "\n",
        "Using the manually crafted prompt:\n",
        "- {'faithfulness': 0.6749, 'answer_relevancy': 0.6694, 'context_recall': 0.7193, 'context_precision': 0.6141, 'answer_correctness': 0.5609}"
      ]
    },
    {
      "cell_type": "code",
      "execution_count": 160,
      "metadata": {},
      "outputs": [
        {
          "data": {
            "text/html": [
              "<div>\n",
              "<style scoped>\n",
              "    .dataframe tbody tr th:only-of-type {\n",
              "        vertical-align: middle;\n",
              "    }\n",
              "\n",
              "    .dataframe tbody tr th {\n",
              "        vertical-align: top;\n",
              "    }\n",
              "\n",
              "    .dataframe thead th {\n",
              "        text-align: right;\n",
              "    }\n",
              "</style>\n",
              "<table border=\"1\" class=\"dataframe\">\n",
              "  <thead>\n",
              "    <tr style=\"text-align: right;\">\n",
              "      <th></th>\n",
              "      <th>Metric</th>\n",
              "      <th>ADA</th>\n",
              "      <th>TE3</th>\n",
              "      <th>multi_TE3</th>\n",
              "      <th>Baseline -&gt; TE3</th>\n",
              "      <th>Baseline -&gt; multi_TE3</th>\n",
              "    </tr>\n",
              "  </thead>\n",
              "  <tbody>\n",
              "    <tr>\n",
              "      <th>0</th>\n",
              "      <td>faithfulness</td>\n",
              "      <td>0.645175</td>\n",
              "      <td>0.654950</td>\n",
              "      <td>0.674907</td>\n",
              "      <td>0.009774</td>\n",
              "      <td>0.029732</td>\n",
              "    </tr>\n",
              "    <tr>\n",
              "      <th>1</th>\n",
              "      <td>answer_relevancy</td>\n",
              "      <td>0.823611</td>\n",
              "      <td>0.818876</td>\n",
              "      <td>0.669415</td>\n",
              "      <td>-0.004736</td>\n",
              "      <td>-0.154196</td>\n",
              "    </tr>\n",
              "    <tr>\n",
              "      <th>2</th>\n",
              "      <td>context_recall</td>\n",
              "      <td>0.627193</td>\n",
              "      <td>0.622807</td>\n",
              "      <td>0.719298</td>\n",
              "      <td>-0.004386</td>\n",
              "      <td>0.092105</td>\n",
              "    </tr>\n",
              "    <tr>\n",
              "      <th>3</th>\n",
              "      <td>context_precision</td>\n",
              "      <td>0.650585</td>\n",
              "      <td>0.628655</td>\n",
              "      <td>0.614054</td>\n",
              "      <td>-0.021930</td>\n",
              "      <td>-0.036531</td>\n",
              "    </tr>\n",
              "    <tr>\n",
              "      <th>4</th>\n",
              "      <td>answer_correctness</td>\n",
              "      <td>0.603982</td>\n",
              "      <td>0.590502</td>\n",
              "      <td>0.560867</td>\n",
              "      <td>-0.013479</td>\n",
              "      <td>-0.043115</td>\n",
              "    </tr>\n",
              "  </tbody>\n",
              "</table>\n",
              "</div>"
            ],
            "text/plain": [
              "               Metric       ADA       TE3  multi_TE3  Baseline -> TE3  \\\n",
              "0        faithfulness  0.645175  0.654950   0.674907         0.009774   \n",
              "1    answer_relevancy  0.823611  0.818876   0.669415        -0.004736   \n",
              "2      context_recall  0.627193  0.622807   0.719298        -0.004386   \n",
              "3   context_precision  0.650585  0.628655   0.614054        -0.021930   \n",
              "4  answer_correctness  0.603982  0.590502   0.560867        -0.013479   \n",
              "\n",
              "   Baseline -> multi_TE3  \n",
              "0               0.029732  \n",
              "1              -0.154196  \n",
              "2               0.092105  \n",
              "3              -0.036531  \n",
              "4              -0.043115  "
            ]
          },
          "execution_count": 160,
          "metadata": {},
          "output_type": "execute_result"
        }
      ],
      "source": [
        "# df_baseline = pd.DataFrame(list(results.items()), columns=['Metric', 'ADA'])\n",
        "df_comparison_2 = pd.DataFrame(list(multi_te3_advanced_retrieval_results.items()), columns=['Metric', 'multi_TE3'])\n",
        "\n",
        "df_merged = pd.merge(df_baseline, df_comparison, on='Metric')\n",
        "df_merged = pd.merge(df_merged, df_comparison_2, on='Metric')\n",
        "\n",
        "df_merged['Baseline -> TE3'] = df_merged['TE3'] - df_merged['ADA']\n",
        "df_merged['Baseline -> multi_TE3'] = df_merged['multi_TE3'] - df_merged['ADA']\n",
        "\n",
        "df_merged"
      ]
    },
    {
      "cell_type": "markdown",
      "metadata": {},
      "source": [
        "**Comment**\n",
        "\n",
        "Context recall got a gain of 9 p.p."
      ]
    },
    {
      "cell_type": "markdown",
      "metadata": {
        "id": "y-YMk7zQ174y"
      },
      "source": [
        "#### 🚧 BONUS CHALLENGE 🚧\n",
        "\n",
        "> NOTE: Completing this challenge will provide full marks on the assignment, regardless of the complete of the notebook. You do not need to complete this in the notebook for full marks.\n",
        "\n",
        "##### **MINIMUM REQUIREMENTS**:\n",
        "\n",
        "1. Baseline `LCEL RAG` Application using `NAIVE RETRIEVAL`\n",
        "2. Baseline Evaluation using `RAGAS METRICS`\n",
        "  - [Faithfulness](https://docs.ragas.io/en/stable/concepts/metrics/faithfulness.html)\n",
        "  - [Answer Relevancy](https://docs.ragas.io/en/stable/concepts/metrics/answer_relevance.html)\n",
        "  - [Context Precision](https://docs.ragas.io/en/stable/concepts/metrics/context_precision.html)\n",
        "  - [Context Recall](https://docs.ragas.io/en/stable/concepts/metrics/context_recall.html)\n",
        "  - [Answer Correctness](https://docs.ragas.io/en/stable/concepts/metrics/answer_correctness.html)\n",
        "3. Implement a `SEMANTIC CHUNKING STRATEGY`.\n",
        "4. Create an `LCEL RAG` Application using `SEMANTIC CHUNKING` with `NAIVE RETRIEVAL`.\n",
        "5. Compare and contrast results.\n",
        "\n",
        "##### **SEMANTIC CHUNKING REQUIREMENTS**:\n",
        "\n",
        "Chunk semantically similar (based on designed threshold) sentences, and then paragraphs, greedily, up to a maximum chunk size. Minimum chunk size is a single sentence.\n",
        "\n",
        "Have fun!"
      ]
    }
  ],
  "metadata": {
    "colab": {
      "collapsed_sections": [
        "Clyykfe6xOIo"
      ],
      "provenance": [],
      "toc_visible": true
    },
    "kernelspec": {
      "display_name": "Python 3",
      "name": "python3"
    },
    "language_info": {
      "codemirror_mode": {
        "name": "ipython",
        "version": 3
      },
      "file_extension": ".py",
      "mimetype": "text/x-python",
      "name": "python",
      "nbconvert_exporter": "python",
      "pygments_lexer": "ipython3",
      "version": "3.11.9"
    },
    "widgets": {
      "application/vnd.jupyter.widget-state+json": {
        "00afceb39c074975b6b88d6d0d4d2901": {
          "model_module": "@jupyter-widgets/controls",
          "model_module_version": "1.5.0",
          "model_name": "FloatProgressModel",
          "state": {
            "_dom_classes": [],
            "_model_module": "@jupyter-widgets/controls",
            "_model_module_version": "1.5.0",
            "_model_name": "FloatProgressModel",
            "_view_count": null,
            "_view_module": "@jupyter-widgets/controls",
            "_view_module_version": "1.5.0",
            "_view_name": "ProgressView",
            "bar_style": "success",
            "description": "",
            "description_tooltip": null,
            "layout": "IPY_MODEL_9932859168ad436e9aeef09279b534b1",
            "max": 95,
            "min": 0,
            "orientation": "horizontal",
            "style": "IPY_MODEL_474f44771cb04a4693585273a03a5548",
            "value": 95
          }
        },
        "0267d8c4d9cc48b0a4d60d206de62a91": {
          "model_module": "@jupyter-widgets/base",
          "model_module_version": "1.2.0",
          "model_name": "LayoutModel",
          "state": {
            "_model_module": "@jupyter-widgets/base",
            "_model_module_version": "1.2.0",
            "_model_name": "LayoutModel",
            "_view_count": null,
            "_view_module": "@jupyter-widgets/base",
            "_view_module_version": "1.2.0",
            "_view_name": "LayoutView",
            "align_content": null,
            "align_items": null,
            "align_self": null,
            "border": null,
            "bottom": null,
            "display": null,
            "flex": null,
            "flex_flow": null,
            "grid_area": null,
            "grid_auto_columns": null,
            "grid_auto_flow": null,
            "grid_auto_rows": null,
            "grid_column": null,
            "grid_gap": null,
            "grid_row": null,
            "grid_template_areas": null,
            "grid_template_columns": null,
            "grid_template_rows": null,
            "height": null,
            "justify_content": null,
            "justify_items": null,
            "left": null,
            "margin": null,
            "max_height": null,
            "max_width": null,
            "min_height": null,
            "min_width": null,
            "object_fit": null,
            "object_position": null,
            "order": null,
            "overflow": null,
            "overflow_x": null,
            "overflow_y": null,
            "padding": null,
            "right": null,
            "top": null,
            "visibility": null,
            "width": null
          }
        },
        "09c3173c05f54539ae025937b1525e90": {
          "model_module": "@jupyter-widgets/controls",
          "model_module_version": "1.5.0",
          "model_name": "ProgressStyleModel",
          "state": {
            "_model_module": "@jupyter-widgets/controls",
            "_model_module_version": "1.5.0",
            "_model_name": "ProgressStyleModel",
            "_view_count": null,
            "_view_module": "@jupyter-widgets/base",
            "_view_module_version": "1.2.0",
            "_view_name": "StyleView",
            "bar_color": null,
            "description_width": ""
          }
        },
        "0be98b57b4894cf9a92818ae1dd72976": {
          "model_module": "@jupyter-widgets/controls",
          "model_module_version": "1.5.0",
          "model_name": "FloatProgressModel",
          "state": {
            "_dom_classes": [],
            "_model_module": "@jupyter-widgets/controls",
            "_model_module_version": "1.5.0",
            "_model_name": "FloatProgressModel",
            "_view_count": null,
            "_view_module": "@jupyter-widgets/controls",
            "_view_module_version": "1.5.0",
            "_view_name": "ProgressView",
            "bar_style": "success",
            "description": "",
            "description_tooltip": null,
            "layout": "IPY_MODEL_bda4d1ec0f0043c8b4d254a4ada3e9bf",
            "max": 20,
            "min": 0,
            "orientation": "horizontal",
            "style": "IPY_MODEL_1b24ed8b36764c39aef39c92430fdc1d",
            "value": 20
          }
        },
        "126c30cc07c4452ab73fefce09dab617": {
          "model_module": "@jupyter-widgets/controls",
          "model_module_version": "1.5.0",
          "model_name": "DescriptionStyleModel",
          "state": {
            "_model_module": "@jupyter-widgets/controls",
            "_model_module_version": "1.5.0",
            "_model_name": "DescriptionStyleModel",
            "_view_count": null,
            "_view_module": "@jupyter-widgets/base",
            "_view_module_version": "1.2.0",
            "_view_name": "StyleView",
            "description_width": ""
          }
        },
        "1535c2c75a104f3abb262c5fb7859c14": {
          "model_module": "@jupyter-widgets/base",
          "model_module_version": "1.2.0",
          "model_name": "LayoutModel",
          "state": {
            "_model_module": "@jupyter-widgets/base",
            "_model_module_version": "1.2.0",
            "_model_name": "LayoutModel",
            "_view_count": null,
            "_view_module": "@jupyter-widgets/base",
            "_view_module_version": "1.2.0",
            "_view_name": "LayoutView",
            "align_content": null,
            "align_items": null,
            "align_self": null,
            "border": null,
            "bottom": null,
            "display": null,
            "flex": null,
            "flex_flow": null,
            "grid_area": null,
            "grid_auto_columns": null,
            "grid_auto_flow": null,
            "grid_auto_rows": null,
            "grid_column": null,
            "grid_gap": null,
            "grid_row": null,
            "grid_template_areas": null,
            "grid_template_columns": null,
            "grid_template_rows": null,
            "height": null,
            "justify_content": null,
            "justify_items": null,
            "left": null,
            "margin": null,
            "max_height": null,
            "max_width": null,
            "min_height": null,
            "min_width": null,
            "object_fit": null,
            "object_position": null,
            "order": null,
            "overflow": null,
            "overflow_x": null,
            "overflow_y": null,
            "padding": null,
            "right": null,
            "top": null,
            "visibility": null,
            "width": null
          }
        },
        "1b24ed8b36764c39aef39c92430fdc1d": {
          "model_module": "@jupyter-widgets/controls",
          "model_module_version": "1.5.0",
          "model_name": "ProgressStyleModel",
          "state": {
            "_model_module": "@jupyter-widgets/controls",
            "_model_module_version": "1.5.0",
            "_model_name": "ProgressStyleModel",
            "_view_count": null,
            "_view_module": "@jupyter-widgets/base",
            "_view_module_version": "1.2.0",
            "_view_name": "StyleView",
            "bar_color": null,
            "description_width": ""
          }
        },
        "1c0f9aeab5de4e32af8bfef423a64f3b": {
          "model_module": "@jupyter-widgets/controls",
          "model_module_version": "1.5.0",
          "model_name": "HTMLModel",
          "state": {
            "_dom_classes": [],
            "_model_module": "@jupyter-widgets/controls",
            "_model_module_version": "1.5.0",
            "_model_name": "HTMLModel",
            "_view_count": null,
            "_view_module": "@jupyter-widgets/controls",
            "_view_module_version": "1.5.0",
            "_view_name": "HTMLView",
            "description": "",
            "description_tooltip": null,
            "layout": "IPY_MODEL_0267d8c4d9cc48b0a4d60d206de62a91",
            "placeholder": "​",
            "style": "IPY_MODEL_126c30cc07c4452ab73fefce09dab617",
            "value": "Generating: 100%"
          }
        },
        "1e2026abc1314d3caf37d74af7a407e7": {
          "model_module": "@jupyter-widgets/controls",
          "model_module_version": "1.5.0",
          "model_name": "FloatProgressModel",
          "state": {
            "_dom_classes": [],
            "_model_module": "@jupyter-widgets/controls",
            "_model_module_version": "1.5.0",
            "_model_name": "FloatProgressModel",
            "_view_count": null,
            "_view_module": "@jupyter-widgets/controls",
            "_view_module_version": "1.5.0",
            "_view_name": "ProgressView",
            "bar_style": "success",
            "description": "",
            "description_tooltip": null,
            "layout": "IPY_MODEL_e32bc4bb09af4ac5a608e56f87317596",
            "max": 95,
            "min": 0,
            "orientation": "horizontal",
            "style": "IPY_MODEL_b53095cea92740dfb967120a77310283",
            "value": 95
          }
        },
        "22c5f6324de545ba814402c3f71d84f1": {
          "model_module": "@jupyter-widgets/base",
          "model_module_version": "1.2.0",
          "model_name": "LayoutModel",
          "state": {
            "_model_module": "@jupyter-widgets/base",
            "_model_module_version": "1.2.0",
            "_model_name": "LayoutModel",
            "_view_count": null,
            "_view_module": "@jupyter-widgets/base",
            "_view_module_version": "1.2.0",
            "_view_name": "LayoutView",
            "align_content": null,
            "align_items": null,
            "align_self": null,
            "border": null,
            "bottom": null,
            "display": null,
            "flex": null,
            "flex_flow": null,
            "grid_area": null,
            "grid_auto_columns": null,
            "grid_auto_flow": null,
            "grid_auto_rows": null,
            "grid_column": null,
            "grid_gap": null,
            "grid_row": null,
            "grid_template_areas": null,
            "grid_template_columns": null,
            "grid_template_rows": null,
            "height": null,
            "justify_content": null,
            "justify_items": null,
            "left": null,
            "margin": null,
            "max_height": null,
            "max_width": null,
            "min_height": null,
            "min_width": null,
            "object_fit": null,
            "object_position": null,
            "order": null,
            "overflow": null,
            "overflow_x": null,
            "overflow_y": null,
            "padding": null,
            "right": null,
            "top": null,
            "visibility": null,
            "width": null
          }
        },
        "353b6b9a974048499d854774fe4c882c": {
          "model_module": "@jupyter-widgets/base",
          "model_module_version": "1.2.0",
          "model_name": "LayoutModel",
          "state": {
            "_model_module": "@jupyter-widgets/base",
            "_model_module_version": "1.2.0",
            "_model_name": "LayoutModel",
            "_view_count": null,
            "_view_module": "@jupyter-widgets/base",
            "_view_module_version": "1.2.0",
            "_view_name": "LayoutView",
            "align_content": null,
            "align_items": null,
            "align_self": null,
            "border": null,
            "bottom": null,
            "display": null,
            "flex": null,
            "flex_flow": null,
            "grid_area": null,
            "grid_auto_columns": null,
            "grid_auto_flow": null,
            "grid_auto_rows": null,
            "grid_column": null,
            "grid_gap": null,
            "grid_row": null,
            "grid_template_areas": null,
            "grid_template_columns": null,
            "grid_template_rows": null,
            "height": null,
            "justify_content": null,
            "justify_items": null,
            "left": null,
            "margin": null,
            "max_height": null,
            "max_width": null,
            "min_height": null,
            "min_width": null,
            "object_fit": null,
            "object_position": null,
            "order": null,
            "overflow": null,
            "overflow_x": null,
            "overflow_y": null,
            "padding": null,
            "right": null,
            "top": null,
            "visibility": null,
            "width": null
          }
        },
        "3b2e50139c234d19ac3e32515e575883": {
          "model_module": "@jupyter-widgets/controls",
          "model_module_version": "1.5.0",
          "model_name": "DescriptionStyleModel",
          "state": {
            "_model_module": "@jupyter-widgets/controls",
            "_model_module_version": "1.5.0",
            "_model_name": "DescriptionStyleModel",
            "_view_count": null,
            "_view_module": "@jupyter-widgets/base",
            "_view_module_version": "1.2.0",
            "_view_name": "StyleView",
            "description_width": ""
          }
        },
        "474f44771cb04a4693585273a03a5548": {
          "model_module": "@jupyter-widgets/controls",
          "model_module_version": "1.5.0",
          "model_name": "ProgressStyleModel",
          "state": {
            "_model_module": "@jupyter-widgets/controls",
            "_model_module_version": "1.5.0",
            "_model_name": "ProgressStyleModel",
            "_view_count": null,
            "_view_module": "@jupyter-widgets/base",
            "_view_module_version": "1.2.0",
            "_view_name": "StyleView",
            "bar_color": null,
            "description_width": ""
          }
        },
        "4d9ba78dc78040f494df9122ddc7ba1d": {
          "model_module": "@jupyter-widgets/controls",
          "model_module_version": "1.5.0",
          "model_name": "HBoxModel",
          "state": {
            "_dom_classes": [],
            "_model_module": "@jupyter-widgets/controls",
            "_model_module_version": "1.5.0",
            "_model_name": "HBoxModel",
            "_view_count": null,
            "_view_module": "@jupyter-widgets/controls",
            "_view_module_version": "1.5.0",
            "_view_name": "HBoxView",
            "box_style": "",
            "children": [
              "IPY_MODEL_e4e76e5d4fba404a9ed4ff059f3a0c04",
              "IPY_MODEL_1e2026abc1314d3caf37d74af7a407e7",
              "IPY_MODEL_fb306876e3244dc69312e2af46c4da02"
            ],
            "layout": "IPY_MODEL_b319ae78e30d437c81f07d5a062ba805"
          }
        },
        "63d6044414e24c5ea55efa925f7a3b56": {
          "model_module": "@jupyter-widgets/controls",
          "model_module_version": "1.5.0",
          "model_name": "DescriptionStyleModel",
          "state": {
            "_model_module": "@jupyter-widgets/controls",
            "_model_module_version": "1.5.0",
            "_model_name": "DescriptionStyleModel",
            "_view_count": null,
            "_view_module": "@jupyter-widgets/base",
            "_view_module_version": "1.2.0",
            "_view_name": "StyleView",
            "description_width": ""
          }
        },
        "754827da55fa4240bce3710048d1645b": {
          "model_module": "@jupyter-widgets/controls",
          "model_module_version": "1.5.0",
          "model_name": "HTMLModel",
          "state": {
            "_dom_classes": [],
            "_model_module": "@jupyter-widgets/controls",
            "_model_module_version": "1.5.0",
            "_model_name": "HTMLModel",
            "_view_count": null,
            "_view_module": "@jupyter-widgets/controls",
            "_view_module_version": "1.5.0",
            "_view_name": "HTMLView",
            "description": "",
            "description_tooltip": null,
            "layout": "IPY_MODEL_bd96dd318c1b4e1481c039321e052081",
            "placeholder": "​",
            "style": "IPY_MODEL_3b2e50139c234d19ac3e32515e575883",
            "value": "embedding nodes: 100%"
          }
        },
        "764b7b6827c9437b90c9c948b9f1037b": {
          "model_module": "@jupyter-widgets/controls",
          "model_module_version": "1.5.0",
          "model_name": "DescriptionStyleModel",
          "state": {
            "_model_module": "@jupyter-widgets/controls",
            "_model_module_version": "1.5.0",
            "_model_name": "DescriptionStyleModel",
            "_view_count": null,
            "_view_module": "@jupyter-widgets/base",
            "_view_module_version": "1.2.0",
            "_view_name": "StyleView",
            "description_width": ""
          }
        },
        "771597df670f417794f66408b05a7eb9": {
          "model_module": "@jupyter-widgets/base",
          "model_module_version": "1.2.0",
          "model_name": "LayoutModel",
          "state": {
            "_model_module": "@jupyter-widgets/base",
            "_model_module_version": "1.2.0",
            "_model_name": "LayoutModel",
            "_view_count": null,
            "_view_module": "@jupyter-widgets/base",
            "_view_module_version": "1.2.0",
            "_view_name": "LayoutView",
            "align_content": null,
            "align_items": null,
            "align_self": null,
            "border": null,
            "bottom": null,
            "display": null,
            "flex": null,
            "flex_flow": null,
            "grid_area": null,
            "grid_auto_columns": null,
            "grid_auto_flow": null,
            "grid_auto_rows": null,
            "grid_column": null,
            "grid_gap": null,
            "grid_row": null,
            "grid_template_areas": null,
            "grid_template_columns": null,
            "grid_template_rows": null,
            "height": null,
            "justify_content": null,
            "justify_items": null,
            "left": null,
            "margin": null,
            "max_height": null,
            "max_width": null,
            "min_height": null,
            "min_width": null,
            "object_fit": null,
            "object_position": null,
            "order": null,
            "overflow": null,
            "overflow_x": null,
            "overflow_y": null,
            "padding": null,
            "right": null,
            "top": null,
            "visibility": null,
            "width": null
          }
        },
        "7ab80823e1344b638ddd1646367a6ce6": {
          "model_module": "@jupyter-widgets/controls",
          "model_module_version": "1.5.0",
          "model_name": "DescriptionStyleModel",
          "state": {
            "_model_module": "@jupyter-widgets/controls",
            "_model_module_version": "1.5.0",
            "_model_name": "DescriptionStyleModel",
            "_view_count": null,
            "_view_module": "@jupyter-widgets/base",
            "_view_module_version": "1.2.0",
            "_view_name": "StyleView",
            "description_width": ""
          }
        },
        "7b61421d62964b00ba440ecba21f4b52": {
          "model_module": "@jupyter-widgets/controls",
          "model_module_version": "1.5.0",
          "model_name": "FloatProgressModel",
          "state": {
            "_dom_classes": [],
            "_model_module": "@jupyter-widgets/controls",
            "_model_module_version": "1.5.0",
            "_model_name": "FloatProgressModel",
            "_view_count": null,
            "_view_module": "@jupyter-widgets/controls",
            "_view_module_version": "1.5.0",
            "_view_name": "ProgressView",
            "bar_style": "",
            "description": "",
            "description_tooltip": null,
            "layout": "IPY_MODEL_353b6b9a974048499d854774fe4c882c",
            "max": 1248,
            "min": 0,
            "orientation": "horizontal",
            "style": "IPY_MODEL_09c3173c05f54539ae025937b1525e90",
            "value": 1248
          }
        },
        "8025a0f161d3475794daa9cd88209d5c": {
          "model_module": "@jupyter-widgets/controls",
          "model_module_version": "1.5.0",
          "model_name": "DescriptionStyleModel",
          "state": {
            "_model_module": "@jupyter-widgets/controls",
            "_model_module_version": "1.5.0",
            "_model_name": "DescriptionStyleModel",
            "_view_count": null,
            "_view_module": "@jupyter-widgets/base",
            "_view_module_version": "1.2.0",
            "_view_name": "StyleView",
            "description_width": ""
          }
        },
        "824fe37b12d4414a9376e266ddd086f5": {
          "model_module": "@jupyter-widgets/controls",
          "model_module_version": "1.5.0",
          "model_name": "HTMLModel",
          "state": {
            "_dom_classes": [],
            "_model_module": "@jupyter-widgets/controls",
            "_model_module_version": "1.5.0",
            "_model_name": "HTMLModel",
            "_view_count": null,
            "_view_module": "@jupyter-widgets/controls",
            "_view_module_version": "1.5.0",
            "_view_name": "HTMLView",
            "description": "",
            "description_tooltip": null,
            "layout": "IPY_MODEL_9496fc3f26cb42ec9ace36175eb14906",
            "placeholder": "​",
            "style": "IPY_MODEL_8025a0f161d3475794daa9cd88209d5c",
            "value": "Evaluating: 100%"
          }
        },
        "90af75e58cef440a8d38ee6621e0f4d1": {
          "model_module": "@jupyter-widgets/base",
          "model_module_version": "1.2.0",
          "model_name": "LayoutModel",
          "state": {
            "_model_module": "@jupyter-widgets/base",
            "_model_module_version": "1.2.0",
            "_model_name": "LayoutModel",
            "_view_count": null,
            "_view_module": "@jupyter-widgets/base",
            "_view_module_version": "1.2.0",
            "_view_name": "LayoutView",
            "align_content": null,
            "align_items": null,
            "align_self": null,
            "border": null,
            "bottom": null,
            "display": null,
            "flex": null,
            "flex_flow": null,
            "grid_area": null,
            "grid_auto_columns": null,
            "grid_auto_flow": null,
            "grid_auto_rows": null,
            "grid_column": null,
            "grid_gap": null,
            "grid_row": null,
            "grid_template_areas": null,
            "grid_template_columns": null,
            "grid_template_rows": null,
            "height": null,
            "justify_content": null,
            "justify_items": null,
            "left": null,
            "margin": null,
            "max_height": null,
            "max_width": null,
            "min_height": null,
            "min_width": null,
            "object_fit": null,
            "object_position": null,
            "order": null,
            "overflow": null,
            "overflow_x": null,
            "overflow_y": null,
            "padding": null,
            "right": null,
            "top": null,
            "visibility": null,
            "width": null
          }
        },
        "92f2e2d3123c4cd88d7c5755342ae154": {
          "model_module": "@jupyter-widgets/controls",
          "model_module_version": "1.5.0",
          "model_name": "DescriptionStyleModel",
          "state": {
            "_model_module": "@jupyter-widgets/controls",
            "_model_module_version": "1.5.0",
            "_model_name": "DescriptionStyleModel",
            "_view_count": null,
            "_view_module": "@jupyter-widgets/base",
            "_view_module_version": "1.2.0",
            "_view_name": "StyleView",
            "description_width": ""
          }
        },
        "9496fc3f26cb42ec9ace36175eb14906": {
          "model_module": "@jupyter-widgets/base",
          "model_module_version": "1.2.0",
          "model_name": "LayoutModel",
          "state": {
            "_model_module": "@jupyter-widgets/base",
            "_model_module_version": "1.2.0",
            "_model_name": "LayoutModel",
            "_view_count": null,
            "_view_module": "@jupyter-widgets/base",
            "_view_module_version": "1.2.0",
            "_view_name": "LayoutView",
            "align_content": null,
            "align_items": null,
            "align_self": null,
            "border": null,
            "bottom": null,
            "display": null,
            "flex": null,
            "flex_flow": null,
            "grid_area": null,
            "grid_auto_columns": null,
            "grid_auto_flow": null,
            "grid_auto_rows": null,
            "grid_column": null,
            "grid_gap": null,
            "grid_row": null,
            "grid_template_areas": null,
            "grid_template_columns": null,
            "grid_template_rows": null,
            "height": null,
            "justify_content": null,
            "justify_items": null,
            "left": null,
            "margin": null,
            "max_height": null,
            "max_width": null,
            "min_height": null,
            "min_width": null,
            "object_fit": null,
            "object_position": null,
            "order": null,
            "overflow": null,
            "overflow_x": null,
            "overflow_y": null,
            "padding": null,
            "right": null,
            "top": null,
            "visibility": null,
            "width": null
          }
        },
        "9932859168ad436e9aeef09279b534b1": {
          "model_module": "@jupyter-widgets/base",
          "model_module_version": "1.2.0",
          "model_name": "LayoutModel",
          "state": {
            "_model_module": "@jupyter-widgets/base",
            "_model_module_version": "1.2.0",
            "_model_name": "LayoutModel",
            "_view_count": null,
            "_view_module": "@jupyter-widgets/base",
            "_view_module_version": "1.2.0",
            "_view_name": "LayoutView",
            "align_content": null,
            "align_items": null,
            "align_self": null,
            "border": null,
            "bottom": null,
            "display": null,
            "flex": null,
            "flex_flow": null,
            "grid_area": null,
            "grid_auto_columns": null,
            "grid_auto_flow": null,
            "grid_auto_rows": null,
            "grid_column": null,
            "grid_gap": null,
            "grid_row": null,
            "grid_template_areas": null,
            "grid_template_columns": null,
            "grid_template_rows": null,
            "height": null,
            "justify_content": null,
            "justify_items": null,
            "left": null,
            "margin": null,
            "max_height": null,
            "max_width": null,
            "min_height": null,
            "min_width": null,
            "object_fit": null,
            "object_position": null,
            "order": null,
            "overflow": null,
            "overflow_x": null,
            "overflow_y": null,
            "padding": null,
            "right": null,
            "top": null,
            "visibility": null,
            "width": null
          }
        },
        "9a40d4ba626f4563b062a5765325d8e4": {
          "model_module": "@jupyter-widgets/controls",
          "model_module_version": "1.5.0",
          "model_name": "HBoxModel",
          "state": {
            "_dom_classes": [],
            "_model_module": "@jupyter-widgets/controls",
            "_model_module_version": "1.5.0",
            "_model_name": "HBoxModel",
            "_view_count": null,
            "_view_module": "@jupyter-widgets/controls",
            "_view_module_version": "1.5.0",
            "_view_name": "HBoxView",
            "box_style": "",
            "children": [
              "IPY_MODEL_1c0f9aeab5de4e32af8bfef423a64f3b",
              "IPY_MODEL_0be98b57b4894cf9a92818ae1dd72976",
              "IPY_MODEL_c7550f460273484a913d211381630626"
            ],
            "layout": "IPY_MODEL_ba8f638b7f6343d9b07cce6e54e9be1c"
          }
        },
        "9ccac42dd9f04713b0ed9fe09c35b5b0": {
          "model_module": "@jupyter-widgets/base",
          "model_module_version": "1.2.0",
          "model_name": "LayoutModel",
          "state": {
            "_model_module": "@jupyter-widgets/base",
            "_model_module_version": "1.2.0",
            "_model_name": "LayoutModel",
            "_view_count": null,
            "_view_module": "@jupyter-widgets/base",
            "_view_module_version": "1.2.0",
            "_view_name": "LayoutView",
            "align_content": null,
            "align_items": null,
            "align_self": null,
            "border": null,
            "bottom": null,
            "display": null,
            "flex": null,
            "flex_flow": null,
            "grid_area": null,
            "grid_auto_columns": null,
            "grid_auto_flow": null,
            "grid_auto_rows": null,
            "grid_column": null,
            "grid_gap": null,
            "grid_row": null,
            "grid_template_areas": null,
            "grid_template_columns": null,
            "grid_template_rows": null,
            "height": null,
            "justify_content": null,
            "justify_items": null,
            "left": null,
            "margin": null,
            "max_height": null,
            "max_width": null,
            "min_height": null,
            "min_width": null,
            "object_fit": null,
            "object_position": null,
            "order": null,
            "overflow": null,
            "overflow_x": null,
            "overflow_y": null,
            "padding": null,
            "right": null,
            "top": null,
            "visibility": "hidden",
            "width": null
          }
        },
        "b319ae78e30d437c81f07d5a062ba805": {
          "model_module": "@jupyter-widgets/base",
          "model_module_version": "1.2.0",
          "model_name": "LayoutModel",
          "state": {
            "_model_module": "@jupyter-widgets/base",
            "_model_module_version": "1.2.0",
            "_model_name": "LayoutModel",
            "_view_count": null,
            "_view_module": "@jupyter-widgets/base",
            "_view_module_version": "1.2.0",
            "_view_name": "LayoutView",
            "align_content": null,
            "align_items": null,
            "align_self": null,
            "border": null,
            "bottom": null,
            "display": null,
            "flex": null,
            "flex_flow": null,
            "grid_area": null,
            "grid_auto_columns": null,
            "grid_auto_flow": null,
            "grid_auto_rows": null,
            "grid_column": null,
            "grid_gap": null,
            "grid_row": null,
            "grid_template_areas": null,
            "grid_template_columns": null,
            "grid_template_rows": null,
            "height": null,
            "justify_content": null,
            "justify_items": null,
            "left": null,
            "margin": null,
            "max_height": null,
            "max_width": null,
            "min_height": null,
            "min_width": null,
            "object_fit": null,
            "object_position": null,
            "order": null,
            "overflow": null,
            "overflow_x": null,
            "overflow_y": null,
            "padding": null,
            "right": null,
            "top": null,
            "visibility": null,
            "width": null
          }
        },
        "b53095cea92740dfb967120a77310283": {
          "model_module": "@jupyter-widgets/controls",
          "model_module_version": "1.5.0",
          "model_name": "ProgressStyleModel",
          "state": {
            "_model_module": "@jupyter-widgets/controls",
            "_model_module_version": "1.5.0",
            "_model_name": "ProgressStyleModel",
            "_view_count": null,
            "_view_module": "@jupyter-widgets/base",
            "_view_module_version": "1.2.0",
            "_view_name": "StyleView",
            "bar_color": null,
            "description_width": ""
          }
        },
        "ba8f638b7f6343d9b07cce6e54e9be1c": {
          "model_module": "@jupyter-widgets/base",
          "model_module_version": "1.2.0",
          "model_name": "LayoutModel",
          "state": {
            "_model_module": "@jupyter-widgets/base",
            "_model_module_version": "1.2.0",
            "_model_name": "LayoutModel",
            "_view_count": null,
            "_view_module": "@jupyter-widgets/base",
            "_view_module_version": "1.2.0",
            "_view_name": "LayoutView",
            "align_content": null,
            "align_items": null,
            "align_self": null,
            "border": null,
            "bottom": null,
            "display": null,
            "flex": null,
            "flex_flow": null,
            "grid_area": null,
            "grid_auto_columns": null,
            "grid_auto_flow": null,
            "grid_auto_rows": null,
            "grid_column": null,
            "grid_gap": null,
            "grid_row": null,
            "grid_template_areas": null,
            "grid_template_columns": null,
            "grid_template_rows": null,
            "height": null,
            "justify_content": null,
            "justify_items": null,
            "left": null,
            "margin": null,
            "max_height": null,
            "max_width": null,
            "min_height": null,
            "min_width": null,
            "object_fit": null,
            "object_position": null,
            "order": null,
            "overflow": null,
            "overflow_x": null,
            "overflow_y": null,
            "padding": null,
            "right": null,
            "top": null,
            "visibility": null,
            "width": null
          }
        },
        "bd96dd318c1b4e1481c039321e052081": {
          "model_module": "@jupyter-widgets/base",
          "model_module_version": "1.2.0",
          "model_name": "LayoutModel",
          "state": {
            "_model_module": "@jupyter-widgets/base",
            "_model_module_version": "1.2.0",
            "_model_name": "LayoutModel",
            "_view_count": null,
            "_view_module": "@jupyter-widgets/base",
            "_view_module_version": "1.2.0",
            "_view_name": "LayoutView",
            "align_content": null,
            "align_items": null,
            "align_self": null,
            "border": null,
            "bottom": null,
            "display": null,
            "flex": null,
            "flex_flow": null,
            "grid_area": null,
            "grid_auto_columns": null,
            "grid_auto_flow": null,
            "grid_auto_rows": null,
            "grid_column": null,
            "grid_gap": null,
            "grid_row": null,
            "grid_template_areas": null,
            "grid_template_columns": null,
            "grid_template_rows": null,
            "height": null,
            "justify_content": null,
            "justify_items": null,
            "left": null,
            "margin": null,
            "max_height": null,
            "max_width": null,
            "min_height": null,
            "min_width": null,
            "object_fit": null,
            "object_position": null,
            "order": null,
            "overflow": null,
            "overflow_x": null,
            "overflow_y": null,
            "padding": null,
            "right": null,
            "top": null,
            "visibility": null,
            "width": null
          }
        },
        "bda4d1ec0f0043c8b4d254a4ada3e9bf": {
          "model_module": "@jupyter-widgets/base",
          "model_module_version": "1.2.0",
          "model_name": "LayoutModel",
          "state": {
            "_model_module": "@jupyter-widgets/base",
            "_model_module_version": "1.2.0",
            "_model_name": "LayoutModel",
            "_view_count": null,
            "_view_module": "@jupyter-widgets/base",
            "_view_module_version": "1.2.0",
            "_view_name": "LayoutView",
            "align_content": null,
            "align_items": null,
            "align_self": null,
            "border": null,
            "bottom": null,
            "display": null,
            "flex": null,
            "flex_flow": null,
            "grid_area": null,
            "grid_auto_columns": null,
            "grid_auto_flow": null,
            "grid_auto_rows": null,
            "grid_column": null,
            "grid_gap": null,
            "grid_row": null,
            "grid_template_areas": null,
            "grid_template_columns": null,
            "grid_template_rows": null,
            "height": null,
            "justify_content": null,
            "justify_items": null,
            "left": null,
            "margin": null,
            "max_height": null,
            "max_width": null,
            "min_height": null,
            "min_width": null,
            "object_fit": null,
            "object_position": null,
            "order": null,
            "overflow": null,
            "overflow_x": null,
            "overflow_y": null,
            "padding": null,
            "right": null,
            "top": null,
            "visibility": null,
            "width": null
          }
        },
        "c3d31c6cf07143aea1bbe76aa13fbca8": {
          "model_module": "@jupyter-widgets/controls",
          "model_module_version": "1.5.0",
          "model_name": "HBoxModel",
          "state": {
            "_dom_classes": [],
            "_model_module": "@jupyter-widgets/controls",
            "_model_module_version": "1.5.0",
            "_model_name": "HBoxModel",
            "_view_count": null,
            "_view_module": "@jupyter-widgets/controls",
            "_view_module_version": "1.5.0",
            "_view_name": "HBoxView",
            "box_style": "",
            "children": [
              "IPY_MODEL_754827da55fa4240bce3710048d1645b",
              "IPY_MODEL_7b61421d62964b00ba440ecba21f4b52",
              "IPY_MODEL_c67b66e1f2d34ce4b10789fc2fca5843"
            ],
            "layout": "IPY_MODEL_9ccac42dd9f04713b0ed9fe09c35b5b0"
          }
        },
        "c67b66e1f2d34ce4b10789fc2fca5843": {
          "model_module": "@jupyter-widgets/controls",
          "model_module_version": "1.5.0",
          "model_name": "HTMLModel",
          "state": {
            "_dom_classes": [],
            "_model_module": "@jupyter-widgets/controls",
            "_model_module_version": "1.5.0",
            "_model_name": "HTMLModel",
            "_view_count": null,
            "_view_module": "@jupyter-widgets/controls",
            "_view_module_version": "1.5.0",
            "_view_name": "HTMLView",
            "description": "",
            "description_tooltip": null,
            "layout": "IPY_MODEL_faa998b429774e4eb6aaaa5477bb6977",
            "placeholder": "​",
            "style": "IPY_MODEL_7ab80823e1344b638ddd1646367a6ce6",
            "value": " 1248/1248 [07:00&lt;00:00, 49.86s/it]"
          }
        },
        "c7550f460273484a913d211381630626": {
          "model_module": "@jupyter-widgets/controls",
          "model_module_version": "1.5.0",
          "model_name": "HTMLModel",
          "state": {
            "_dom_classes": [],
            "_model_module": "@jupyter-widgets/controls",
            "_model_module_version": "1.5.0",
            "_model_name": "HTMLModel",
            "_view_count": null,
            "_view_module": "@jupyter-widgets/controls",
            "_view_module_version": "1.5.0",
            "_view_name": "HTMLView",
            "description": "",
            "description_tooltip": null,
            "layout": "IPY_MODEL_1535c2c75a104f3abb262c5fb7859c14",
            "placeholder": "​",
            "style": "IPY_MODEL_92f2e2d3123c4cd88d7c5755342ae154",
            "value": " 20/20 [01:17&lt;00:00, 12.75s/it]"
          }
        },
        "ce0b10aca9064bc092cf3305eb0dab04": {
          "model_module": "@jupyter-widgets/controls",
          "model_module_version": "1.5.0",
          "model_name": "DescriptionStyleModel",
          "state": {
            "_model_module": "@jupyter-widgets/controls",
            "_model_module_version": "1.5.0",
            "_model_name": "DescriptionStyleModel",
            "_view_count": null,
            "_view_module": "@jupyter-widgets/base",
            "_view_module_version": "1.2.0",
            "_view_name": "StyleView",
            "description_width": ""
          }
        },
        "ced3689d335c4f1ca62d39b908d6cb33": {
          "model_module": "@jupyter-widgets/controls",
          "model_module_version": "1.5.0",
          "model_name": "HBoxModel",
          "state": {
            "_dom_classes": [],
            "_model_module": "@jupyter-widgets/controls",
            "_model_module_version": "1.5.0",
            "_model_name": "HBoxModel",
            "_view_count": null,
            "_view_module": "@jupyter-widgets/controls",
            "_view_module_version": "1.5.0",
            "_view_name": "HBoxView",
            "box_style": "",
            "children": [
              "IPY_MODEL_824fe37b12d4414a9376e266ddd086f5",
              "IPY_MODEL_00afceb39c074975b6b88d6d0d4d2901",
              "IPY_MODEL_e8c20cb22ecb40dbaf61959fc7d087cb"
            ],
            "layout": "IPY_MODEL_771597df670f417794f66408b05a7eb9"
          }
        },
        "d020211480b149cab1761b14ae631eb1": {
          "model_module": "@jupyter-widgets/base",
          "model_module_version": "1.2.0",
          "model_name": "LayoutModel",
          "state": {
            "_model_module": "@jupyter-widgets/base",
            "_model_module_version": "1.2.0",
            "_model_name": "LayoutModel",
            "_view_count": null,
            "_view_module": "@jupyter-widgets/base",
            "_view_module_version": "1.2.0",
            "_view_name": "LayoutView",
            "align_content": null,
            "align_items": null,
            "align_self": null,
            "border": null,
            "bottom": null,
            "display": null,
            "flex": null,
            "flex_flow": null,
            "grid_area": null,
            "grid_auto_columns": null,
            "grid_auto_flow": null,
            "grid_auto_rows": null,
            "grid_column": null,
            "grid_gap": null,
            "grid_row": null,
            "grid_template_areas": null,
            "grid_template_columns": null,
            "grid_template_rows": null,
            "height": null,
            "justify_content": null,
            "justify_items": null,
            "left": null,
            "margin": null,
            "max_height": null,
            "max_width": null,
            "min_height": null,
            "min_width": null,
            "object_fit": null,
            "object_position": null,
            "order": null,
            "overflow": null,
            "overflow_x": null,
            "overflow_y": null,
            "padding": null,
            "right": null,
            "top": null,
            "visibility": null,
            "width": null
          }
        },
        "e32bc4bb09af4ac5a608e56f87317596": {
          "model_module": "@jupyter-widgets/base",
          "model_module_version": "1.2.0",
          "model_name": "LayoutModel",
          "state": {
            "_model_module": "@jupyter-widgets/base",
            "_model_module_version": "1.2.0",
            "_model_name": "LayoutModel",
            "_view_count": null,
            "_view_module": "@jupyter-widgets/base",
            "_view_module_version": "1.2.0",
            "_view_name": "LayoutView",
            "align_content": null,
            "align_items": null,
            "align_self": null,
            "border": null,
            "bottom": null,
            "display": null,
            "flex": null,
            "flex_flow": null,
            "grid_area": null,
            "grid_auto_columns": null,
            "grid_auto_flow": null,
            "grid_auto_rows": null,
            "grid_column": null,
            "grid_gap": null,
            "grid_row": null,
            "grid_template_areas": null,
            "grid_template_columns": null,
            "grid_template_rows": null,
            "height": null,
            "justify_content": null,
            "justify_items": null,
            "left": null,
            "margin": null,
            "max_height": null,
            "max_width": null,
            "min_height": null,
            "min_width": null,
            "object_fit": null,
            "object_position": null,
            "order": null,
            "overflow": null,
            "overflow_x": null,
            "overflow_y": null,
            "padding": null,
            "right": null,
            "top": null,
            "visibility": null,
            "width": null
          }
        },
        "e4e76e5d4fba404a9ed4ff059f3a0c04": {
          "model_module": "@jupyter-widgets/controls",
          "model_module_version": "1.5.0",
          "model_name": "HTMLModel",
          "state": {
            "_dom_classes": [],
            "_model_module": "@jupyter-widgets/controls",
            "_model_module_version": "1.5.0",
            "_model_name": "HTMLModel",
            "_view_count": null,
            "_view_module": "@jupyter-widgets/controls",
            "_view_module_version": "1.5.0",
            "_view_name": "HTMLView",
            "description": "",
            "description_tooltip": null,
            "layout": "IPY_MODEL_22c5f6324de545ba814402c3f71d84f1",
            "placeholder": "​",
            "style": "IPY_MODEL_764b7b6827c9437b90c9c948b9f1037b",
            "value": "Evaluating: 100%"
          }
        },
        "e8c20cb22ecb40dbaf61959fc7d087cb": {
          "model_module": "@jupyter-widgets/controls",
          "model_module_version": "1.5.0",
          "model_name": "HTMLModel",
          "state": {
            "_dom_classes": [],
            "_model_module": "@jupyter-widgets/controls",
            "_model_module_version": "1.5.0",
            "_model_name": "HTMLModel",
            "_view_count": null,
            "_view_module": "@jupyter-widgets/controls",
            "_view_module_version": "1.5.0",
            "_view_name": "HTMLView",
            "description": "",
            "description_tooltip": null,
            "layout": "IPY_MODEL_90af75e58cef440a8d38ee6621e0f4d1",
            "placeholder": "​",
            "style": "IPY_MODEL_ce0b10aca9064bc092cf3305eb0dab04",
            "value": " 95/95 [00:30&lt;00:00,  1.25it/s]"
          }
        },
        "faa998b429774e4eb6aaaa5477bb6977": {
          "model_module": "@jupyter-widgets/base",
          "model_module_version": "1.2.0",
          "model_name": "LayoutModel",
          "state": {
            "_model_module": "@jupyter-widgets/base",
            "_model_module_version": "1.2.0",
            "_model_name": "LayoutModel",
            "_view_count": null,
            "_view_module": "@jupyter-widgets/base",
            "_view_module_version": "1.2.0",
            "_view_name": "LayoutView",
            "align_content": null,
            "align_items": null,
            "align_self": null,
            "border": null,
            "bottom": null,
            "display": null,
            "flex": null,
            "flex_flow": null,
            "grid_area": null,
            "grid_auto_columns": null,
            "grid_auto_flow": null,
            "grid_auto_rows": null,
            "grid_column": null,
            "grid_gap": null,
            "grid_row": null,
            "grid_template_areas": null,
            "grid_template_columns": null,
            "grid_template_rows": null,
            "height": null,
            "justify_content": null,
            "justify_items": null,
            "left": null,
            "margin": null,
            "max_height": null,
            "max_width": null,
            "min_height": null,
            "min_width": null,
            "object_fit": null,
            "object_position": null,
            "order": null,
            "overflow": null,
            "overflow_x": null,
            "overflow_y": null,
            "padding": null,
            "right": null,
            "top": null,
            "visibility": null,
            "width": null
          }
        },
        "fb306876e3244dc69312e2af46c4da02": {
          "model_module": "@jupyter-widgets/controls",
          "model_module_version": "1.5.0",
          "model_name": "HTMLModel",
          "state": {
            "_dom_classes": [],
            "_model_module": "@jupyter-widgets/controls",
            "_model_module_version": "1.5.0",
            "_model_name": "HTMLModel",
            "_view_count": null,
            "_view_module": "@jupyter-widgets/controls",
            "_view_module_version": "1.5.0",
            "_view_name": "HTMLView",
            "description": "",
            "description_tooltip": null,
            "layout": "IPY_MODEL_d020211480b149cab1761b14ae631eb1",
            "placeholder": "​",
            "style": "IPY_MODEL_63d6044414e24c5ea55efa925f7a3b56",
            "value": " 95/95 [00:24&lt;00:00,  1.20it/s]"
          }
        }
      }
    }
  },
  "nbformat": 4,
  "nbformat_minor": 0
}
